{
 "cells": [
  {
   "cell_type": "markdown",
   "id": "1420f9de-e4c4-4791-b17c-b3f52b303d57",
   "metadata": {},
   "source": [
    "### Creating All Dump Files"
   ]
  },
  {
   "cell_type": "code",
   "execution_count": 1,
   "id": "54e25fc7-f51f-4330-80f6-62dfd6a7e478",
   "metadata": {},
   "outputs": [
    {
     "name": "stdout",
     "output_type": "stream",
     "text": [
      "conn   <sqlite3.Connection object at 0x000002A44A310B80>\n",
      "SQL dump has been written to C:\\Users\\PC\\OneDrive\\Documents\\My docs\\NMD\\Live project\\branches_Dump.sql\n",
      "conn   <sqlite3.Connection object at 0x000002A43A130220>\n",
      "SQL dump has been written to C:\\Users\\PC\\OneDrive\\Documents\\My docs\\NMD\\Live project\\accountsdata_Dump.sql\n",
      "conn   <sqlite3.Connection object at 0x000002A43A130220>\n",
      "SQL dump has been written to C:\\Users\\PC\\OneDrive\\Documents\\My docs\\NMD\\Live project\\customer_data_Dump.sql\n",
      "conn   <sqlite3.Connection object at 0x000002A43A130220>\n",
      "SQL dump has been written to C:\\Users\\PC\\OneDrive\\Documents\\My docs\\NMD\\Live project\\kyc_Dump.sql\n",
      "conn   <sqlite3.Connection object at 0x000002A43A130220>\n",
      "SQL dump has been written to C:\\Users\\PC\\OneDrive\\Documents\\My docs\\NMD\\Live project\\loans_Dump.sql\n",
      "conn   <sqlite3.Connection object at 0x000002A43A130220>\n",
      "SQL dump has been written to C:\\Users\\PC\\OneDrive\\Documents\\My docs\\NMD\\Live project\\payments_Dump.sql\n",
      "conn   <sqlite3.Connection object at 0x000002A43A130220>\n",
      "SQL dump has been written to C:\\Users\\PC\\OneDrive\\Documents\\My docs\\NMD\\Live project\\transactionsdata_Dump.sql\n"
     ]
    }
   ],
   "source": [
    "import pandas as pd\n",
    "import sqlite3\n",
    "\n",
    "def csv_to_sql_dump(csv_file_path, output_sql_file_path, table_name):\n",
    "    try:\n",
    "        df = pd.read_csv(csv_file_path)\n",
    "        conn = sqlite3.connect(\":memory:\")\n",
    "        print(\"conn  \",conn)\n",
    "        df.to_sql(table_name, conn, if_exists=\"replace\", index=False)\n",
    "        with open(output_sql_file_path, \"w\") as f:\n",
    "            for line in conn.iterdump():\n",
    "                f.write(f\"{line}\\n\")\n",
    "        print(f\"SQL dump has been written to {output_sql_file_path}\")\n",
    "    except Exception as e:\n",
    "        print(f\"An error occurred: {e}\")\n",
    "    finally:\n",
    "        conn.close()\n",
    "\n",
    "csv_to_sql_dump(\n",
    "    csv_file_path=r\"C:\\Users\\PC\\OneDrive\\Documents\\My docs\\NMD\\Live project\\branches.csv\",\n",
    "    output_sql_file_path=r\"C:\\Users\\PC\\OneDrive\\Documents\\My docs\\NMD\\Live project\\branches_Dump.sql\",\n",
    "    table_name=\"Branch_Data\")\n",
    "\n",
    "csv_file_path=r\"C:\\Users\\PC\\OneDrive\\Documents\\My docs\\NMD\\Live project\\accountsdata.csv\"\n",
    "output_sql_file_path=r\"C:\\Users\\PC\\OneDrive\\Documents\\My docs\\NMD\\Live project\\accountsdata_Dump.sql\"\n",
    "table_name=\"accounts_data\"\n",
    "csv_to_sql_dump(csv_file_path, output_sql_file_path,table_name)\n",
    "\n",
    "csv_file_path=r\"C:\\Users\\PC\\OneDrive\\Documents\\My docs\\NMD\\Live project\\customer_data.csv\"\n",
    "output_sql_file_path=r\"C:\\Users\\PC\\OneDrive\\Documents\\My docs\\NMD\\Live project\\customer_data_Dump.sql\"\n",
    "table_name=\"customer_data\"\n",
    "csv_to_sql_dump(csv_file_path, output_sql_file_path,table_name)\n",
    "\n",
    "csv_file_path=r\"C:\\Users\\PC\\OneDrive\\Documents\\My docs\\NMD\\Live project\\kyc.csv\"\n",
    "output_sql_file_path=r\"C:\\Users\\PC\\OneDrive\\Documents\\My docs\\NMD\\Live project\\kyc_Dump.sql\"\n",
    "table_name=\"kyc_data\"\n",
    "csv_to_sql_dump(csv_file_path, output_sql_file_path,table_name)\n",
    "\n",
    "csv_file_path=r\"C:\\Users\\PC\\OneDrive\\Documents\\My docs\\NMD\\Live project\\loans.csv\"\n",
    "output_sql_file_path=r\"C:\\Users\\PC\\OneDrive\\Documents\\My docs\\NMD\\Live project\\loans_Dump.sql\"\n",
    "table_name=\"loans_data\"\n",
    "csv_to_sql_dump(csv_file_path, output_sql_file_path,table_name)\n",
    "\n",
    "csv_file_path=r\"C:\\Users\\PC\\OneDrive\\Documents\\My docs\\NMD\\Live project\\payments.csv\"\n",
    "output_sql_file_path=r\"C:\\Users\\PC\\OneDrive\\Documents\\My docs\\NMD\\Live project\\payments_Dump.sql\"\n",
    "table_name=\"payments_data\"\n",
    "csv_to_sql_dump(csv_file_path, output_sql_file_path,table_name)\n",
    "\n",
    "csv_file_path=r\"C:\\Users\\PC\\OneDrive\\Documents\\My docs\\NMD\\Live project\\transactionsdata.csv\"\n",
    "output_sql_file_path=r\"C:\\Users\\PC\\OneDrive\\Documents\\My docs\\NMD\\Live project\\transactionsdata_Dump.sql\"\n",
    "table_name=\"transactions_data\"\n",
    "csv_to_sql_dump(csv_file_path, output_sql_file_path,table_name)"
   ]
  },
  {
   "cell_type": "code",
   "execution_count": 2,
   "id": "2897c29e-a836-4172-9441-2c49a9374290",
   "metadata": {},
   "outputs": [
    {
     "name": "stdout",
     "output_type": "stream",
     "text": [
      "Connected to the finance_project database\n",
      "Database connection closed\n"
     ]
    }
   ],
   "source": [
    "import mysql.connector\n",
    "from mysql.connector import Error\n",
    "\n",
    "def connect_to_database():\n",
    "    try:\n",
    "        connection = mysql.connector.connect(\n",
    "            user = 'root',\n",
    "            host = 'localhost',\n",
    "            database='finance_project',\n",
    "            password = 'mysql@1722'\n",
    "        )\n",
    "\n",
    "        if connection.is_connected():\n",
    "            print(\"Connected to the finance_project database\")\n",
    "            return connection\n",
    "    except Error as e:\n",
    "        print(f\"Error: {e}\")\n",
    "        return None\n",
    "\n",
    "# Calling the fn. to connect\n",
    "db_connection = connect_to_database()\n",
    "\n",
    "# Closing the connection after completion\n",
    "if db_connection:\n",
    "    db_connection.close()\n",
    "    print(\"Database connection closed\")"
   ]
  },
  {
   "cell_type": "code",
   "execution_count": 3,
   "id": "3e2c0d03-5a4b-432d-a574-835c25e858f7",
   "metadata": {},
   "outputs": [
    {
     "name": "stdout",
     "output_type": "stream",
     "text": [
      "Connected to the finance_project database\n",
      "SQL dump imported successfully from C:\\Users\\PC\\OneDrive\\Documents\\My docs\\NMD\\Live project\\branches_Dump.sql\n",
      "SQL dump imported successfully from C:\\Users\\PC\\OneDrive\\Documents\\My docs\\NMD\\Live project\\accountsdata_Dump.sql\n",
      "SQL dump imported successfully from C:\\Users\\PC\\OneDrive\\Documents\\My docs\\NMD\\Live project\\customer_data_Dump.sql\n",
      "SQL dump imported successfully from C:\\Users\\PC\\OneDrive\\Documents\\My docs\\NMD\\Live project\\kyc_Dump.sql\n",
      "SQL dump imported successfully from C:\\Users\\PC\\OneDrive\\Documents\\My docs\\NMD\\Live project\\loans_Dump.sql\n",
      "SQL dump imported successfully from C:\\Users\\PC\\OneDrive\\Documents\\My docs\\NMD\\Live project\\payments_Dump.sql\n",
      "SQL dump imported successfully from C:\\Users\\PC\\OneDrive\\Documents\\My docs\\NMD\\Live project\\transactionsdata_Dump.sql\n"
     ]
    }
   ],
   "source": [
    "import mysql.connector\n",
    "from mysql.connector import Error\n",
    "\n",
    "def import_sql_dump(db_connection, sql_file_path):\n",
    "    \"\"\"Imports SQL dump file into the specified database.\n",
    "\n",
    "    Args:\n",
    "        db_connection: A MySQL database connection object.\n",
    "        sql_file_path: Path to the SQL dump file.\n",
    "    \"\"\"\n",
    "\n",
    "    try:\n",
    "        cursor = db_connection.cursor()\n",
    "        with open(sql_file_path, 'r') as f:\n",
    "            sql_script = f.read()\n",
    "        cursor.execute(sql_script, multi=True)\n",
    "        db_connection.commit()\n",
    "        print(f\"SQL dump imported successfully from {sql_file_path}\")\n",
    "    except Error as e:\n",
    "        print(f\"Error importing SQL dump: {e}\")\n",
    "    finally:\n",
    "        cursor.close()\n",
    "\n",
    "# Establish database connection\n",
    "db_connection = connect_to_database()\n",
    "\n",
    "# List of SQL dump files\n",
    "sql_files = [\n",
    "    r\"C:\\Users\\PC\\OneDrive\\Documents\\My docs\\NMD\\Live project\\branches_Dump.sql\",\n",
    "    r\"C:\\Users\\PC\\OneDrive\\Documents\\My docs\\NMD\\Live project\\accountsdata_Dump.sql\",\n",
    "    r\"C:\\Users\\PC\\OneDrive\\Documents\\My docs\\NMD\\Live project\\customer_data_Dump.sql\", \n",
    "    r\"C:\\Users\\PC\\OneDrive\\Documents\\My docs\\NMD\\Live project\\kyc_Dump.sql\", \n",
    "    r\"C:\\Users\\PC\\OneDrive\\Documents\\My docs\\NMD\\Live project\\loans_Dump.sql\", \n",
    "    r\"C:\\Users\\PC\\OneDrive\\Documents\\My docs\\NMD\\Live project\\payments_Dump.sql\",\n",
    "    r\"C:\\Users\\PC\\OneDrive\\Documents\\My docs\\NMD\\Live project\\transactionsdata_Dump.sql\"\n",
    "]\n",
    "\n",
    "# Import each SQL dump file\n",
    "for sql_file in sql_files:\n",
    "    import_sql_dump(db_connection, sql_file)\n",
    "\n",
    "# Close the database connection\n",
    "db_connection.close()"
   ]
  },
  {
   "cell_type": "code",
   "execution_count": null,
   "id": "4bd16c54-6e50-48c0-ad09-d888bbcea8b3",
   "metadata": {},
   "outputs": [],
   "source": []
  },
  {
   "cell_type": "code",
   "execution_count": null,
   "id": "93528a6c-3202-4494-8f8f-20c3b06c3d8c",
   "metadata": {},
   "outputs": [],
   "source": []
  },
  {
   "cell_type": "markdown",
   "id": "3f2934bd-b92d-4c46-ba96-67dd2a32e1e9",
   "metadata": {},
   "source": [
    "## Importing required libraries"
   ]
  },
  {
   "cell_type": "code",
   "execution_count": 1,
   "id": "83ec2245-841c-47dc-89a3-5ea656a98197",
   "metadata": {},
   "outputs": [],
   "source": [
    "import numpy as np\n",
    "import pandas as pd\n",
    "import matplotlib.pyplot as plt\n",
    "%matplotlib inline\n",
    "import seaborn as sns"
   ]
  },
  {
   "cell_type": "markdown",
   "id": "3c468f93-27bc-4690-b14f-ab8ad411d605",
   "metadata": {},
   "source": [
    "### Accounts dataset"
   ]
  },
  {
   "cell_type": "markdown",
   "id": "908370f5-b8ec-4c18-9aa5-2b855b52cd1a",
   "metadata": {},
   "source": [
    "#### Step-1 : Data Understanding"
   ]
  },
  {
   "cell_type": "code",
   "execution_count": 2,
   "id": "fe357d04-e914-4e69-92e7-4695fa319b1b",
   "metadata": {},
   "outputs": [
    {
     "data": {
      "text/html": [
       "<div>\n",
       "<style scoped>\n",
       "    .dataframe tbody tr th:only-of-type {\n",
       "        vertical-align: middle;\n",
       "    }\n",
       "\n",
       "    .dataframe tbody tr th {\n",
       "        vertical-align: top;\n",
       "    }\n",
       "\n",
       "    .dataframe thead th {\n",
       "        text-align: right;\n",
       "    }\n",
       "</style>\n",
       "<table border=\"1\" class=\"dataframe\">\n",
       "  <thead>\n",
       "    <tr style=\"text-align: right;\">\n",
       "      <th></th>\n",
       "      <th>account_id</th>\n",
       "      <th>customer_id</th>\n",
       "      <th>branch_id</th>\n",
       "      <th>account_type</th>\n",
       "      <th>balance</th>\n",
       "    </tr>\n",
       "  </thead>\n",
       "  <tbody>\n",
       "    <tr>\n",
       "      <th>0</th>\n",
       "      <td>261.0</td>\n",
       "      <td>780.0</td>\n",
       "      <td>9.0</td>\n",
       "      <td>Savings</td>\n",
       "      <td>39823.92</td>\n",
       "    </tr>\n",
       "    <tr>\n",
       "      <th>1</th>\n",
       "      <td>NaN</td>\n",
       "      <td>NaN</td>\n",
       "      <td>NaN</td>\n",
       "      <td>Savings</td>\n",
       "      <td>29520.04</td>\n",
       "    </tr>\n",
       "    <tr>\n",
       "      <th>2</th>\n",
       "      <td>846.0</td>\n",
       "      <td>711.0</td>\n",
       "      <td>5.0</td>\n",
       "      <td>Savings</td>\n",
       "      <td>48574.25</td>\n",
       "    </tr>\n",
       "    <tr>\n",
       "      <th>3</th>\n",
       "      <td>5.0</td>\n",
       "      <td>226.0</td>\n",
       "      <td>9.0</td>\n",
       "      <td>Savings</td>\n",
       "      <td>3631.82</td>\n",
       "    </tr>\n",
       "    <tr>\n",
       "      <th>4</th>\n",
       "      <td>89.0</td>\n",
       "      <td>923.0</td>\n",
       "      <td>2.0</td>\n",
       "      <td>Current</td>\n",
       "      <td>3463.25</td>\n",
       "    </tr>\n",
       "    <tr>\n",
       "      <th>...</th>\n",
       "      <td>...</td>\n",
       "      <td>...</td>\n",
       "      <td>...</td>\n",
       "      <td>...</td>\n",
       "      <td>...</td>\n",
       "    </tr>\n",
       "    <tr>\n",
       "      <th>1049</th>\n",
       "      <td>331.0</td>\n",
       "      <td>856.0</td>\n",
       "      <td>5.0</td>\n",
       "      <td>Savings</td>\n",
       "      <td>15573.92</td>\n",
       "    </tr>\n",
       "    <tr>\n",
       "      <th>1050</th>\n",
       "      <td>467.0</td>\n",
       "      <td>246.0</td>\n",
       "      <td>10.0</td>\n",
       "      <td>Savings</td>\n",
       "      <td>1784.18</td>\n",
       "    </tr>\n",
       "    <tr>\n",
       "      <th>1051</th>\n",
       "      <td>122.0</td>\n",
       "      <td>111.0</td>\n",
       "      <td>5.0</td>\n",
       "      <td>Savings</td>\n",
       "      <td>14402.99</td>\n",
       "    </tr>\n",
       "    <tr>\n",
       "      <th>1052</th>\n",
       "      <td>982.0</td>\n",
       "      <td>784.0</td>\n",
       "      <td>3.0</td>\n",
       "      <td>Savings</td>\n",
       "      <td>22647.17</td>\n",
       "    </tr>\n",
       "    <tr>\n",
       "      <th>1053</th>\n",
       "      <td>861.0</td>\n",
       "      <td>126.0</td>\n",
       "      <td>1.0</td>\n",
       "      <td>Savings</td>\n",
       "      <td>49541.05</td>\n",
       "    </tr>\n",
       "  </tbody>\n",
       "</table>\n",
       "<p>1054 rows × 5 columns</p>\n",
       "</div>"
      ],
      "text/plain": [
       "      account_id  customer_id  branch_id account_type   balance\n",
       "0          261.0        780.0        9.0      Savings  39823.92\n",
       "1            NaN          NaN        NaN      Savings  29520.04\n",
       "2          846.0        711.0        5.0      Savings  48574.25\n",
       "3            5.0        226.0        9.0      Savings   3631.82\n",
       "4           89.0        923.0        2.0      Current   3463.25\n",
       "...          ...          ...        ...          ...       ...\n",
       "1049       331.0        856.0        5.0      Savings  15573.92\n",
       "1050       467.0        246.0       10.0      Savings   1784.18\n",
       "1051       122.0        111.0        5.0      Savings  14402.99\n",
       "1052       982.0        784.0        3.0      Savings  22647.17\n",
       "1053       861.0        126.0        1.0      Savings  49541.05\n",
       "\n",
       "[1054 rows x 5 columns]"
      ]
     },
     "execution_count": 2,
     "metadata": {},
     "output_type": "execute_result"
    }
   ],
   "source": [
    "account_df = pd.read_csv(r\"C:\\Users\\PC\\OneDrive\\Documents\\My docs\\NMD\\Live project\\accountsdata.csv\")\n",
    "account_df"
   ]
  },
  {
   "cell_type": "code",
   "execution_count": 3,
   "id": "3ec0497c-d2e2-4758-b8cd-1114d7aaff62",
   "metadata": {},
   "outputs": [
    {
     "name": "stdout",
     "output_type": "stream",
     "text": [
      "<class 'pandas.core.frame.DataFrame'>\n",
      "RangeIndex: 1054 entries, 0 to 1053\n",
      "Data columns (total 5 columns):\n",
      " #   Column        Non-Null Count  Dtype  \n",
      "---  ------        --------------  -----  \n",
      " 0   account_id    1043 non-null   float64\n",
      " 1   customer_id   1043 non-null   float64\n",
      " 2   branch_id     1043 non-null   float64\n",
      " 3   account_type  1054 non-null   object \n",
      " 4   balance       1054 non-null   float64\n",
      "dtypes: float64(4), object(1)\n",
      "memory usage: 41.3+ KB\n"
     ]
    }
   ],
   "source": [
    "account_df.info()"
   ]
  },
  {
   "cell_type": "code",
   "execution_count": 4,
   "id": "fc3898a2-9d86-4873-b28c-84dde47e4b18",
   "metadata": {},
   "outputs": [
    {
     "data": {
      "text/html": [
       "<div>\n",
       "<style scoped>\n",
       "    .dataframe tbody tr th:only-of-type {\n",
       "        vertical-align: middle;\n",
       "    }\n",
       "\n",
       "    .dataframe tbody tr th {\n",
       "        vertical-align: top;\n",
       "    }\n",
       "\n",
       "    .dataframe thead th {\n",
       "        text-align: right;\n",
       "    }\n",
       "</style>\n",
       "<table border=\"1\" class=\"dataframe\">\n",
       "  <thead>\n",
       "    <tr style=\"text-align: right;\">\n",
       "      <th></th>\n",
       "      <th>account_id</th>\n",
       "      <th>customer_id</th>\n",
       "      <th>branch_id</th>\n",
       "      <th>balance</th>\n",
       "    </tr>\n",
       "  </thead>\n",
       "  <tbody>\n",
       "    <tr>\n",
       "      <th>count</th>\n",
       "      <td>1043.000000</td>\n",
       "      <td>1043.000000</td>\n",
       "      <td>1043.000000</td>\n",
       "      <td>1054.000000</td>\n",
       "    </tr>\n",
       "    <tr>\n",
       "      <th>mean</th>\n",
       "      <td>499.881112</td>\n",
       "      <td>505.144775</td>\n",
       "      <td>5.473634</td>\n",
       "      <td>25631.211376</td>\n",
       "    </tr>\n",
       "    <tr>\n",
       "      <th>std</th>\n",
       "      <td>299.427091</td>\n",
       "      <td>293.175220</td>\n",
       "      <td>2.868524</td>\n",
       "      <td>14142.712068</td>\n",
       "    </tr>\n",
       "    <tr>\n",
       "      <th>min</th>\n",
       "      <td>1.000000</td>\n",
       "      <td>1.000000</td>\n",
       "      <td>1.000000</td>\n",
       "      <td>-4.000000</td>\n",
       "    </tr>\n",
       "    <tr>\n",
       "      <th>25%</th>\n",
       "      <td>239.500000</td>\n",
       "      <td>250.000000</td>\n",
       "      <td>3.000000</td>\n",
       "      <td>13494.860000</td>\n",
       "    </tr>\n",
       "    <tr>\n",
       "      <th>50%</th>\n",
       "      <td>500.000000</td>\n",
       "      <td>506.000000</td>\n",
       "      <td>5.000000</td>\n",
       "      <td>25913.790000</td>\n",
       "    </tr>\n",
       "    <tr>\n",
       "      <th>75%</th>\n",
       "      <td>760.500000</td>\n",
       "      <td>769.500000</td>\n",
       "      <td>8.000000</td>\n",
       "      <td>37605.367500</td>\n",
       "    </tr>\n",
       "    <tr>\n",
       "      <th>max</th>\n",
       "      <td>1000.000000</td>\n",
       "      <td>1000.000000</td>\n",
       "      <td>10.000000</td>\n",
       "      <td>49999.930000</td>\n",
       "    </tr>\n",
       "  </tbody>\n",
       "</table>\n",
       "</div>"
      ],
      "text/plain": [
       "        account_id  customer_id    branch_id       balance\n",
       "count  1043.000000  1043.000000  1043.000000   1054.000000\n",
       "mean    499.881112   505.144775     5.473634  25631.211376\n",
       "std     299.427091   293.175220     2.868524  14142.712068\n",
       "min       1.000000     1.000000     1.000000     -4.000000\n",
       "25%     239.500000   250.000000     3.000000  13494.860000\n",
       "50%     500.000000   506.000000     5.000000  25913.790000\n",
       "75%     760.500000   769.500000     8.000000  37605.367500\n",
       "max    1000.000000  1000.000000    10.000000  49999.930000"
      ]
     },
     "execution_count": 4,
     "metadata": {},
     "output_type": "execute_result"
    }
   ],
   "source": [
    "account_df.describe()"
   ]
  },
  {
   "cell_type": "code",
   "execution_count": 5,
   "id": "b57d5a72-53c2-4f4a-ac08-ef35d48ebe53",
   "metadata": {},
   "outputs": [
    {
     "data": {
      "text/plain": [
       "(1054, 5)"
      ]
     },
     "execution_count": 5,
     "metadata": {},
     "output_type": "execute_result"
    }
   ],
   "source": [
    "account_df.shape"
   ]
  },
  {
   "cell_type": "code",
   "execution_count": 6,
   "id": "89cc5d0b-17b5-4a7f-8416-7801ce2e844e",
   "metadata": {},
   "outputs": [
    {
     "data": {
      "text/plain": [
       "account_id      float64\n",
       "customer_id     float64\n",
       "branch_id       float64\n",
       "account_type     object\n",
       "balance         float64\n",
       "dtype: object"
      ]
     },
     "execution_count": 6,
     "metadata": {},
     "output_type": "execute_result"
    }
   ],
   "source": [
    "account_df.dtypes"
   ]
  },
  {
   "cell_type": "code",
   "execution_count": 7,
   "id": "bcde2a45-f140-42a5-b3fd-2fce0af37e36",
   "metadata": {},
   "outputs": [],
   "source": [
    "account_df_copy = account_df.copy()"
   ]
  },
  {
   "cell_type": "markdown",
   "id": "273998eb-4c7c-4f1d-965a-bf1aad936488",
   "metadata": {},
   "source": [
    "### Step-2 Data Cleaning"
   ]
  },
  {
   "cell_type": "markdown",
   "id": "103c198a-1dd4-4741-9a47-e5d9a2429281",
   "metadata": {},
   "source": [
    "#### 2.1 Handeling Null"
   ]
  },
  {
   "cell_type": "code",
   "execution_count": 8,
   "id": "3d5a1330-64b4-4b5d-bc7b-582f20a26344",
   "metadata": {},
   "outputs": [
    {
     "data": {
      "text/plain": [
       "account_id      11\n",
       "customer_id     11\n",
       "branch_id       11\n",
       "account_type     0\n",
       "balance          0\n",
       "dtype: int64"
      ]
     },
     "execution_count": 8,
     "metadata": {},
     "output_type": "execute_result"
    }
   ],
   "source": [
    "account_df.isnull().sum()"
   ]
  },
  {
   "cell_type": "code",
   "execution_count": 9,
   "id": "7e83f5e3-7dc4-45bc-935f-3d0171928950",
   "metadata": {},
   "outputs": [
    {
     "data": {
      "text/plain": [
       "np.int64(33)"
      ]
     },
     "execution_count": 9,
     "metadata": {},
     "output_type": "execute_result"
    }
   ],
   "source": [
    "account_df.isnull().sum().sum()"
   ]
  },
  {
   "cell_type": "code",
   "execution_count": 10,
   "id": "f0356f38-f8cb-4e5d-a2ec-682e8e91a575",
   "metadata": {},
   "outputs": [],
   "source": [
    "account_df.dropna(inplace=True)"
   ]
  },
  {
   "cell_type": "code",
   "execution_count": 11,
   "id": "41656949-7657-4c71-acb7-69a273d97c80",
   "metadata": {},
   "outputs": [
    {
     "name": "stdout",
     "output_type": "stream",
     "text": [
      "<class 'pandas.core.frame.DataFrame'>\n",
      "Index: 1043 entries, 0 to 1053\n",
      "Data columns (total 5 columns):\n",
      " #   Column        Non-Null Count  Dtype  \n",
      "---  ------        --------------  -----  \n",
      " 0   account_id    1043 non-null   float64\n",
      " 1   customer_id   1043 non-null   float64\n",
      " 2   branch_id     1043 non-null   float64\n",
      " 3   account_type  1043 non-null   object \n",
      " 4   balance       1043 non-null   float64\n",
      "dtypes: float64(4), object(1)\n",
      "memory usage: 48.9+ KB\n"
     ]
    }
   ],
   "source": [
    "account_df.info()"
   ]
  },
  {
   "cell_type": "code",
   "execution_count": 12,
   "id": "6e6300ec-64a8-4be2-87d7-b048623ae398",
   "metadata": {},
   "outputs": [
    {
     "data": {
      "text/plain": [
       "(1043, 5)"
      ]
     },
     "execution_count": 12,
     "metadata": {},
     "output_type": "execute_result"
    }
   ],
   "source": [
    "account_df.shape"
   ]
  },
  {
   "cell_type": "markdown",
   "id": "d2259241-067b-40d7-9794-7a3f3821c868",
   "metadata": {},
   "source": [
    "#### 2.2 Hendeling Duplicates"
   ]
  },
  {
   "cell_type": "code",
   "execution_count": 13,
   "id": "f1076c85-4ead-475b-8a17-05a0d1d4c0fe",
   "metadata": {},
   "outputs": [
    {
     "name": "stdout",
     "output_type": "stream",
     "text": [
      "43\n"
     ]
    }
   ],
   "source": [
    "print(account_df.duplicated().sum())"
   ]
  },
  {
   "cell_type": "code",
   "execution_count": 15,
   "id": "64133d11-bed4-4a70-8a9d-cdd00802b913",
   "metadata": {},
   "outputs": [],
   "source": [
    "def analyze_dataframe(df):\n",
    "\n",
    "  column_names = df.columns.tolist()\n",
    "  duplicate_counts = {}\n",
    "\n",
    "  for column in column_names:\n",
    "    duplicate_counts[column] = df[column].duplicated().sum()\n",
    "\n",
    "  return {\n",
    "      \"column_names\": column_names,\n",
    "      \"duplicate_counts\": duplicate_counts}"
   ]
  },
  {
   "cell_type": "code",
   "execution_count": 16,
   "id": "1d2defd7-09fb-4070-9be6-233a8aab035b",
   "metadata": {},
   "outputs": [
    {
     "name": "stdout",
     "output_type": "stream",
     "text": [
      "{'column_names': ['account_id', 'customer_id', 'branch_id', 'account_type', 'balance'], 'duplicate_counts': {'account_id': np.int64(43), 'customer_id': np.int64(398), 'branch_id': np.int64(1033), 'account_type': np.int64(1041), 'balance': np.int64(43)}}\n"
     ]
    }
   ],
   "source": [
    "print(analyze_dataframe(account_df))"
   ]
  },
  {
   "cell_type": "code",
   "execution_count": 17,
   "id": "153af0cd-93bc-4bf5-ab7e-e59d1c72e9ce",
   "metadata": {},
   "outputs": [],
   "source": [
    "account_df.drop_duplicates(inplace=True)"
   ]
  },
  {
   "cell_type": "code",
   "execution_count": 18,
   "id": "fab005c3-d522-40a3-b19a-58a2b322ed92",
   "metadata": {},
   "outputs": [
    {
     "name": "stdout",
     "output_type": "stream",
     "text": [
      "<class 'pandas.core.frame.DataFrame'>\n",
      "Index: 1000 entries, 0 to 1053\n",
      "Data columns (total 5 columns):\n",
      " #   Column        Non-Null Count  Dtype  \n",
      "---  ------        --------------  -----  \n",
      " 0   account_id    1000 non-null   float64\n",
      " 1   customer_id   1000 non-null   float64\n",
      " 2   branch_id     1000 non-null   float64\n",
      " 3   account_type  1000 non-null   object \n",
      " 4   balance       1000 non-null   float64\n",
      "dtypes: float64(4), object(1)\n",
      "memory usage: 46.9+ KB\n"
     ]
    }
   ],
   "source": [
    "account_df.info()"
   ]
  },
  {
   "cell_type": "code",
   "execution_count": 19,
   "id": "1c4d8b38-da79-4c6e-a9ed-8736470d3c46",
   "metadata": {},
   "outputs": [
    {
     "data": {
      "text/plain": [
       "(1000, 5)"
      ]
     },
     "execution_count": 19,
     "metadata": {},
     "output_type": "execute_result"
    }
   ],
   "source": [
    "account_df.shape"
   ]
  },
  {
   "cell_type": "code",
   "execution_count": 20,
   "id": "11125daf-d562-4d44-a40c-6db936122482",
   "metadata": {},
   "outputs": [
    {
     "data": {
      "text/plain": [
       "account_id      float64\n",
       "customer_id     float64\n",
       "branch_id       float64\n",
       "account_type     object\n",
       "balance         float64\n",
       "dtype: object"
      ]
     },
     "execution_count": 20,
     "metadata": {},
     "output_type": "execute_result"
    }
   ],
   "source": [
    "account_df.dtypes"
   ]
  },
  {
   "cell_type": "code",
   "execution_count": 21,
   "id": "86c6d7fc-432f-494b-ae07-54443bb34dfb",
   "metadata": {},
   "outputs": [],
   "source": [
    "account_df['account_id'] = account_df['account_id'].astype(int)"
   ]
  },
  {
   "cell_type": "code",
   "execution_count": 22,
   "id": "39f86b91-a275-4bca-86c0-9b2a303683f9",
   "metadata": {},
   "outputs": [],
   "source": [
    "account_df['customer_id'] = account_df['customer_id'].astype(int)"
   ]
  },
  {
   "cell_type": "code",
   "execution_count": 23,
   "id": "08407d54-5c1b-4848-8444-3a99adf2c6a1",
   "metadata": {},
   "outputs": [],
   "source": [
    "account_df['branch_id'] = account_df['branch_id'].astype(int)"
   ]
  },
  {
   "cell_type": "code",
   "execution_count": 24,
   "id": "b93d435d-c6bc-4da4-949b-e54c9d239859",
   "metadata": {},
   "outputs": [
    {
     "data": {
      "text/plain": [
       "account_id        int64\n",
       "customer_id       int64\n",
       "branch_id         int64\n",
       "account_type     object\n",
       "balance         float64\n",
       "dtype: object"
      ]
     },
     "execution_count": 24,
     "metadata": {},
     "output_type": "execute_result"
    }
   ],
   "source": [
    "account_df.dtypes"
   ]
  },
  {
   "cell_type": "code",
   "execution_count": 25,
   "id": "fb6b6c27-b7a1-4d31-88f6-3f714797d5fd",
   "metadata": {},
   "outputs": [
    {
     "name": "stdout",
     "output_type": "stream",
     "text": [
      "<class 'pandas.core.frame.DataFrame'>\n",
      "Index: 1000 entries, 0 to 1053\n",
      "Data columns (total 5 columns):\n",
      " #   Column        Non-Null Count  Dtype  \n",
      "---  ------        --------------  -----  \n",
      " 0   account_id    1000 non-null   int64  \n",
      " 1   customer_id   1000 non-null   int64  \n",
      " 2   branch_id     1000 non-null   int64  \n",
      " 3   account_type  1000 non-null   object \n",
      " 4   balance       1000 non-null   float64\n",
      "dtypes: float64(1), int64(3), object(1)\n",
      "memory usage: 46.9+ KB\n"
     ]
    }
   ],
   "source": [
    "account_df.info()"
   ]
  },
  {
   "cell_type": "code",
   "execution_count": 26,
   "id": "25f6abe6-e83b-4150-a485-b9de437592ea",
   "metadata": {},
   "outputs": [
    {
     "data": {
      "text/html": [
       "<div>\n",
       "<style scoped>\n",
       "    .dataframe tbody tr th:only-of-type {\n",
       "        vertical-align: middle;\n",
       "    }\n",
       "\n",
       "    .dataframe tbody tr th {\n",
       "        vertical-align: top;\n",
       "    }\n",
       "\n",
       "    .dataframe thead th {\n",
       "        text-align: right;\n",
       "    }\n",
       "</style>\n",
       "<table border=\"1\" class=\"dataframe\">\n",
       "  <thead>\n",
       "    <tr style=\"text-align: right;\">\n",
       "      <th></th>\n",
       "      <th>account_id</th>\n",
       "      <th>customer_id</th>\n",
       "      <th>branch_id</th>\n",
       "      <th>balance</th>\n",
       "    </tr>\n",
       "  </thead>\n",
       "  <tbody>\n",
       "    <tr>\n",
       "      <th>count</th>\n",
       "      <td>1000.000000</td>\n",
       "      <td>1000.000000</td>\n",
       "      <td>1000.000000</td>\n",
       "      <td>1000.000000</td>\n",
       "    </tr>\n",
       "    <tr>\n",
       "      <th>mean</th>\n",
       "      <td>500.500000</td>\n",
       "      <td>503.157000</td>\n",
       "      <td>5.456000</td>\n",
       "      <td>25598.766740</td>\n",
       "    </tr>\n",
       "    <tr>\n",
       "      <th>std</th>\n",
       "      <td>288.819436</td>\n",
       "      <td>293.558101</td>\n",
       "      <td>2.878254</td>\n",
       "      <td>14088.862318</td>\n",
       "    </tr>\n",
       "    <tr>\n",
       "      <th>min</th>\n",
       "      <td>1.000000</td>\n",
       "      <td>1.000000</td>\n",
       "      <td>1.000000</td>\n",
       "      <td>1044.740000</td>\n",
       "    </tr>\n",
       "    <tr>\n",
       "      <th>25%</th>\n",
       "      <td>250.750000</td>\n",
       "      <td>248.750000</td>\n",
       "      <td>3.000000</td>\n",
       "      <td>13551.780000</td>\n",
       "    </tr>\n",
       "    <tr>\n",
       "      <th>50%</th>\n",
       "      <td>500.500000</td>\n",
       "      <td>505.000000</td>\n",
       "      <td>5.000000</td>\n",
       "      <td>25741.040000</td>\n",
       "    </tr>\n",
       "    <tr>\n",
       "      <th>75%</th>\n",
       "      <td>750.250000</td>\n",
       "      <td>768.250000</td>\n",
       "      <td>8.000000</td>\n",
       "      <td>37548.770000</td>\n",
       "    </tr>\n",
       "    <tr>\n",
       "      <th>max</th>\n",
       "      <td>1000.000000</td>\n",
       "      <td>1000.000000</td>\n",
       "      <td>10.000000</td>\n",
       "      <td>49999.930000</td>\n",
       "    </tr>\n",
       "  </tbody>\n",
       "</table>\n",
       "</div>"
      ],
      "text/plain": [
       "        account_id  customer_id    branch_id       balance\n",
       "count  1000.000000  1000.000000  1000.000000   1000.000000\n",
       "mean    500.500000   503.157000     5.456000  25598.766740\n",
       "std     288.819436   293.558101     2.878254  14088.862318\n",
       "min       1.000000     1.000000     1.000000   1044.740000\n",
       "25%     250.750000   248.750000     3.000000  13551.780000\n",
       "50%     500.500000   505.000000     5.000000  25741.040000\n",
       "75%     750.250000   768.250000     8.000000  37548.770000\n",
       "max    1000.000000  1000.000000    10.000000  49999.930000"
      ]
     },
     "execution_count": 26,
     "metadata": {},
     "output_type": "execute_result"
    }
   ],
   "source": [
    "account_df.describe()"
   ]
  },
  {
   "cell_type": "markdown",
   "id": "eb665550-759a-4701-8fac-3db6f4e92686",
   "metadata": {},
   "source": [
    "#### -------------------------------Accounts Data Cleaning completed-----------------------------------"
   ]
  },
  {
   "cell_type": "code",
   "execution_count": null,
   "id": "ae372704-5829-49d2-9ac7-80695e2fa3cf",
   "metadata": {},
   "outputs": [],
   "source": []
  },
  {
   "cell_type": "markdown",
   "id": "c11a026b-6304-45a0-81bd-c551372f8302",
   "metadata": {},
   "source": [
    "### Branches Dataset"
   ]
  },
  {
   "cell_type": "code",
   "execution_count": 27,
   "id": "f892ffe1-e89a-432c-8ed6-ac14cb07c892",
   "metadata": {},
   "outputs": [
    {
     "data": {
      "text/html": [
       "<div>\n",
       "<style scoped>\n",
       "    .dataframe tbody tr th:only-of-type {\n",
       "        vertical-align: middle;\n",
       "    }\n",
       "\n",
       "    .dataframe tbody tr th {\n",
       "        vertical-align: top;\n",
       "    }\n",
       "\n",
       "    .dataframe thead th {\n",
       "        text-align: right;\n",
       "    }\n",
       "</style>\n",
       "<table border=\"1\" class=\"dataframe\">\n",
       "  <thead>\n",
       "    <tr style=\"text-align: right;\">\n",
       "      <th></th>\n",
       "      <th>branch_id</th>\n",
       "      <th>branch_name</th>\n",
       "      <th>branch_address</th>\n",
       "    </tr>\n",
       "  </thead>\n",
       "  <tbody>\n",
       "    <tr>\n",
       "      <th>0</th>\n",
       "      <td>1</td>\n",
       "      <td>O11r</td>\n",
       "      <td>41101P</td>\n",
       "    </tr>\n",
       "    <tr>\n",
       "      <th>1</th>\n",
       "      <td>2</td>\n",
       "      <td>N12n</td>\n",
       "      <td>41102Q</td>\n",
       "    </tr>\n",
       "    <tr>\n",
       "      <th>2</th>\n",
       "      <td>3</td>\n",
       "      <td>R13n</td>\n",
       "      <td>41103R</td>\n",
       "    </tr>\n",
       "    <tr>\n",
       "      <th>3</th>\n",
       "      <td>4</td>\n",
       "      <td>P14i</td>\n",
       "      <td>41104S</td>\n",
       "    </tr>\n",
       "    <tr>\n",
       "      <th>4</th>\n",
       "      <td>5</td>\n",
       "      <td>Y15a</td>\n",
       "      <td>41105T</td>\n",
       "    </tr>\n",
       "    <tr>\n",
       "      <th>5</th>\n",
       "      <td>6</td>\n",
       "      <td>B16a</td>\n",
       "      <td>41106U</td>\n",
       "    </tr>\n",
       "    <tr>\n",
       "      <th>6</th>\n",
       "      <td>7</td>\n",
       "      <td>R17i</td>\n",
       "      <td>41107V</td>\n",
       "    </tr>\n",
       "    <tr>\n",
       "      <th>7</th>\n",
       "      <td>8</td>\n",
       "      <td>V18a</td>\n",
       "      <td>41108W</td>\n",
       "    </tr>\n",
       "    <tr>\n",
       "      <th>8</th>\n",
       "      <td>9</td>\n",
       "      <td>S19i</td>\n",
       "      <td>41109X</td>\n",
       "    </tr>\n",
       "    <tr>\n",
       "      <th>9</th>\n",
       "      <td>10</td>\n",
       "      <td>M20i</td>\n",
       "      <td>411010Y</td>\n",
       "    </tr>\n",
       "  </tbody>\n",
       "</table>\n",
       "</div>"
      ],
      "text/plain": [
       "   branch_id branch_name branch_address\n",
       "0          1        O11r         41101P\n",
       "1          2        N12n         41102Q\n",
       "2          3        R13n         41103R\n",
       "3          4        P14i         41104S\n",
       "4          5        Y15a         41105T\n",
       "5          6        B16a         41106U\n",
       "6          7        R17i         41107V\n",
       "7          8        V18a         41108W\n",
       "8          9        S19i         41109X\n",
       "9         10        M20i        411010Y"
      ]
     },
     "execution_count": 27,
     "metadata": {},
     "output_type": "execute_result"
    }
   ],
   "source": [
    "branches_df = pd.read_csv(r\"C:\\Users\\PC\\OneDrive\\Documents\\My docs\\NMD\\Live project\\branches.csv\")\n",
    "branches_df"
   ]
  },
  {
   "cell_type": "code",
   "execution_count": 28,
   "id": "0f46df1f-1655-4cb9-805b-b06fabe4519e",
   "metadata": {},
   "outputs": [
    {
     "name": "stdout",
     "output_type": "stream",
     "text": [
      "<class 'pandas.core.frame.DataFrame'>\n",
      "RangeIndex: 10 entries, 0 to 9\n",
      "Data columns (total 3 columns):\n",
      " #   Column          Non-Null Count  Dtype \n",
      "---  ------          --------------  ----- \n",
      " 0   branch_id       10 non-null     int64 \n",
      " 1   branch_name     10 non-null     object\n",
      " 2   branch_address  10 non-null     object\n",
      "dtypes: int64(1), object(2)\n",
      "memory usage: 372.0+ bytes\n"
     ]
    }
   ],
   "source": [
    "branches_df.info()"
   ]
  },
  {
   "cell_type": "code",
   "execution_count": null,
   "id": "75b428dc-b779-4f1f-93b4-0e49f588d3e0",
   "metadata": {},
   "outputs": [],
   "source": []
  },
  {
   "cell_type": "markdown",
   "id": "1b86446f-bfd1-44ec-9d33-d70f330df8a0",
   "metadata": {},
   "source": [
    "### Customer Dataset"
   ]
  },
  {
   "cell_type": "markdown",
   "id": "195715f7-fefa-4b2e-ace3-c2d264167105",
   "metadata": {},
   "source": [
    "#### Step-1 Understanding Data"
   ]
  },
  {
   "cell_type": "code",
   "execution_count": 29,
   "id": "8a80fbf0-50ab-44fc-beb6-c6df46d425a5",
   "metadata": {},
   "outputs": [
    {
     "data": {
      "text/html": [
       "<div>\n",
       "<style scoped>\n",
       "    .dataframe tbody tr th:only-of-type {\n",
       "        vertical-align: middle;\n",
       "    }\n",
       "\n",
       "    .dataframe tbody tr th {\n",
       "        vertical-align: top;\n",
       "    }\n",
       "\n",
       "    .dataframe thead th {\n",
       "        text-align: right;\n",
       "    }\n",
       "</style>\n",
       "<table border=\"1\" class=\"dataframe\">\n",
       "  <thead>\n",
       "    <tr style=\"text-align: right;\">\n",
       "      <th></th>\n",
       "      <th>customer_id</th>\n",
       "      <th>first_name</th>\n",
       "      <th>last_name</th>\n",
       "      <th>email</th>\n",
       "      <th>phone</th>\n",
       "      <th>address</th>\n",
       "    </tr>\n",
       "  </thead>\n",
       "  <tbody>\n",
       "    <tr>\n",
       "      <th>0</th>\n",
       "      <td>583.0</td>\n",
       "      <td>Raghav</td>\n",
       "      <td>Sane</td>\n",
       "      <td>jagdish86@example.com</td>\n",
       "      <td>9.150000e+11</td>\n",
       "      <td>570\\nDara Street, Chennai-240844</td>\n",
       "    </tr>\n",
       "    <tr>\n",
       "      <th>1</th>\n",
       "      <td>514.0</td>\n",
       "      <td>Abhiram</td>\n",
       "      <td>Suresh</td>\n",
       "      <td>abhiram46@example.net</td>\n",
       "      <td>9.180000e+11</td>\n",
       "      <td>110, Dhillon Ganj\\nFirozabad 757923</td>\n",
       "    </tr>\n",
       "    <tr>\n",
       "      <th>2</th>\n",
       "      <td>41.0</td>\n",
       "      <td>Mohini</td>\n",
       "      <td>Khare</td>\n",
       "      <td>aadisane@example.net</td>\n",
       "      <td>6.424635e+09</td>\n",
       "      <td>H.No. 072\\nMistry Nagar\\nShivpuri-529503</td>\n",
       "    </tr>\n",
       "    <tr>\n",
       "      <th>3</th>\n",
       "      <td>847.0</td>\n",
       "      <td>Avi</td>\n",
       "      <td>Lanka</td>\n",
       "      <td>mmadan@example.net</td>\n",
       "      <td>8.212147e+09</td>\n",
       "      <td>719, Karpe Ganj\\nGandhidham-140189</td>\n",
       "    </tr>\n",
       "    <tr>\n",
       "      <th>4</th>\n",
       "      <td>500.0</td>\n",
       "      <td>Azad</td>\n",
       "      <td>Ravi</td>\n",
       "      <td>bishakha09@example.org</td>\n",
       "      <td>9.190000e+11</td>\n",
       "      <td>728, Zachariah Circle, Chandrapur-478829</td>\n",
       "    </tr>\n",
       "    <tr>\n",
       "      <th>...</th>\n",
       "      <td>...</td>\n",
       "      <td>...</td>\n",
       "      <td>...</td>\n",
       "      <td>...</td>\n",
       "      <td>...</td>\n",
       "      <td>...</td>\n",
       "    </tr>\n",
       "    <tr>\n",
       "      <th>1129</th>\n",
       "      <td>559.0</td>\n",
       "      <td>Ayush</td>\n",
       "      <td>Apte</td>\n",
       "      <td>devansh87@example.net</td>\n",
       "      <td>9.529537e+09</td>\n",
       "      <td>78/44, Bhandari Marg, Mangalore-887955</td>\n",
       "    </tr>\n",
       "    <tr>\n",
       "      <th>1130</th>\n",
       "      <td>27.0</td>\n",
       "      <td>Anay</td>\n",
       "      <td>Bajaj</td>\n",
       "      <td>bahadurjit92@example.org</td>\n",
       "      <td>9.100000e+11</td>\n",
       "      <td>H.No. 61\\nVarty Zila\\nSrikakulam-922364</td>\n",
       "    </tr>\n",
       "    <tr>\n",
       "      <th>1131</th>\n",
       "      <td>700.0</td>\n",
       "      <td>Yug</td>\n",
       "      <td>Atwal</td>\n",
       "      <td>chasmum89@example.com</td>\n",
       "      <td>9.160000e+11</td>\n",
       "      <td>H.No. 71, Mall Ganj, Sri Ganganagar-873115</td>\n",
       "    </tr>\n",
       "    <tr>\n",
       "      <th>1132</th>\n",
       "      <td>646.0</td>\n",
       "      <td>Simon</td>\n",
       "      <td>Sidhu</td>\n",
       "      <td>sanaya27@example.org</td>\n",
       "      <td>3.425246e+09</td>\n",
       "      <td>H.No. 33\\nSastry, Vadodara 655911</td>\n",
       "    </tr>\n",
       "    <tr>\n",
       "      <th>1133</th>\n",
       "      <td>722.0</td>\n",
       "      <td>Charles</td>\n",
       "      <td>Arora</td>\n",
       "      <td>ishwarkari@example.com</td>\n",
       "      <td>9.120000e+11</td>\n",
       "      <td>997\\nChoudhry Road, Chennai 286959</td>\n",
       "    </tr>\n",
       "  </tbody>\n",
       "</table>\n",
       "<p>1134 rows × 6 columns</p>\n",
       "</div>"
      ],
      "text/plain": [
       "      customer_id first_name last_name                     email  \\\n",
       "0           583.0     Raghav      Sane     jagdish86@example.com   \n",
       "1           514.0    Abhiram    Suresh     abhiram46@example.net   \n",
       "2            41.0     Mohini     Khare      aadisane@example.net   \n",
       "3           847.0        Avi     Lanka        mmadan@example.net   \n",
       "4           500.0       Azad      Ravi    bishakha09@example.org   \n",
       "...           ...        ...       ...                       ...   \n",
       "1129        559.0      Ayush      Apte     devansh87@example.net   \n",
       "1130         27.0       Anay     Bajaj  bahadurjit92@example.org   \n",
       "1131        700.0        Yug     Atwal     chasmum89@example.com   \n",
       "1132        646.0      Simon     Sidhu      sanaya27@example.org   \n",
       "1133        722.0    Charles     Arora    ishwarkari@example.com   \n",
       "\n",
       "             phone                                     address  \n",
       "0     9.150000e+11            570\\nDara Street, Chennai-240844  \n",
       "1     9.180000e+11         110, Dhillon Ganj\\nFirozabad 757923  \n",
       "2     6.424635e+09    H.No. 072\\nMistry Nagar\\nShivpuri-529503  \n",
       "3     8.212147e+09          719, Karpe Ganj\\nGandhidham-140189  \n",
       "4     9.190000e+11    728, Zachariah Circle, Chandrapur-478829  \n",
       "...            ...                                         ...  \n",
       "1129  9.529537e+09      78/44, Bhandari Marg, Mangalore-887955  \n",
       "1130  9.100000e+11     H.No. 61\\nVarty Zila\\nSrikakulam-922364  \n",
       "1131  9.160000e+11  H.No. 71, Mall Ganj, Sri Ganganagar-873115  \n",
       "1132  3.425246e+09           H.No. 33\\nSastry, Vadodara 655911  \n",
       "1133  9.120000e+11          997\\nChoudhry Road, Chennai 286959  \n",
       "\n",
       "[1134 rows x 6 columns]"
      ]
     },
     "execution_count": 29,
     "metadata": {},
     "output_type": "execute_result"
    }
   ],
   "source": [
    "customer_df = pd.read_csv(r\"C:\\Users\\PC\\OneDrive\\Documents\\My docs\\NMD\\Live project\\customer_data.csv\")\n",
    "customer_df"
   ]
  },
  {
   "cell_type": "code",
   "execution_count": 30,
   "id": "cbfd8e5d-aa3a-483f-bde7-df0b5463fed9",
   "metadata": {},
   "outputs": [
    {
     "name": "stdout",
     "output_type": "stream",
     "text": [
      "<class 'pandas.core.frame.DataFrame'>\n",
      "RangeIndex: 1134 entries, 0 to 1133\n",
      "Data columns (total 6 columns):\n",
      " #   Column       Non-Null Count  Dtype  \n",
      "---  ------       --------------  -----  \n",
      " 0   customer_id  1124 non-null   float64\n",
      " 1   first_name   1132 non-null   object \n",
      " 2   last_name    1127 non-null   object \n",
      " 3   email        1119 non-null   object \n",
      " 4   phone        1129 non-null   float64\n",
      " 5   address      1123 non-null   object \n",
      "dtypes: float64(2), object(4)\n",
      "memory usage: 53.3+ KB\n"
     ]
    }
   ],
   "source": [
    "customer_df.info()"
   ]
  },
  {
   "cell_type": "code",
   "execution_count": 31,
   "id": "760a59f6-ba55-4e20-b1ed-06d094a63978",
   "metadata": {},
   "outputs": [
    {
     "data": {
      "text/html": [
       "<div>\n",
       "<style scoped>\n",
       "    .dataframe tbody tr th:only-of-type {\n",
       "        vertical-align: middle;\n",
       "    }\n",
       "\n",
       "    .dataframe tbody tr th {\n",
       "        vertical-align: top;\n",
       "    }\n",
       "\n",
       "    .dataframe thead th {\n",
       "        text-align: right;\n",
       "    }\n",
       "</style>\n",
       "<table border=\"1\" class=\"dataframe\">\n",
       "  <thead>\n",
       "    <tr style=\"text-align: right;\">\n",
       "      <th></th>\n",
       "      <th>customer_id</th>\n",
       "      <th>phone</th>\n",
       "    </tr>\n",
       "  </thead>\n",
       "  <tbody>\n",
       "    <tr>\n",
       "      <th>count</th>\n",
       "      <td>1124.000000</td>\n",
       "      <td>1.129000e+03</td>\n",
       "    </tr>\n",
       "    <tr>\n",
       "      <th>mean</th>\n",
       "      <td>512.323843</td>\n",
       "      <td>3.345591e+11</td>\n",
       "    </tr>\n",
       "    <tr>\n",
       "      <th>std</th>\n",
       "      <td>496.303976</td>\n",
       "      <td>4.375203e+11</td>\n",
       "    </tr>\n",
       "    <tr>\n",
       "      <th>min</th>\n",
       "      <td>1.000000</td>\n",
       "      <td>-1.000000e+03</td>\n",
       "    </tr>\n",
       "    <tr>\n",
       "      <th>25%</th>\n",
       "      <td>239.750000</td>\n",
       "      <td>3.782770e+09</td>\n",
       "    </tr>\n",
       "    <tr>\n",
       "      <th>50%</th>\n",
       "      <td>496.500000</td>\n",
       "      <td>7.865452e+09</td>\n",
       "    </tr>\n",
       "    <tr>\n",
       "      <th>75%</th>\n",
       "      <td>749.250000</td>\n",
       "      <td>9.130000e+11</td>\n",
       "    </tr>\n",
       "    <tr>\n",
       "      <th>max</th>\n",
       "      <td>10012.000000</td>\n",
       "      <td>9.200000e+11</td>\n",
       "    </tr>\n",
       "  </tbody>\n",
       "</table>\n",
       "</div>"
      ],
      "text/plain": [
       "        customer_id         phone\n",
       "count   1124.000000  1.129000e+03\n",
       "mean     512.323843  3.345591e+11\n",
       "std      496.303976  4.375203e+11\n",
       "min        1.000000 -1.000000e+03\n",
       "25%      239.750000  3.782770e+09\n",
       "50%      496.500000  7.865452e+09\n",
       "75%      749.250000  9.130000e+11\n",
       "max    10012.000000  9.200000e+11"
      ]
     },
     "execution_count": 31,
     "metadata": {},
     "output_type": "execute_result"
    }
   ],
   "source": [
    "customer_df.describe()"
   ]
  },
  {
   "cell_type": "code",
   "execution_count": 32,
   "id": "5f7dcd6b-d19c-4940-89dc-ceff72b2d300",
   "metadata": {},
   "outputs": [
    {
     "data": {
      "text/plain": [
       "(1134, 6)"
      ]
     },
     "execution_count": 32,
     "metadata": {},
     "output_type": "execute_result"
    }
   ],
   "source": [
    "customer_df.shape"
   ]
  },
  {
   "cell_type": "code",
   "execution_count": 33,
   "id": "eb2c09cb-f6e9-4c05-9ee1-4a2048479505",
   "metadata": {},
   "outputs": [
    {
     "data": {
      "text/plain": [
       "customer_id    float64\n",
       "first_name      object\n",
       "last_name       object\n",
       "email           object\n",
       "phone          float64\n",
       "address         object\n",
       "dtype: object"
      ]
     },
     "execution_count": 33,
     "metadata": {},
     "output_type": "execute_result"
    }
   ],
   "source": [
    "customer_df.dtypes"
   ]
  },
  {
   "cell_type": "code",
   "execution_count": 34,
   "id": "d4c1915f-b374-4884-9afa-38c8b5f18f2d",
   "metadata": {},
   "outputs": [],
   "source": [
    "customer_df_copy = customer_df.copy()"
   ]
  },
  {
   "cell_type": "markdown",
   "id": "9f885500-7ead-4afe-bcd1-e79f241a17c4",
   "metadata": {},
   "source": [
    "#### Step-2 Data Cleaning"
   ]
  },
  {
   "cell_type": "markdown",
   "id": "21e45008-c62f-496c-9369-a46b46404d93",
   "metadata": {},
   "source": [
    "#### 2.1 Null Handeling"
   ]
  },
  {
   "cell_type": "code",
   "execution_count": 35,
   "id": "6f7b2319-43db-47a0-b123-076dbc9485f1",
   "metadata": {},
   "outputs": [],
   "source": [
    "customer_df.drop(['phone'], axis=1, inplace=True)"
   ]
  },
  {
   "cell_type": "code",
   "execution_count": 36,
   "id": "0f172f2c-8c76-426f-9ea5-facd19f70650",
   "metadata": {},
   "outputs": [
    {
     "data": {
      "text/plain": [
       "customer_id    10\n",
       "first_name      2\n",
       "last_name       7\n",
       "email          15\n",
       "address        11\n",
       "dtype: int64"
      ]
     },
     "execution_count": 36,
     "metadata": {},
     "output_type": "execute_result"
    }
   ],
   "source": [
    "customer_df.isnull().sum()"
   ]
  },
  {
   "cell_type": "code",
   "execution_count": 37,
   "id": "6be640cf-f43a-4dc2-9d3c-a6b48191cd02",
   "metadata": {},
   "outputs": [
    {
     "name": "stdout",
     "output_type": "stream",
     "text": [
      "45\n"
     ]
    }
   ],
   "source": [
    "print(customer_df.isnull().sum().sum())"
   ]
  },
  {
   "cell_type": "code",
   "execution_count": 38,
   "id": "b2b7ae05-87bc-4d91-863f-dfdb3fcc168e",
   "metadata": {},
   "outputs": [],
   "source": [
    "customer_df.dropna(inplace=True)"
   ]
  },
  {
   "cell_type": "code",
   "execution_count": 39,
   "id": "fc744a19-ec0b-4c5f-9d88-3154ac5a225f",
   "metadata": {},
   "outputs": [
    {
     "data": {
      "text/plain": [
       "(1119, 5)"
      ]
     },
     "execution_count": 39,
     "metadata": {},
     "output_type": "execute_result"
    }
   ],
   "source": [
    "customer_df.shape"
   ]
  },
  {
   "cell_type": "code",
   "execution_count": 40,
   "id": "12b3cd13-73a3-492c-9127-a58d51340433",
   "metadata": {},
   "outputs": [
    {
     "name": "stdout",
     "output_type": "stream",
     "text": [
      "<class 'pandas.core.frame.DataFrame'>\n",
      "Index: 1119 entries, 0 to 1133\n",
      "Data columns (total 5 columns):\n",
      " #   Column       Non-Null Count  Dtype  \n",
      "---  ------       --------------  -----  \n",
      " 0   customer_id  1119 non-null   float64\n",
      " 1   first_name   1119 non-null   object \n",
      " 2   last_name    1119 non-null   object \n",
      " 3   email        1119 non-null   object \n",
      " 4   address      1119 non-null   object \n",
      "dtypes: float64(1), object(4)\n",
      "memory usage: 52.5+ KB\n"
     ]
    }
   ],
   "source": [
    "customer_df.info()"
   ]
  },
  {
   "cell_type": "code",
   "execution_count": 41,
   "id": "a40e2312-0a24-43b0-aae3-31e4788286f5",
   "metadata": {},
   "outputs": [
    {
     "data": {
      "text/plain": [
       "customer_id    0\n",
       "first_name     0\n",
       "last_name      0\n",
       "email          0\n",
       "address        0\n",
       "dtype: int64"
      ]
     },
     "execution_count": 41,
     "metadata": {},
     "output_type": "execute_result"
    }
   ],
   "source": [
    "customer_df.isnull().sum()"
   ]
  },
  {
   "cell_type": "markdown",
   "id": "f41b34f7-0ff3-42e1-a959-f039900954ad",
   "metadata": {},
   "source": [
    "#### 2.2 Duplicates Handeling"
   ]
  },
  {
   "cell_type": "code",
   "execution_count": 42,
   "id": "6f9324b2-2c59-42e3-8dc5-8b7044cddde0",
   "metadata": {},
   "outputs": [
    {
     "data": {
      "text/plain": [
       "np.int64(119)"
      ]
     },
     "execution_count": 42,
     "metadata": {},
     "output_type": "execute_result"
    }
   ],
   "source": [
    "customer_df.duplicated().sum()"
   ]
  },
  {
   "cell_type": "code",
   "execution_count": 43,
   "id": "44a5ee9f-7a93-4dca-8cc2-a831887c25aa",
   "metadata": {},
   "outputs": [
    {
     "name": "stdout",
     "output_type": "stream",
     "text": [
      "{'column_names': ['customer_id', 'first_name', 'last_name', 'email', 'address'], 'duplicate_counts': {'customer_id': np.int64(119), 'first_name': np.int64(662), 'last_name': np.int64(675), 'email': np.int64(119), 'address': np.int64(119)}}\n"
     ]
    }
   ],
   "source": [
    "print(analyze_dataframe(customer_df))"
   ]
  },
  {
   "cell_type": "code",
   "execution_count": 44,
   "id": "841d03b2-82e5-479d-b2db-bf97f719f64c",
   "metadata": {},
   "outputs": [],
   "source": [
    "customer_df.drop_duplicates(['customer_id'], inplace=True)"
   ]
  },
  {
   "cell_type": "code",
   "execution_count": 45,
   "id": "1cc9743b-7e2d-4d2e-a2bd-ab8617024cbb",
   "metadata": {},
   "outputs": [],
   "source": [
    "customer_df.drop_duplicates(['email'], inplace=True)"
   ]
  },
  {
   "cell_type": "code",
   "execution_count": 46,
   "id": "607cdb42-c5ff-4a6c-b450-9cc36ba5b767",
   "metadata": {},
   "outputs": [],
   "source": [
    "customer_df.drop_duplicates(['address'], inplace=True)"
   ]
  },
  {
   "cell_type": "code",
   "execution_count": 47,
   "id": "0f7e9f5f-06ce-4f6b-87e2-92709106daef",
   "metadata": {},
   "outputs": [
    {
     "name": "stdout",
     "output_type": "stream",
     "text": [
      "<class 'pandas.core.frame.DataFrame'>\n",
      "Index: 1000 entries, 0 to 1132\n",
      "Data columns (total 5 columns):\n",
      " #   Column       Non-Null Count  Dtype  \n",
      "---  ------       --------------  -----  \n",
      " 0   customer_id  1000 non-null   float64\n",
      " 1   first_name   1000 non-null   object \n",
      " 2   last_name    1000 non-null   object \n",
      " 3   email        1000 non-null   object \n",
      " 4   address      1000 non-null   object \n",
      "dtypes: float64(1), object(4)\n",
      "memory usage: 46.9+ KB\n"
     ]
    }
   ],
   "source": [
    "customer_df.info()"
   ]
  },
  {
   "cell_type": "code",
   "execution_count": 48,
   "id": "88bff3a7-8eff-473b-b6de-62316b2a3502",
   "metadata": {},
   "outputs": [
    {
     "data": {
      "text/html": [
       "<div>\n",
       "<style scoped>\n",
       "    .dataframe tbody tr th:only-of-type {\n",
       "        vertical-align: middle;\n",
       "    }\n",
       "\n",
       "    .dataframe tbody tr th {\n",
       "        vertical-align: top;\n",
       "    }\n",
       "\n",
       "    .dataframe thead th {\n",
       "        text-align: right;\n",
       "    }\n",
       "</style>\n",
       "<table border=\"1\" class=\"dataframe\">\n",
       "  <thead>\n",
       "    <tr style=\"text-align: right;\">\n",
       "      <th></th>\n",
       "      <th>customer_id</th>\n",
       "      <th>first_name</th>\n",
       "      <th>last_name</th>\n",
       "      <th>email</th>\n",
       "      <th>address</th>\n",
       "    </tr>\n",
       "  </thead>\n",
       "  <tbody>\n",
       "    <tr>\n",
       "      <th>0</th>\n",
       "      <td>583.0</td>\n",
       "      <td>Raghav</td>\n",
       "      <td>Sane</td>\n",
       "      <td>jagdish86@example.com</td>\n",
       "      <td>570\\nDara Street, Chennai-240844</td>\n",
       "    </tr>\n",
       "    <tr>\n",
       "      <th>1</th>\n",
       "      <td>514.0</td>\n",
       "      <td>Abhiram</td>\n",
       "      <td>Suresh</td>\n",
       "      <td>abhiram46@example.net</td>\n",
       "      <td>110, Dhillon Ganj\\nFirozabad 757923</td>\n",
       "    </tr>\n",
       "    <tr>\n",
       "      <th>2</th>\n",
       "      <td>41.0</td>\n",
       "      <td>Mohini</td>\n",
       "      <td>Khare</td>\n",
       "      <td>aadisane@example.net</td>\n",
       "      <td>H.No. 072\\nMistry Nagar\\nShivpuri-529503</td>\n",
       "    </tr>\n",
       "    <tr>\n",
       "      <th>3</th>\n",
       "      <td>847.0</td>\n",
       "      <td>Avi</td>\n",
       "      <td>Lanka</td>\n",
       "      <td>mmadan@example.net</td>\n",
       "      <td>719, Karpe Ganj\\nGandhidham-140189</td>\n",
       "    </tr>\n",
       "    <tr>\n",
       "      <th>4</th>\n",
       "      <td>500.0</td>\n",
       "      <td>Azad</td>\n",
       "      <td>Ravi</td>\n",
       "      <td>bishakha09@example.org</td>\n",
       "      <td>728, Zachariah Circle, Chandrapur-478829</td>\n",
       "    </tr>\n",
       "    <tr>\n",
       "      <th>...</th>\n",
       "      <td>...</td>\n",
       "      <td>...</td>\n",
       "      <td>...</td>\n",
       "      <td>...</td>\n",
       "      <td>...</td>\n",
       "    </tr>\n",
       "    <tr>\n",
       "      <th>1125</th>\n",
       "      <td>647.0</td>\n",
       "      <td>Raghav</td>\n",
       "      <td>Batra</td>\n",
       "      <td>garayatin@example.net</td>\n",
       "      <td>99\\nDugal Marg\\nMedininagar-547618</td>\n",
       "    </tr>\n",
       "    <tr>\n",
       "      <th>1126</th>\n",
       "      <td>904.0</td>\n",
       "      <td>Barkha</td>\n",
       "      <td>Hayer</td>\n",
       "      <td>wmander@example.org</td>\n",
       "      <td>H.No. 342, Salvi Nagar\\nSrikakulam 441031</td>\n",
       "    </tr>\n",
       "    <tr>\n",
       "      <th>1127</th>\n",
       "      <td>818.0</td>\n",
       "      <td>Vasudha</td>\n",
       "      <td>Lalla</td>\n",
       "      <td>gchander@example.net</td>\n",
       "      <td>37/88\\nMinhas Marg, Karnal 222548</td>\n",
       "    </tr>\n",
       "    <tr>\n",
       "      <th>1128</th>\n",
       "      <td>39.0</td>\n",
       "      <td>Viraj</td>\n",
       "      <td>Boase</td>\n",
       "      <td>xbava@example.com</td>\n",
       "      <td>985\\nVohra Zila, Nangloi Jat 923057</td>\n",
       "    </tr>\n",
       "    <tr>\n",
       "      <th>1132</th>\n",
       "      <td>646.0</td>\n",
       "      <td>Simon</td>\n",
       "      <td>Sidhu</td>\n",
       "      <td>sanaya27@example.org</td>\n",
       "      <td>H.No. 33\\nSastry, Vadodara 655911</td>\n",
       "    </tr>\n",
       "  </tbody>\n",
       "</table>\n",
       "<p>1000 rows × 5 columns</p>\n",
       "</div>"
      ],
      "text/plain": [
       "      customer_id first_name last_name                   email  \\\n",
       "0           583.0     Raghav      Sane   jagdish86@example.com   \n",
       "1           514.0    Abhiram    Suresh   abhiram46@example.net   \n",
       "2            41.0     Mohini     Khare    aadisane@example.net   \n",
       "3           847.0        Avi     Lanka      mmadan@example.net   \n",
       "4           500.0       Azad      Ravi  bishakha09@example.org   \n",
       "...           ...        ...       ...                     ...   \n",
       "1125        647.0     Raghav     Batra   garayatin@example.net   \n",
       "1126        904.0     Barkha     Hayer     wmander@example.org   \n",
       "1127        818.0    Vasudha     Lalla    gchander@example.net   \n",
       "1128         39.0      Viraj     Boase       xbava@example.com   \n",
       "1132        646.0      Simon     Sidhu    sanaya27@example.org   \n",
       "\n",
       "                                        address  \n",
       "0              570\\nDara Street, Chennai-240844  \n",
       "1           110, Dhillon Ganj\\nFirozabad 757923  \n",
       "2      H.No. 072\\nMistry Nagar\\nShivpuri-529503  \n",
       "3            719, Karpe Ganj\\nGandhidham-140189  \n",
       "4      728, Zachariah Circle, Chandrapur-478829  \n",
       "...                                         ...  \n",
       "1125         99\\nDugal Marg\\nMedininagar-547618  \n",
       "1126  H.No. 342, Salvi Nagar\\nSrikakulam 441031  \n",
       "1127          37/88\\nMinhas Marg, Karnal 222548  \n",
       "1128        985\\nVohra Zila, Nangloi Jat 923057  \n",
       "1132          H.No. 33\\nSastry, Vadodara 655911  \n",
       "\n",
       "[1000 rows x 5 columns]"
      ]
     },
     "execution_count": 48,
     "metadata": {},
     "output_type": "execute_result"
    }
   ],
   "source": [
    "customer_df"
   ]
  },
  {
   "cell_type": "markdown",
   "id": "eabf18cb-00b8-4598-8b05-275ec89eb7a6",
   "metadata": {},
   "source": [
    "#### ---------------------------------------------------Customer Data Cleaning Done---------------------------------------------------------------"
   ]
  },
  {
   "cell_type": "code",
   "execution_count": null,
   "id": "03cf9588-e3ad-455a-b7cb-15b5a412d244",
   "metadata": {},
   "outputs": [],
   "source": []
  },
  {
   "cell_type": "markdown",
   "id": "ce6f6c21-7941-43cc-85b4-d9cc0ca8618e",
   "metadata": {},
   "source": [
    "### KYC Dataset"
   ]
  },
  {
   "cell_type": "markdown",
   "id": "4e53c17b-a3cb-4a3c-86ee-0ca0a6776cba",
   "metadata": {},
   "source": [
    "#### Step-1 Data understanding"
   ]
  },
  {
   "cell_type": "code",
   "execution_count": 49,
   "id": "db1b6661-8b08-424b-bf72-ca7f363a5a67",
   "metadata": {},
   "outputs": [
    {
     "data": {
      "text/html": [
       "<div>\n",
       "<style scoped>\n",
       "    .dataframe tbody tr th:only-of-type {\n",
       "        vertical-align: middle;\n",
       "    }\n",
       "\n",
       "    .dataframe tbody tr th {\n",
       "        vertical-align: top;\n",
       "    }\n",
       "\n",
       "    .dataframe thead th {\n",
       "        text-align: right;\n",
       "    }\n",
       "</style>\n",
       "<table border=\"1\" class=\"dataframe\">\n",
       "  <thead>\n",
       "    <tr style=\"text-align: right;\">\n",
       "      <th></th>\n",
       "      <th>kyc_id</th>\n",
       "      <th>customer_id</th>\n",
       "      <th>aadhaar_number</th>\n",
       "      <th>kyc_status</th>\n",
       "    </tr>\n",
       "  </thead>\n",
       "  <tbody>\n",
       "    <tr>\n",
       "      <th>0</th>\n",
       "      <td>1</td>\n",
       "      <td>470</td>\n",
       "      <td>802503115739</td>\n",
       "      <td>Pending</td>\n",
       "    </tr>\n",
       "    <tr>\n",
       "      <th>1</th>\n",
       "      <td>2</td>\n",
       "      <td>527</td>\n",
       "      <td>36860203929</td>\n",
       "      <td>Completed</td>\n",
       "    </tr>\n",
       "    <tr>\n",
       "      <th>2</th>\n",
       "      <td>3</td>\n",
       "      <td>909</td>\n",
       "      <td>343087684410</td>\n",
       "      <td>Completed</td>\n",
       "    </tr>\n",
       "    <tr>\n",
       "      <th>3</th>\n",
       "      <td>4</td>\n",
       "      <td>707</td>\n",
       "      <td>390630372457</td>\n",
       "      <td>Completed</td>\n",
       "    </tr>\n",
       "    <tr>\n",
       "      <th>4</th>\n",
       "      <td>5</td>\n",
       "      <td>537</td>\n",
       "      <td>860467554156</td>\n",
       "      <td>Pending</td>\n",
       "    </tr>\n",
       "    <tr>\n",
       "      <th>...</th>\n",
       "      <td>...</td>\n",
       "      <td>...</td>\n",
       "      <td>...</td>\n",
       "      <td>...</td>\n",
       "    </tr>\n",
       "    <tr>\n",
       "      <th>495</th>\n",
       "      <td>496</td>\n",
       "      <td>714</td>\n",
       "      <td>390277619686</td>\n",
       "      <td>Completed</td>\n",
       "    </tr>\n",
       "    <tr>\n",
       "      <th>496</th>\n",
       "      <td>497</td>\n",
       "      <td>706</td>\n",
       "      <td>967040323966</td>\n",
       "      <td>Under Review</td>\n",
       "    </tr>\n",
       "    <tr>\n",
       "      <th>497</th>\n",
       "      <td>498</td>\n",
       "      <td>234</td>\n",
       "      <td>954723502148</td>\n",
       "      <td>Pending</td>\n",
       "    </tr>\n",
       "    <tr>\n",
       "      <th>498</th>\n",
       "      <td>499</td>\n",
       "      <td>637</td>\n",
       "      <td>820675436184</td>\n",
       "      <td>Under Review</td>\n",
       "    </tr>\n",
       "    <tr>\n",
       "      <th>499</th>\n",
       "      <td>500</td>\n",
       "      <td>74</td>\n",
       "      <td>622001059183</td>\n",
       "      <td>Pending</td>\n",
       "    </tr>\n",
       "  </tbody>\n",
       "</table>\n",
       "<p>500 rows × 4 columns</p>\n",
       "</div>"
      ],
      "text/plain": [
       "     kyc_id  customer_id  aadhaar_number    kyc_status\n",
       "0         1          470    802503115739       Pending\n",
       "1         2          527     36860203929     Completed\n",
       "2         3          909    343087684410     Completed\n",
       "3         4          707    390630372457     Completed\n",
       "4         5          537    860467554156       Pending\n",
       "..      ...          ...             ...           ...\n",
       "495     496          714    390277619686     Completed\n",
       "496     497          706    967040323966  Under Review\n",
       "497     498          234    954723502148       Pending\n",
       "498     499          637    820675436184  Under Review\n",
       "499     500           74    622001059183       Pending\n",
       "\n",
       "[500 rows x 4 columns]"
      ]
     },
     "execution_count": 49,
     "metadata": {},
     "output_type": "execute_result"
    }
   ],
   "source": [
    "kyc_df = pd.read_csv(r\"C:\\Users\\PC\\OneDrive\\Documents\\My docs\\NMD\\Live project\\kyc.csv\")\n",
    "kyc_df"
   ]
  },
  {
   "cell_type": "code",
   "execution_count": 50,
   "id": "950021d0-0c35-42cd-aba1-dba083210e19",
   "metadata": {},
   "outputs": [
    {
     "name": "stdout",
     "output_type": "stream",
     "text": [
      "<class 'pandas.core.frame.DataFrame'>\n",
      "RangeIndex: 500 entries, 0 to 499\n",
      "Data columns (total 4 columns):\n",
      " #   Column          Non-Null Count  Dtype \n",
      "---  ------          --------------  ----- \n",
      " 0   kyc_id          500 non-null    int64 \n",
      " 1   customer_id     500 non-null    int64 \n",
      " 2   aadhaar_number  500 non-null    int64 \n",
      " 3   kyc_status      500 non-null    object\n",
      "dtypes: int64(3), object(1)\n",
      "memory usage: 15.8+ KB\n"
     ]
    }
   ],
   "source": [
    "kyc_df.info()"
   ]
  },
  {
   "cell_type": "code",
   "execution_count": 51,
   "id": "5b2d0586-a04c-47ca-957e-7532f477965d",
   "metadata": {},
   "outputs": [
    {
     "data": {
      "text/html": [
       "<div>\n",
       "<style scoped>\n",
       "    .dataframe tbody tr th:only-of-type {\n",
       "        vertical-align: middle;\n",
       "    }\n",
       "\n",
       "    .dataframe tbody tr th {\n",
       "        vertical-align: top;\n",
       "    }\n",
       "\n",
       "    .dataframe thead th {\n",
       "        text-align: right;\n",
       "    }\n",
       "</style>\n",
       "<table border=\"1\" class=\"dataframe\">\n",
       "  <thead>\n",
       "    <tr style=\"text-align: right;\">\n",
       "      <th></th>\n",
       "      <th>kyc_id</th>\n",
       "      <th>customer_id</th>\n",
       "      <th>aadhaar_number</th>\n",
       "    </tr>\n",
       "  </thead>\n",
       "  <tbody>\n",
       "    <tr>\n",
       "      <th>count</th>\n",
       "      <td>500.000000</td>\n",
       "      <td>500.000000</td>\n",
       "      <td>5.000000e+02</td>\n",
       "    </tr>\n",
       "    <tr>\n",
       "      <th>mean</th>\n",
       "      <td>250.500000</td>\n",
       "      <td>486.842000</td>\n",
       "      <td>4.996583e+11</td>\n",
       "    </tr>\n",
       "    <tr>\n",
       "      <th>std</th>\n",
       "      <td>144.481833</td>\n",
       "      <td>279.018048</td>\n",
       "      <td>2.861841e+11</td>\n",
       "    </tr>\n",
       "    <tr>\n",
       "      <th>min</th>\n",
       "      <td>1.000000</td>\n",
       "      <td>1.000000</td>\n",
       "      <td>2.354652e+09</td>\n",
       "    </tr>\n",
       "    <tr>\n",
       "      <th>25%</th>\n",
       "      <td>125.750000</td>\n",
       "      <td>247.750000</td>\n",
       "      <td>2.399115e+11</td>\n",
       "    </tr>\n",
       "    <tr>\n",
       "      <th>50%</th>\n",
       "      <td>250.500000</td>\n",
       "      <td>491.000000</td>\n",
       "      <td>4.893113e+11</td>\n",
       "    </tr>\n",
       "    <tr>\n",
       "      <th>75%</th>\n",
       "      <td>375.250000</td>\n",
       "      <td>717.250000</td>\n",
       "      <td>7.378356e+11</td>\n",
       "    </tr>\n",
       "    <tr>\n",
       "      <th>max</th>\n",
       "      <td>500.000000</td>\n",
       "      <td>999.000000</td>\n",
       "      <td>9.991039e+11</td>\n",
       "    </tr>\n",
       "  </tbody>\n",
       "</table>\n",
       "</div>"
      ],
      "text/plain": [
       "           kyc_id  customer_id  aadhaar_number\n",
       "count  500.000000   500.000000    5.000000e+02\n",
       "mean   250.500000   486.842000    4.996583e+11\n",
       "std    144.481833   279.018048    2.861841e+11\n",
       "min      1.000000     1.000000    2.354652e+09\n",
       "25%    125.750000   247.750000    2.399115e+11\n",
       "50%    250.500000   491.000000    4.893113e+11\n",
       "75%    375.250000   717.250000    7.378356e+11\n",
       "max    500.000000   999.000000    9.991039e+11"
      ]
     },
     "execution_count": 51,
     "metadata": {},
     "output_type": "execute_result"
    }
   ],
   "source": [
    "kyc_df.describe()"
   ]
  },
  {
   "cell_type": "code",
   "execution_count": 52,
   "id": "a63342aa-085e-4152-97b2-6953c1d9c029",
   "metadata": {},
   "outputs": [
    {
     "data": {
      "text/plain": [
       "(500, 4)"
      ]
     },
     "execution_count": 52,
     "metadata": {},
     "output_type": "execute_result"
    }
   ],
   "source": [
    "kyc_df.shape"
   ]
  },
  {
   "cell_type": "code",
   "execution_count": 53,
   "id": "3698cd8f-4f02-41ef-8f70-433de44ef7ec",
   "metadata": {},
   "outputs": [
    {
     "data": {
      "text/plain": [
       "kyc_id             int64\n",
       "customer_id        int64\n",
       "aadhaar_number     int64\n",
       "kyc_status        object\n",
       "dtype: object"
      ]
     },
     "execution_count": 53,
     "metadata": {},
     "output_type": "execute_result"
    }
   ],
   "source": [
    "kyc_df.dtypes"
   ]
  },
  {
   "cell_type": "markdown",
   "id": "bbe09f40-b565-4a28-b788-7e07b67a51fe",
   "metadata": {},
   "source": [
    "### Data Cleaning"
   ]
  },
  {
   "cell_type": "code",
   "execution_count": 54,
   "id": "ed0cbb0f-2d90-463b-add2-7acb462c2078",
   "metadata": {},
   "outputs": [],
   "source": [
    "kyc_df.drop(['aadhaar_number'], axis=1, inplace=True)"
   ]
  },
  {
   "cell_type": "code",
   "execution_count": 55,
   "id": "fa96056b-e1f4-4cd0-b334-85c9946437ab",
   "metadata": {},
   "outputs": [
    {
     "data": {
      "text/plain": [
       "kyc_id         0\n",
       "customer_id    0\n",
       "kyc_status     0\n",
       "dtype: int64"
      ]
     },
     "execution_count": 55,
     "metadata": {},
     "output_type": "execute_result"
    }
   ],
   "source": [
    "kyc_df.isnull().sum()"
   ]
  },
  {
   "cell_type": "code",
   "execution_count": 56,
   "id": "4ee500c8-da71-49c9-99d9-671868b5027a",
   "metadata": {},
   "outputs": [
    {
     "data": {
      "text/plain": [
       "np.int64(0)"
      ]
     },
     "execution_count": 56,
     "metadata": {},
     "output_type": "execute_result"
    }
   ],
   "source": [
    "kyc_df.duplicated().sum()"
   ]
  },
  {
   "cell_type": "code",
   "execution_count": null,
   "id": "f8f13c1f-7c37-4b80-b0ee-ddd6804a586c",
   "metadata": {},
   "outputs": [],
   "source": []
  },
  {
   "cell_type": "markdown",
   "id": "11181ac2-b452-4910-8e13-32f51e59b69e",
   "metadata": {},
   "source": [
    "#### ------------------------------------------------------KYC dataset done--------------------------------------------------------------"
   ]
  },
  {
   "cell_type": "code",
   "execution_count": null,
   "id": "f62168fe-3cef-4643-a3f2-2f684b2e6391",
   "metadata": {},
   "outputs": [],
   "source": []
  },
  {
   "cell_type": "markdown",
   "id": "2a9e08ff-c8d5-4b50-976a-bf161f37da04",
   "metadata": {},
   "source": [
    "### Loan Dataset"
   ]
  },
  {
   "cell_type": "markdown",
   "id": "0c5bb744-efde-4b0a-8ba9-2299f50ce7d6",
   "metadata": {},
   "source": [
    "#### Step-1 Data understanding"
   ]
  },
  {
   "cell_type": "code",
   "execution_count": 57,
   "id": "cae327d4-5b59-4a5b-931b-ca28dd5bb0a2",
   "metadata": {},
   "outputs": [
    {
     "data": {
      "text/html": [
       "<div>\n",
       "<style scoped>\n",
       "    .dataframe tbody tr th:only-of-type {\n",
       "        vertical-align: middle;\n",
       "    }\n",
       "\n",
       "    .dataframe tbody tr th {\n",
       "        vertical-align: top;\n",
       "    }\n",
       "\n",
       "    .dataframe thead th {\n",
       "        text-align: right;\n",
       "    }\n",
       "</style>\n",
       "<table border=\"1\" class=\"dataframe\">\n",
       "  <thead>\n",
       "    <tr style=\"text-align: right;\">\n",
       "      <th></th>\n",
       "      <th>loan_id</th>\n",
       "      <th>customer_id</th>\n",
       "      <th>loan_type</th>\n",
       "      <th>loan_amount</th>\n",
       "      <th>interest_rate</th>\n",
       "      <th>loan_status</th>\n",
       "    </tr>\n",
       "  </thead>\n",
       "  <tbody>\n",
       "    <tr>\n",
       "      <th>0</th>\n",
       "      <td>41.0</td>\n",
       "      <td>46.0</td>\n",
       "      <td>Auto</td>\n",
       "      <td>33255.74</td>\n",
       "      <td>9.49</td>\n",
       "      <td>Closed</td>\n",
       "    </tr>\n",
       "    <tr>\n",
       "      <th>1</th>\n",
       "      <td>26.0</td>\n",
       "      <td>830.0</td>\n",
       "      <td>Auto</td>\n",
       "      <td>321873.96</td>\n",
       "      <td>6.22</td>\n",
       "      <td>Active</td>\n",
       "    </tr>\n",
       "    <tr>\n",
       "      <th>2</th>\n",
       "      <td>235.0</td>\n",
       "      <td>134.0</td>\n",
       "      <td>Home</td>\n",
       "      <td>44524.99</td>\n",
       "      <td>5.59</td>\n",
       "      <td>Closed</td>\n",
       "    </tr>\n",
       "    <tr>\n",
       "      <th>3</th>\n",
       "      <td>27.0</td>\n",
       "      <td>529.0</td>\n",
       "      <td>Personal</td>\n",
       "      <td>411853.83</td>\n",
       "      <td>5.52</td>\n",
       "      <td>Active</td>\n",
       "    </tr>\n",
       "    <tr>\n",
       "      <th>4</th>\n",
       "      <td>486.0</td>\n",
       "      <td>354.0</td>\n",
       "      <td>Auto</td>\n",
       "      <td>414024.48</td>\n",
       "      <td>8.75</td>\n",
       "      <td>Closed</td>\n",
       "    </tr>\n",
       "    <tr>\n",
       "      <th>...</th>\n",
       "      <td>...</td>\n",
       "      <td>...</td>\n",
       "      <td>...</td>\n",
       "      <td>...</td>\n",
       "      <td>...</td>\n",
       "      <td>...</td>\n",
       "    </tr>\n",
       "    <tr>\n",
       "      <th>559</th>\n",
       "      <td>72.0</td>\n",
       "      <td>887.0</td>\n",
       "      <td>Auto</td>\n",
       "      <td>484274.04</td>\n",
       "      <td>6.32</td>\n",
       "      <td>Active</td>\n",
       "    </tr>\n",
       "    <tr>\n",
       "      <th>560</th>\n",
       "      <td>107.0</td>\n",
       "      <td>670.0</td>\n",
       "      <td>Personal</td>\n",
       "      <td>488043.14</td>\n",
       "      <td>8.54</td>\n",
       "      <td>Closed</td>\n",
       "    </tr>\n",
       "    <tr>\n",
       "      <th>561</th>\n",
       "      <td>271.0</td>\n",
       "      <td>183.0</td>\n",
       "      <td>Home</td>\n",
       "      <td>243649.75</td>\n",
       "      <td>9.06</td>\n",
       "      <td>Closed</td>\n",
       "    </tr>\n",
       "    <tr>\n",
       "      <th>562</th>\n",
       "      <td>436.0</td>\n",
       "      <td>504.0</td>\n",
       "      <td>Personal</td>\n",
       "      <td>314972.12</td>\n",
       "      <td>8.46</td>\n",
       "      <td>Closed</td>\n",
       "    </tr>\n",
       "    <tr>\n",
       "      <th>563</th>\n",
       "      <td>103.0</td>\n",
       "      <td>853.0</td>\n",
       "      <td>Auto</td>\n",
       "      <td>233355.73</td>\n",
       "      <td>9.72</td>\n",
       "      <td>Closed</td>\n",
       "    </tr>\n",
       "  </tbody>\n",
       "</table>\n",
       "<p>564 rows × 6 columns</p>\n",
       "</div>"
      ],
      "text/plain": [
       "     loan_id  customer_id loan_type  loan_amount  interest_rate loan_status\n",
       "0       41.0         46.0      Auto     33255.74           9.49      Closed\n",
       "1       26.0        830.0      Auto    321873.96           6.22      Active\n",
       "2      235.0        134.0      Home     44524.99           5.59      Closed\n",
       "3       27.0        529.0  Personal    411853.83           5.52      Active\n",
       "4      486.0        354.0      Auto    414024.48           8.75      Closed\n",
       "..       ...          ...       ...          ...            ...         ...\n",
       "559     72.0        887.0      Auto    484274.04           6.32      Active\n",
       "560    107.0        670.0  Personal    488043.14           8.54      Closed\n",
       "561    271.0        183.0      Home    243649.75           9.06      Closed\n",
       "562    436.0        504.0  Personal    314972.12           8.46      Closed\n",
       "563    103.0        853.0      Auto    233355.73           9.72      Closed\n",
       "\n",
       "[564 rows x 6 columns]"
      ]
     },
     "execution_count": 57,
     "metadata": {},
     "output_type": "execute_result"
    }
   ],
   "source": [
    "loan_df = pd.read_csv(r\"C:\\Users\\PC\\OneDrive\\Documents\\My docs\\NMD\\Live project\\loans.csv\")\n",
    "loan_df"
   ]
  },
  {
   "cell_type": "code",
   "execution_count": 58,
   "id": "3d7bf2c1-f3b1-42b4-a81f-993269460708",
   "metadata": {},
   "outputs": [
    {
     "name": "stdout",
     "output_type": "stream",
     "text": [
      "<class 'pandas.core.frame.DataFrame'>\n",
      "RangeIndex: 564 entries, 0 to 563\n",
      "Data columns (total 6 columns):\n",
      " #   Column         Non-Null Count  Dtype  \n",
      "---  ------         --------------  -----  \n",
      " 0   loan_id        550 non-null    float64\n",
      " 1   customer_id    549 non-null    float64\n",
      " 2   loan_type      561 non-null    object \n",
      " 3   loan_amount    564 non-null    float64\n",
      " 4   interest_rate  549 non-null    float64\n",
      " 5   loan_status    563 non-null    object \n",
      "dtypes: float64(4), object(2)\n",
      "memory usage: 26.6+ KB\n"
     ]
    }
   ],
   "source": [
    "loan_df.info()"
   ]
  },
  {
   "cell_type": "code",
   "execution_count": 59,
   "id": "747062b8-acd7-4555-ba8c-c7825a752f94",
   "metadata": {},
   "outputs": [
    {
     "data": {
      "text/html": [
       "<div>\n",
       "<style scoped>\n",
       "    .dataframe tbody tr th:only-of-type {\n",
       "        vertical-align: middle;\n",
       "    }\n",
       "\n",
       "    .dataframe tbody tr th {\n",
       "        vertical-align: top;\n",
       "    }\n",
       "\n",
       "    .dataframe thead th {\n",
       "        text-align: right;\n",
       "    }\n",
       "</style>\n",
       "<table border=\"1\" class=\"dataframe\">\n",
       "  <thead>\n",
       "    <tr style=\"text-align: right;\">\n",
       "      <th></th>\n",
       "      <th>loan_id</th>\n",
       "      <th>customer_id</th>\n",
       "      <th>loan_amount</th>\n",
       "      <th>interest_rate</th>\n",
       "    </tr>\n",
       "  </thead>\n",
       "  <tbody>\n",
       "    <tr>\n",
       "      <th>count</th>\n",
       "      <td>550.000000</td>\n",
       "      <td>549.000000</td>\n",
       "      <td>564.000000</td>\n",
       "      <td>549.000000</td>\n",
       "    </tr>\n",
       "    <tr>\n",
       "      <th>mean</th>\n",
       "      <td>231.238182</td>\n",
       "      <td>520.342441</td>\n",
       "      <td>257338.525674</td>\n",
       "      <td>7.464062</td>\n",
       "    </tr>\n",
       "    <tr>\n",
       "      <th>std</th>\n",
       "      <td>152.057868</td>\n",
       "      <td>284.892705</td>\n",
       "      <td>141711.900535</td>\n",
       "      <td>1.426339</td>\n",
       "    </tr>\n",
       "    <tr>\n",
       "      <th>min</th>\n",
       "      <td>1.000000</td>\n",
       "      <td>1.000000</td>\n",
       "      <td>4000.000000</td>\n",
       "      <td>5.000000</td>\n",
       "    </tr>\n",
       "    <tr>\n",
       "      <th>25%</th>\n",
       "      <td>89.250000</td>\n",
       "      <td>280.000000</td>\n",
       "      <td>134851.795000</td>\n",
       "      <td>6.270000</td>\n",
       "    </tr>\n",
       "    <tr>\n",
       "      <th>50%</th>\n",
       "      <td>226.500000</td>\n",
       "      <td>529.000000</td>\n",
       "      <td>266336.255000</td>\n",
       "      <td>7.470000</td>\n",
       "    </tr>\n",
       "    <tr>\n",
       "      <th>75%</th>\n",
       "      <td>363.750000</td>\n",
       "      <td>778.000000</td>\n",
       "      <td>371277.760000</td>\n",
       "      <td>8.670000</td>\n",
       "    </tr>\n",
       "    <tr>\n",
       "      <th>max</th>\n",
       "      <td>510.000000</td>\n",
       "      <td>998.000000</td>\n",
       "      <td>499987.640000</td>\n",
       "      <td>9.980000</td>\n",
       "    </tr>\n",
       "  </tbody>\n",
       "</table>\n",
       "</div>"
      ],
      "text/plain": [
       "          loan_id  customer_id    loan_amount  interest_rate\n",
       "count  550.000000   549.000000     564.000000     549.000000\n",
       "mean   231.238182   520.342441  257338.525674       7.464062\n",
       "std    152.057868   284.892705  141711.900535       1.426339\n",
       "min      1.000000     1.000000    4000.000000       5.000000\n",
       "25%     89.250000   280.000000  134851.795000       6.270000\n",
       "50%    226.500000   529.000000  266336.255000       7.470000\n",
       "75%    363.750000   778.000000  371277.760000       8.670000\n",
       "max    510.000000   998.000000  499987.640000       9.980000"
      ]
     },
     "execution_count": 59,
     "metadata": {},
     "output_type": "execute_result"
    }
   ],
   "source": [
    "loan_df.describe()"
   ]
  },
  {
   "cell_type": "code",
   "execution_count": 60,
   "id": "3578b91e-61f1-4052-b3c0-1bfe206ba022",
   "metadata": {},
   "outputs": [
    {
     "data": {
      "text/plain": [
       "(564, 6)"
      ]
     },
     "execution_count": 60,
     "metadata": {},
     "output_type": "execute_result"
    }
   ],
   "source": [
    "loan_df.shape"
   ]
  },
  {
   "cell_type": "code",
   "execution_count": 61,
   "id": "3002a992-4f4e-4894-8d32-e72765e852f2",
   "metadata": {},
   "outputs": [
    {
     "data": {
      "text/plain": [
       "loan_id          float64\n",
       "customer_id      float64\n",
       "loan_type         object\n",
       "loan_amount      float64\n",
       "interest_rate    float64\n",
       "loan_status       object\n",
       "dtype: object"
      ]
     },
     "execution_count": 61,
     "metadata": {},
     "output_type": "execute_result"
    }
   ],
   "source": [
    "loan_df.dtypes"
   ]
  },
  {
   "cell_type": "markdown",
   "id": "5a8061c1-f5ce-4b56-824e-5519354dbc53",
   "metadata": {},
   "source": [
    "#### Step-2 Data Cleaning"
   ]
  },
  {
   "cell_type": "markdown",
   "id": "db1bd9a8-b06f-43e9-a4cf-a4c3dfe2d111",
   "metadata": {},
   "source": [
    "#### Null Handeling"
   ]
  },
  {
   "cell_type": "code",
   "execution_count": 62,
   "id": "0a391aea-5880-453f-9421-4042f213522e",
   "metadata": {},
   "outputs": [
    {
     "data": {
      "text/plain": [
       "loan_id          14\n",
       "customer_id      15\n",
       "loan_type         3\n",
       "loan_amount       0\n",
       "interest_rate    15\n",
       "loan_status       1\n",
       "dtype: int64"
      ]
     },
     "execution_count": 62,
     "metadata": {},
     "output_type": "execute_result"
    }
   ],
   "source": [
    "loan_df.isnull().sum()"
   ]
  },
  {
   "cell_type": "code",
   "execution_count": 63,
   "id": "98c2c07f-cb6c-4b44-9a51-6ea37bddf881",
   "metadata": {},
   "outputs": [
    {
     "name": "stdout",
     "output_type": "stream",
     "text": [
      "48\n"
     ]
    }
   ],
   "source": [
    "print(loan_df.isnull().sum().sum())"
   ]
  },
  {
   "cell_type": "code",
   "execution_count": 64,
   "id": "333261ea-f08b-45a2-953b-21df69ae84ab",
   "metadata": {},
   "outputs": [],
   "source": [
    "loan_df.dropna(inplace=True)"
   ]
  },
  {
   "cell_type": "code",
   "execution_count": 65,
   "id": "4cb627d7-47d8-4fe6-9e92-3ff46698aa06",
   "metadata": {},
   "outputs": [
    {
     "data": {
      "text/plain": [
       "loan_id          0\n",
       "customer_id      0\n",
       "loan_type        0\n",
       "loan_amount      0\n",
       "interest_rate    0\n",
       "loan_status      0\n",
       "dtype: int64"
      ]
     },
     "execution_count": 65,
     "metadata": {},
     "output_type": "execute_result"
    }
   ],
   "source": [
    "loan_df.isnull().sum()"
   ]
  },
  {
   "cell_type": "code",
   "execution_count": 66,
   "id": "bdf320c4-af08-465e-8fd6-81af98604fb0",
   "metadata": {},
   "outputs": [
    {
     "name": "stdout",
     "output_type": "stream",
     "text": [
      "<class 'pandas.core.frame.DataFrame'>\n",
      "Index: 549 entries, 0 to 563\n",
      "Data columns (total 6 columns):\n",
      " #   Column         Non-Null Count  Dtype  \n",
      "---  ------         --------------  -----  \n",
      " 0   loan_id        549 non-null    float64\n",
      " 1   customer_id    549 non-null    float64\n",
      " 2   loan_type      549 non-null    object \n",
      " 3   loan_amount    549 non-null    float64\n",
      " 4   interest_rate  549 non-null    float64\n",
      " 5   loan_status    549 non-null    object \n",
      "dtypes: float64(4), object(2)\n",
      "memory usage: 30.0+ KB\n"
     ]
    }
   ],
   "source": [
    "loan_df.info()"
   ]
  },
  {
   "cell_type": "code",
   "execution_count": 67,
   "id": "fcdfb83c-70b8-4f63-9026-24f3c19eb35c",
   "metadata": {},
   "outputs": [
    {
     "data": {
      "text/plain": [
       "np.int64(49)"
      ]
     },
     "execution_count": 67,
     "metadata": {},
     "output_type": "execute_result"
    }
   ],
   "source": [
    "loan_df.duplicated().sum()"
   ]
  },
  {
   "cell_type": "code",
   "execution_count": 68,
   "id": "91b313bc-0825-4b04-8bf0-d00cfad30450",
   "metadata": {},
   "outputs": [],
   "source": [
    "loan_df.drop_duplicates(inplace=True)"
   ]
  },
  {
   "cell_type": "code",
   "execution_count": 69,
   "id": "ecef42a8-1b6a-4ca0-85ea-285e89b00a4c",
   "metadata": {},
   "outputs": [
    {
     "data": {
      "text/plain": [
       "np.int64(0)"
      ]
     },
     "execution_count": 69,
     "metadata": {},
     "output_type": "execute_result"
    }
   ],
   "source": [
    "loan_df.duplicated().sum()"
   ]
  },
  {
   "cell_type": "markdown",
   "id": "595ac43c-1074-4988-951a-58d1985ab993",
   "metadata": {},
   "source": [
    "#### Changing Datatypes"
   ]
  },
  {
   "cell_type": "code",
   "execution_count": 70,
   "id": "3b654633-a6b9-4775-8dab-04218b2bf00b",
   "metadata": {},
   "outputs": [],
   "source": [
    "loan_df['loan_id'] = loan_df['loan_id'].astype(int)"
   ]
  },
  {
   "cell_type": "code",
   "execution_count": 71,
   "id": "8f2bfec9-d015-4109-a7d7-453016b9488b",
   "metadata": {},
   "outputs": [],
   "source": [
    "loan_df['customer_id'] = loan_df['customer_id'].astype(int)"
   ]
  },
  {
   "cell_type": "code",
   "execution_count": 72,
   "id": "8d7a96a4-9a2c-4990-8752-e72f512fa56f",
   "metadata": {},
   "outputs": [
    {
     "data": {
      "text/plain": [
       "loan_id            int64\n",
       "customer_id        int64\n",
       "loan_type         object\n",
       "loan_amount      float64\n",
       "interest_rate    float64\n",
       "loan_status       object\n",
       "dtype: object"
      ]
     },
     "execution_count": 72,
     "metadata": {},
     "output_type": "execute_result"
    }
   ],
   "source": [
    "loan_df.dtypes"
   ]
  },
  {
   "cell_type": "code",
   "execution_count": null,
   "id": "4ac451c8-8a2f-47a9-b524-85bd7499a0f2",
   "metadata": {},
   "outputs": [],
   "source": []
  },
  {
   "cell_type": "markdown",
   "id": "d327672f-272f-42ac-86f2-6fc119c6fbb1",
   "metadata": {},
   "source": [
    "### -----------------------------------------------Loan Dataset Done----------------------------------------------------------------"
   ]
  },
  {
   "cell_type": "code",
   "execution_count": null,
   "id": "97522f90-0fd8-4749-90a6-83b32f31fa2d",
   "metadata": {},
   "outputs": [],
   "source": []
  },
  {
   "cell_type": "markdown",
   "id": "0288d596-b61b-4b54-99cf-54e7e73aed26",
   "metadata": {},
   "source": [
    "### Payments Dataset"
   ]
  },
  {
   "cell_type": "code",
   "execution_count": 73,
   "id": "00a43060-616c-453a-8283-dae1c7613acc",
   "metadata": {},
   "outputs": [
    {
     "data": {
      "text/html": [
       "<div>\n",
       "<style scoped>\n",
       "    .dataframe tbody tr th:only-of-type {\n",
       "        vertical-align: middle;\n",
       "    }\n",
       "\n",
       "    .dataframe tbody tr th {\n",
       "        vertical-align: top;\n",
       "    }\n",
       "\n",
       "    .dataframe thead th {\n",
       "        text-align: right;\n",
       "    }\n",
       "</style>\n",
       "<table border=\"1\" class=\"dataframe\">\n",
       "  <thead>\n",
       "    <tr style=\"text-align: right;\">\n",
       "      <th></th>\n",
       "      <th>payment_id</th>\n",
       "      <th>loan_id</th>\n",
       "      <th>payment_amount</th>\n",
       "    </tr>\n",
       "  </thead>\n",
       "  <tbody>\n",
       "    <tr>\n",
       "      <th>0</th>\n",
       "      <td>1</td>\n",
       "      <td>146</td>\n",
       "      <td>4173.75</td>\n",
       "    </tr>\n",
       "    <tr>\n",
       "      <th>1</th>\n",
       "      <td>2</td>\n",
       "      <td>83</td>\n",
       "      <td>4760.15</td>\n",
       "    </tr>\n",
       "    <tr>\n",
       "      <th>2</th>\n",
       "      <td>3</td>\n",
       "      <td>148</td>\n",
       "      <td>2155.38</td>\n",
       "    </tr>\n",
       "    <tr>\n",
       "      <th>3</th>\n",
       "      <td>4</td>\n",
       "      <td>36</td>\n",
       "      <td>1231.63</td>\n",
       "    </tr>\n",
       "    <tr>\n",
       "      <th>4</th>\n",
       "      <td>5</td>\n",
       "      <td>367</td>\n",
       "      <td>1019.98</td>\n",
       "    </tr>\n",
       "    <tr>\n",
       "      <th>...</th>\n",
       "      <td>...</td>\n",
       "      <td>...</td>\n",
       "      <td>...</td>\n",
       "    </tr>\n",
       "    <tr>\n",
       "      <th>1995</th>\n",
       "      <td>1996</td>\n",
       "      <td>421</td>\n",
       "      <td>2593.86</td>\n",
       "    </tr>\n",
       "    <tr>\n",
       "      <th>1996</th>\n",
       "      <td>1997</td>\n",
       "      <td>263</td>\n",
       "      <td>4460.65</td>\n",
       "    </tr>\n",
       "    <tr>\n",
       "      <th>1997</th>\n",
       "      <td>1998</td>\n",
       "      <td>304</td>\n",
       "      <td>2864.80</td>\n",
       "    </tr>\n",
       "    <tr>\n",
       "      <th>1998</th>\n",
       "      <td>1999</td>\n",
       "      <td>334</td>\n",
       "      <td>3719.09</td>\n",
       "    </tr>\n",
       "    <tr>\n",
       "      <th>1999</th>\n",
       "      <td>2000</td>\n",
       "      <td>446</td>\n",
       "      <td>4111.36</td>\n",
       "    </tr>\n",
       "  </tbody>\n",
       "</table>\n",
       "<p>2000 rows × 3 columns</p>\n",
       "</div>"
      ],
      "text/plain": [
       "      payment_id  loan_id  payment_amount\n",
       "0              1      146         4173.75\n",
       "1              2       83         4760.15\n",
       "2              3      148         2155.38\n",
       "3              4       36         1231.63\n",
       "4              5      367         1019.98\n",
       "...          ...      ...             ...\n",
       "1995        1996      421         2593.86\n",
       "1996        1997      263         4460.65\n",
       "1997        1998      304         2864.80\n",
       "1998        1999      334         3719.09\n",
       "1999        2000      446         4111.36\n",
       "\n",
       "[2000 rows x 3 columns]"
      ]
     },
     "execution_count": 73,
     "metadata": {},
     "output_type": "execute_result"
    }
   ],
   "source": [
    "payments_df = pd.read_csv(r\"C:\\Users\\PC\\OneDrive\\Documents\\My docs\\NMD\\Live project\\payments.csv\")\n",
    "payments_df"
   ]
  },
  {
   "cell_type": "code",
   "execution_count": 74,
   "id": "7320f7fa-d89f-42fb-a82d-7eeffccd0ef5",
   "metadata": {},
   "outputs": [
    {
     "name": "stdout",
     "output_type": "stream",
     "text": [
      "<class 'pandas.core.frame.DataFrame'>\n",
      "RangeIndex: 2000 entries, 0 to 1999\n",
      "Data columns (total 3 columns):\n",
      " #   Column          Non-Null Count  Dtype  \n",
      "---  ------          --------------  -----  \n",
      " 0   payment_id      2000 non-null   int64  \n",
      " 1   loan_id         2000 non-null   int64  \n",
      " 2   payment_amount  2000 non-null   float64\n",
      "dtypes: float64(1), int64(2)\n",
      "memory usage: 47.0 KB\n"
     ]
    }
   ],
   "source": [
    "payments_df.info()"
   ]
  },
  {
   "cell_type": "code",
   "execution_count": 75,
   "id": "31fc7957-9b12-4a6e-9146-ae345f125b3e",
   "metadata": {},
   "outputs": [
    {
     "data": {
      "text/html": [
       "<div>\n",
       "<style scoped>\n",
       "    .dataframe tbody tr th:only-of-type {\n",
       "        vertical-align: middle;\n",
       "    }\n",
       "\n",
       "    .dataframe tbody tr th {\n",
       "        vertical-align: top;\n",
       "    }\n",
       "\n",
       "    .dataframe thead th {\n",
       "        text-align: right;\n",
       "    }\n",
       "</style>\n",
       "<table border=\"1\" class=\"dataframe\">\n",
       "  <thead>\n",
       "    <tr style=\"text-align: right;\">\n",
       "      <th></th>\n",
       "      <th>payment_id</th>\n",
       "      <th>loan_id</th>\n",
       "      <th>payment_amount</th>\n",
       "    </tr>\n",
       "  </thead>\n",
       "  <tbody>\n",
       "    <tr>\n",
       "      <th>count</th>\n",
       "      <td>2000.000000</td>\n",
       "      <td>2000.000000</td>\n",
       "      <td>2000.000000</td>\n",
       "    </tr>\n",
       "    <tr>\n",
       "      <th>mean</th>\n",
       "      <td>1000.500000</td>\n",
       "      <td>250.284500</td>\n",
       "      <td>2953.050530</td>\n",
       "    </tr>\n",
       "    <tr>\n",
       "      <th>std</th>\n",
       "      <td>577.494589</td>\n",
       "      <td>145.377119</td>\n",
       "      <td>1182.320543</td>\n",
       "    </tr>\n",
       "    <tr>\n",
       "      <th>min</th>\n",
       "      <td>1.000000</td>\n",
       "      <td>1.000000</td>\n",
       "      <td>1001.930000</td>\n",
       "    </tr>\n",
       "    <tr>\n",
       "      <th>25%</th>\n",
       "      <td>500.750000</td>\n",
       "      <td>126.750000</td>\n",
       "      <td>1899.715000</td>\n",
       "    </tr>\n",
       "    <tr>\n",
       "      <th>50%</th>\n",
       "      <td>1000.500000</td>\n",
       "      <td>251.500000</td>\n",
       "      <td>2938.540000</td>\n",
       "    </tr>\n",
       "    <tr>\n",
       "      <th>75%</th>\n",
       "      <td>1500.250000</td>\n",
       "      <td>379.250000</td>\n",
       "      <td>4013.655000</td>\n",
       "    </tr>\n",
       "    <tr>\n",
       "      <th>max</th>\n",
       "      <td>2000.000000</td>\n",
       "      <td>500.000000</td>\n",
       "      <td>4996.020000</td>\n",
       "    </tr>\n",
       "  </tbody>\n",
       "</table>\n",
       "</div>"
      ],
      "text/plain": [
       "        payment_id      loan_id  payment_amount\n",
       "count  2000.000000  2000.000000     2000.000000\n",
       "mean   1000.500000   250.284500     2953.050530\n",
       "std     577.494589   145.377119     1182.320543\n",
       "min       1.000000     1.000000     1001.930000\n",
       "25%     500.750000   126.750000     1899.715000\n",
       "50%    1000.500000   251.500000     2938.540000\n",
       "75%    1500.250000   379.250000     4013.655000\n",
       "max    2000.000000   500.000000     4996.020000"
      ]
     },
     "execution_count": 75,
     "metadata": {},
     "output_type": "execute_result"
    }
   ],
   "source": [
    "payments_df.describe()"
   ]
  },
  {
   "cell_type": "markdown",
   "id": "9a0f1671-9a8b-40b9-8fc6-24e234f47951",
   "metadata": {},
   "source": [
    "#### Null handeling"
   ]
  },
  {
   "cell_type": "code",
   "execution_count": 76,
   "id": "2a99acd9-74c4-4c61-a259-2315b4a0a62b",
   "metadata": {},
   "outputs": [
    {
     "data": {
      "text/plain": [
       "payment_id        0\n",
       "loan_id           0\n",
       "payment_amount    0\n",
       "dtype: int64"
      ]
     },
     "execution_count": 76,
     "metadata": {},
     "output_type": "execute_result"
    }
   ],
   "source": [
    "payments_df.isnull().sum()"
   ]
  },
  {
   "cell_type": "markdown",
   "id": "90cb626e-e5ec-463d-b793-e47dd923915c",
   "metadata": {},
   "source": [
    "#### Duplicates handeling"
   ]
  },
  {
   "cell_type": "code",
   "execution_count": 77,
   "id": "4ad7fc6c-2efc-48fe-ab34-44f8bb4ee1be",
   "metadata": {},
   "outputs": [
    {
     "data": {
      "text/plain": [
       "np.int64(0)"
      ]
     },
     "execution_count": 77,
     "metadata": {},
     "output_type": "execute_result"
    }
   ],
   "source": [
    "payments_df.duplicated().sum()"
   ]
  },
  {
   "cell_type": "code",
   "execution_count": null,
   "id": "d263408b-ad6c-4ff7-9412-7f7014a15b02",
   "metadata": {},
   "outputs": [],
   "source": []
  },
  {
   "cell_type": "markdown",
   "id": "07aff1bf-460c-46af-98ad-2ac47d863f92",
   "metadata": {},
   "source": [
    "### -------------------------------------------Payments Dataset completed-------------------------------------------------------"
   ]
  },
  {
   "cell_type": "code",
   "execution_count": null,
   "id": "0b8e0090-f3a6-425c-b9f6-7810fce78806",
   "metadata": {},
   "outputs": [],
   "source": []
  },
  {
   "cell_type": "markdown",
   "id": "072ddd06-6632-45ec-9b04-2b28b2cdb450",
   "metadata": {},
   "source": [
    "### Transaction Dataset"
   ]
  },
  {
   "cell_type": "markdown",
   "id": "aafd60ab-ff76-41c7-a72a-30d91942a4bb",
   "metadata": {},
   "source": [
    "#### Data Understanding"
   ]
  },
  {
   "cell_type": "code",
   "execution_count": 78,
   "id": "54d9fefe-f995-4642-8b69-48a8f18fc5e6",
   "metadata": {},
   "outputs": [
    {
     "data": {
      "text/html": [
       "<div>\n",
       "<style scoped>\n",
       "    .dataframe tbody tr th:only-of-type {\n",
       "        vertical-align: middle;\n",
       "    }\n",
       "\n",
       "    .dataframe tbody tr th {\n",
       "        vertical-align: top;\n",
       "    }\n",
       "\n",
       "    .dataframe thead th {\n",
       "        text-align: right;\n",
       "    }\n",
       "</style>\n",
       "<table border=\"1\" class=\"dataframe\">\n",
       "  <thead>\n",
       "    <tr style=\"text-align: right;\">\n",
       "      <th></th>\n",
       "      <th>transaction_id</th>\n",
       "      <th>account_id</th>\n",
       "      <th>transaction_type</th>\n",
       "      <th>amount</th>\n",
       "    </tr>\n",
       "  </thead>\n",
       "  <tbody>\n",
       "    <tr>\n",
       "      <th>0</th>\n",
       "      <td>1302</td>\n",
       "      <td>178</td>\n",
       "      <td>Deposit</td>\n",
       "      <td>3896.27</td>\n",
       "    </tr>\n",
       "    <tr>\n",
       "      <th>1</th>\n",
       "      <td>592</td>\n",
       "      <td>769</td>\n",
       "      <td>Withdrawal</td>\n",
       "      <td>3813.22</td>\n",
       "    </tr>\n",
       "    <tr>\n",
       "      <th>2</th>\n",
       "      <td>1074</td>\n",
       "      <td>791</td>\n",
       "      <td>Withdrawal</td>\n",
       "      <td>665.38</td>\n",
       "    </tr>\n",
       "    <tr>\n",
       "      <th>3</th>\n",
       "      <td>1804</td>\n",
       "      <td>493</td>\n",
       "      <td>Withdrawal</td>\n",
       "      <td>1927.07</td>\n",
       "    </tr>\n",
       "    <tr>\n",
       "      <th>4</th>\n",
       "      <td>30</td>\n",
       "      <td>518</td>\n",
       "      <td>Deposit</td>\n",
       "      <td>1981.06</td>\n",
       "    </tr>\n",
       "    <tr>\n",
       "      <th>...</th>\n",
       "      <td>...</td>\n",
       "      <td>...</td>\n",
       "      <td>...</td>\n",
       "      <td>...</td>\n",
       "    </tr>\n",
       "    <tr>\n",
       "      <th>2056</th>\n",
       "      <td>1639</td>\n",
       "      <td>299</td>\n",
       "      <td>Deposit</td>\n",
       "      <td>1470.71</td>\n",
       "    </tr>\n",
       "    <tr>\n",
       "      <th>2057</th>\n",
       "      <td>1096</td>\n",
       "      <td>926</td>\n",
       "      <td>Withdrawal</td>\n",
       "      <td>2133.12</td>\n",
       "    </tr>\n",
       "    <tr>\n",
       "      <th>2058</th>\n",
       "      <td>1131</td>\n",
       "      <td>512</td>\n",
       "      <td>Deposit</td>\n",
       "      <td>689.72</td>\n",
       "    </tr>\n",
       "    <tr>\n",
       "      <th>2059</th>\n",
       "      <td>1295</td>\n",
       "      <td>657</td>\n",
       "      <td>Withdrawal</td>\n",
       "      <td>786.11</td>\n",
       "    </tr>\n",
       "    <tr>\n",
       "      <th>2060</th>\n",
       "      <td>861</td>\n",
       "      <td>676</td>\n",
       "      <td>Withdrawal</td>\n",
       "      <td>2244.33</td>\n",
       "    </tr>\n",
       "  </tbody>\n",
       "</table>\n",
       "<p>2061 rows × 4 columns</p>\n",
       "</div>"
      ],
      "text/plain": [
       "      transaction_id  account_id transaction_type   amount\n",
       "0               1302         178          Deposit  3896.27\n",
       "1                592         769       Withdrawal  3813.22\n",
       "2               1074         791       Withdrawal   665.38\n",
       "3               1804         493       Withdrawal  1927.07\n",
       "4                 30         518          Deposit  1981.06\n",
       "...              ...         ...              ...      ...\n",
       "2056            1639         299          Deposit  1470.71\n",
       "2057            1096         926       Withdrawal  2133.12\n",
       "2058            1131         512          Deposit   689.72\n",
       "2059            1295         657       Withdrawal   786.11\n",
       "2060             861         676       Withdrawal  2244.33\n",
       "\n",
       "[2061 rows x 4 columns]"
      ]
     },
     "execution_count": 78,
     "metadata": {},
     "output_type": "execute_result"
    }
   ],
   "source": [
    "transaction_df = pd.read_csv(r\"C:\\Users\\PC\\OneDrive\\Documents\\My docs\\NMD\\Live project\\transactionsdata.csv\")\n",
    "transaction_df"
   ]
  },
  {
   "cell_type": "code",
   "execution_count": 79,
   "id": "9bab40c2-549c-473c-a40e-05265c071ef1",
   "metadata": {},
   "outputs": [
    {
     "name": "stdout",
     "output_type": "stream",
     "text": [
      "<class 'pandas.core.frame.DataFrame'>\n",
      "RangeIndex: 2061 entries, 0 to 2060\n",
      "Data columns (total 4 columns):\n",
      " #   Column            Non-Null Count  Dtype  \n",
      "---  ------            --------------  -----  \n",
      " 0   transaction_id    2061 non-null   int64  \n",
      " 1   account_id        2061 non-null   int64  \n",
      " 2   transaction_type  2061 non-null   object \n",
      " 3   amount            2061 non-null   float64\n",
      "dtypes: float64(1), int64(2), object(1)\n",
      "memory usage: 64.5+ KB\n"
     ]
    }
   ],
   "source": [
    "transaction_df.info()"
   ]
  },
  {
   "cell_type": "code",
   "execution_count": 80,
   "id": "497bd436-d4af-4a04-bb77-c6b7a034b83e",
   "metadata": {},
   "outputs": [
    {
     "data": {
      "text/html": [
       "<div>\n",
       "<style scoped>\n",
       "    .dataframe tbody tr th:only-of-type {\n",
       "        vertical-align: middle;\n",
       "    }\n",
       "\n",
       "    .dataframe tbody tr th {\n",
       "        vertical-align: top;\n",
       "    }\n",
       "\n",
       "    .dataframe thead th {\n",
       "        text-align: right;\n",
       "    }\n",
       "</style>\n",
       "<table border=\"1\" class=\"dataframe\">\n",
       "  <thead>\n",
       "    <tr style=\"text-align: right;\">\n",
       "      <th></th>\n",
       "      <th>transaction_id</th>\n",
       "      <th>account_id</th>\n",
       "      <th>amount</th>\n",
       "    </tr>\n",
       "  </thead>\n",
       "  <tbody>\n",
       "    <tr>\n",
       "      <th>count</th>\n",
       "      <td>2061.000000</td>\n",
       "      <td>2061.000000</td>\n",
       "      <td>2061.000000</td>\n",
       "    </tr>\n",
       "    <tr>\n",
       "      <th>mean</th>\n",
       "      <td>972.782145</td>\n",
       "      <td>501.960213</td>\n",
       "      <td>2715.416162</td>\n",
       "    </tr>\n",
       "    <tr>\n",
       "      <th>std</th>\n",
       "      <td>590.622904</td>\n",
       "      <td>286.338586</td>\n",
       "      <td>1299.404268</td>\n",
       "    </tr>\n",
       "    <tr>\n",
       "      <th>min</th>\n",
       "      <td>1.000000</td>\n",
       "      <td>1.000000</td>\n",
       "      <td>501.430000</td>\n",
       "    </tr>\n",
       "    <tr>\n",
       "      <th>25%</th>\n",
       "      <td>455.000000</td>\n",
       "      <td>260.000000</td>\n",
       "      <td>1593.640000</td>\n",
       "    </tr>\n",
       "    <tr>\n",
       "      <th>50%</th>\n",
       "      <td>970.000000</td>\n",
       "      <td>509.000000</td>\n",
       "      <td>2679.030000</td>\n",
       "    </tr>\n",
       "    <tr>\n",
       "      <th>75%</th>\n",
       "      <td>1485.000000</td>\n",
       "      <td>749.000000</td>\n",
       "      <td>3813.220000</td>\n",
       "    </tr>\n",
       "    <tr>\n",
       "      <th>max</th>\n",
       "      <td>2000.000000</td>\n",
       "      <td>1000.000000</td>\n",
       "      <td>4997.960000</td>\n",
       "    </tr>\n",
       "  </tbody>\n",
       "</table>\n",
       "</div>"
      ],
      "text/plain": [
       "       transaction_id   account_id       amount\n",
       "count     2061.000000  2061.000000  2061.000000\n",
       "mean       972.782145   501.960213  2715.416162\n",
       "std        590.622904   286.338586  1299.404268\n",
       "min          1.000000     1.000000   501.430000\n",
       "25%        455.000000   260.000000  1593.640000\n",
       "50%        970.000000   509.000000  2679.030000\n",
       "75%       1485.000000   749.000000  3813.220000\n",
       "max       2000.000000  1000.000000  4997.960000"
      ]
     },
     "execution_count": 80,
     "metadata": {},
     "output_type": "execute_result"
    }
   ],
   "source": [
    "transaction_df.describe()"
   ]
  },
  {
   "cell_type": "code",
   "execution_count": 81,
   "id": "bcec1fca-f297-47ba-86af-da9abe2b147e",
   "metadata": {},
   "outputs": [
    {
     "data": {
      "text/plain": [
       "(2061, 4)"
      ]
     },
     "execution_count": 81,
     "metadata": {},
     "output_type": "execute_result"
    }
   ],
   "source": [
    "transaction_df.shape"
   ]
  },
  {
   "cell_type": "code",
   "execution_count": 82,
   "id": "e6f11332-6fa7-4c58-a3e5-1e41a635a497",
   "metadata": {},
   "outputs": [
    {
     "data": {
      "text/plain": [
       "transaction_id        int64\n",
       "account_id            int64\n",
       "transaction_type     object\n",
       "amount              float64\n",
       "dtype: object"
      ]
     },
     "execution_count": 82,
     "metadata": {},
     "output_type": "execute_result"
    }
   ],
   "source": [
    "transaction_df.dtypes"
   ]
  },
  {
   "cell_type": "markdown",
   "id": "e81fb93f-1235-4c4f-b2ac-4411ad877303",
   "metadata": {},
   "source": [
    "#### Null handeling"
   ]
  },
  {
   "cell_type": "code",
   "execution_count": 83,
   "id": "ec25b79b-9daf-485f-beaf-89b0689cc703",
   "metadata": {},
   "outputs": [
    {
     "data": {
      "text/plain": [
       "transaction_id      0\n",
       "account_id          0\n",
       "transaction_type    0\n",
       "amount              0\n",
       "dtype: int64"
      ]
     },
     "execution_count": 83,
     "metadata": {},
     "output_type": "execute_result"
    }
   ],
   "source": [
    "transaction_df.isnull().sum()"
   ]
  },
  {
   "cell_type": "markdown",
   "id": "7e1c5bed-3f17-43d0-b79f-41ee0f6c1f47",
   "metadata": {},
   "source": [
    "#### Duplicates handeling"
   ]
  },
  {
   "cell_type": "code",
   "execution_count": 84,
   "id": "22a3b1c7-aa02-442f-8852-ce6c1e8d704f",
   "metadata": {},
   "outputs": [
    {
     "data": {
      "text/plain": [
       "np.int64(61)"
      ]
     },
     "execution_count": 84,
     "metadata": {},
     "output_type": "execute_result"
    }
   ],
   "source": [
    "transaction_df.duplicated().sum()"
   ]
  },
  {
   "cell_type": "code",
   "execution_count": 85,
   "id": "0c8d61a2-b62d-454b-8a31-24a71c33d26b",
   "metadata": {},
   "outputs": [
    {
     "name": "stdout",
     "output_type": "stream",
     "text": [
      "{'column_names': ['transaction_id', 'account_id', 'transaction_type', 'amount'], 'duplicate_counts': {'transaction_id': np.int64(61), 'account_id': np.int64(1191), 'transaction_type': np.int64(2059), 'amount': np.int64(65)}}\n"
     ]
    }
   ],
   "source": [
    "print(analyze_dataframe(transaction_df))"
   ]
  },
  {
   "cell_type": "code",
   "execution_count": 86,
   "id": "d124859c-2f8b-4160-9f7f-38f75ca89a4e",
   "metadata": {},
   "outputs": [],
   "source": [
    "transaction_df.drop_duplicates(inplace=True)"
   ]
  },
  {
   "cell_type": "code",
   "execution_count": 87,
   "id": "ade11d46-82da-4616-96be-68f588dcec4b",
   "metadata": {},
   "outputs": [
    {
     "data": {
      "text/plain": [
       "np.int64(0)"
      ]
     },
     "execution_count": 87,
     "metadata": {},
     "output_type": "execute_result"
    }
   ],
   "source": [
    "transaction_df.duplicated().sum()"
   ]
  },
  {
   "cell_type": "code",
   "execution_count": 88,
   "id": "5e582e9b-431a-43fe-8f34-870e53994295",
   "metadata": {},
   "outputs": [
    {
     "name": "stdout",
     "output_type": "stream",
     "text": [
      "<class 'pandas.core.frame.DataFrame'>\n",
      "Index: 2000 entries, 0 to 2060\n",
      "Data columns (total 4 columns):\n",
      " #   Column            Non-Null Count  Dtype  \n",
      "---  ------            --------------  -----  \n",
      " 0   transaction_id    2000 non-null   int64  \n",
      " 1   account_id        2000 non-null   int64  \n",
      " 2   transaction_type  2000 non-null   object \n",
      " 3   amount            2000 non-null   float64\n",
      "dtypes: float64(1), int64(2), object(1)\n",
      "memory usage: 78.1+ KB\n"
     ]
    }
   ],
   "source": [
    "transaction_df.info()"
   ]
  },
  {
   "cell_type": "code",
   "execution_count": null,
   "id": "bbda3858-a7a9-41ea-8135-6d5be152bd11",
   "metadata": {},
   "outputs": [],
   "source": []
  },
  {
   "cell_type": "markdown",
   "id": "85c66ea2-22fd-4733-9448-da087cec4624",
   "metadata": {},
   "source": [
    "### ----------------------------------------------Transaction Data Cleaning Done-------------------------------------------------"
   ]
  },
  {
   "cell_type": "code",
   "execution_count": null,
   "id": "f336e489-b2fc-4a22-9245-18d21de09a5e",
   "metadata": {},
   "outputs": [],
   "source": []
  },
  {
   "cell_type": "markdown",
   "id": "e57f2c7f-6fce-47a7-89ee-a61ff9f11282",
   "metadata": {},
   "source": [
    "## Grouping and Merging of Datasets"
   ]
  },
  {
   "cell_type": "markdown",
   "id": "ab022e55-3d4a-45dc-b8da-ba2497be8e93",
   "metadata": {},
   "source": [
    "### 1. Customer - Account"
   ]
  },
  {
   "cell_type": "code",
   "execution_count": 89,
   "id": "c22cec86-1aa6-4e9e-b253-cf1d04797520",
   "metadata": {},
   "outputs": [
    {
     "data": {
      "text/html": [
       "<div>\n",
       "<style scoped>\n",
       "    .dataframe tbody tr th:only-of-type {\n",
       "        vertical-align: middle;\n",
       "    }\n",
       "\n",
       "    .dataframe tbody tr th {\n",
       "        vertical-align: top;\n",
       "    }\n",
       "\n",
       "    .dataframe thead th {\n",
       "        text-align: right;\n",
       "    }\n",
       "</style>\n",
       "<table border=\"1\" class=\"dataframe\">\n",
       "  <thead>\n",
       "    <tr style=\"text-align: right;\">\n",
       "      <th></th>\n",
       "      <th>customer_id</th>\n",
       "      <th>first_name</th>\n",
       "      <th>last_name</th>\n",
       "      <th>email</th>\n",
       "      <th>address</th>\n",
       "      <th>account_id</th>\n",
       "      <th>branch_id</th>\n",
       "      <th>account_type</th>\n",
       "      <th>balance</th>\n",
       "    </tr>\n",
       "  </thead>\n",
       "  <tbody>\n",
       "    <tr>\n",
       "      <th>0</th>\n",
       "      <td>583.0</td>\n",
       "      <td>Raghav</td>\n",
       "      <td>Sane</td>\n",
       "      <td>jagdish86@example.com</td>\n",
       "      <td>570\\nDara Street, Chennai-240844</td>\n",
       "      <td>713</td>\n",
       "      <td>10</td>\n",
       "      <td>Savings</td>\n",
       "      <td>48342.49</td>\n",
       "    </tr>\n",
       "    <tr>\n",
       "      <th>1</th>\n",
       "      <td>847.0</td>\n",
       "      <td>Avi</td>\n",
       "      <td>Lanka</td>\n",
       "      <td>mmadan@example.net</td>\n",
       "      <td>719, Karpe Ganj\\nGandhidham-140189</td>\n",
       "      <td>970</td>\n",
       "      <td>4</td>\n",
       "      <td>Savings</td>\n",
       "      <td>26393.87</td>\n",
       "    </tr>\n",
       "    <tr>\n",
       "      <th>2</th>\n",
       "      <td>847.0</td>\n",
       "      <td>Avi</td>\n",
       "      <td>Lanka</td>\n",
       "      <td>mmadan@example.net</td>\n",
       "      <td>719, Karpe Ganj\\nGandhidham-140189</td>\n",
       "      <td>254</td>\n",
       "      <td>10</td>\n",
       "      <td>Savings</td>\n",
       "      <td>27506.37</td>\n",
       "    </tr>\n",
       "    <tr>\n",
       "      <th>3</th>\n",
       "      <td>502.0</td>\n",
       "      <td>Max</td>\n",
       "      <td>Bhat</td>\n",
       "      <td>seshadridalbir@example.net</td>\n",
       "      <td>773\\nMaster, Bhalswa Jahangir Pur 811115</td>\n",
       "      <td>934</td>\n",
       "      <td>6</td>\n",
       "      <td>Savings</td>\n",
       "      <td>14060.56</td>\n",
       "    </tr>\n",
       "    <tr>\n",
       "      <th>4</th>\n",
       "      <td>502.0</td>\n",
       "      <td>Max</td>\n",
       "      <td>Bhat</td>\n",
       "      <td>seshadridalbir@example.net</td>\n",
       "      <td>773\\nMaster, Bhalswa Jahangir Pur 811115</td>\n",
       "      <td>168</td>\n",
       "      <td>4</td>\n",
       "      <td>Savings</td>\n",
       "      <td>41205.97</td>\n",
       "    </tr>\n",
       "    <tr>\n",
       "      <th>...</th>\n",
       "      <td>...</td>\n",
       "      <td>...</td>\n",
       "      <td>...</td>\n",
       "      <td>...</td>\n",
       "      <td>...</td>\n",
       "      <td>...</td>\n",
       "      <td>...</td>\n",
       "      <td>...</td>\n",
       "      <td>...</td>\n",
       "    </tr>\n",
       "    <tr>\n",
       "      <th>995</th>\n",
       "      <td>742.0</td>\n",
       "      <td>Yauvani</td>\n",
       "      <td>Kari</td>\n",
       "      <td>quincy61@example.com</td>\n",
       "      <td>90/805, Kothari Street, Ajmer 811449</td>\n",
       "      <td>989</td>\n",
       "      <td>6</td>\n",
       "      <td>Savings</td>\n",
       "      <td>21862.17</td>\n",
       "    </tr>\n",
       "    <tr>\n",
       "      <th>996</th>\n",
       "      <td>371.0</td>\n",
       "      <td>Pranit</td>\n",
       "      <td>Sarna</td>\n",
       "      <td>ishitamorar@example.org</td>\n",
       "      <td>95, Balay Road, Anantapur 658175</td>\n",
       "      <td>868</td>\n",
       "      <td>5</td>\n",
       "      <td>Savings</td>\n",
       "      <td>44289.01</td>\n",
       "    </tr>\n",
       "    <tr>\n",
       "      <th>997</th>\n",
       "      <td>752.0</td>\n",
       "      <td>Faqid</td>\n",
       "      <td>Jain</td>\n",
       "      <td>cchakrabarti@example.com</td>\n",
       "      <td>91\\nKannan Zila\\nSikar-638874</td>\n",
       "      <td>287</td>\n",
       "      <td>6</td>\n",
       "      <td>Savings</td>\n",
       "      <td>30952.90</td>\n",
       "    </tr>\n",
       "    <tr>\n",
       "      <th>998</th>\n",
       "      <td>647.0</td>\n",
       "      <td>Raghav</td>\n",
       "      <td>Batra</td>\n",
       "      <td>garayatin@example.net</td>\n",
       "      <td>99\\nDugal Marg\\nMedininagar-547618</td>\n",
       "      <td>915</td>\n",
       "      <td>9</td>\n",
       "      <td>Savings</td>\n",
       "      <td>14818.51</td>\n",
       "    </tr>\n",
       "    <tr>\n",
       "      <th>999</th>\n",
       "      <td>39.0</td>\n",
       "      <td>Viraj</td>\n",
       "      <td>Boase</td>\n",
       "      <td>xbava@example.com</td>\n",
       "      <td>985\\nVohra Zila, Nangloi Jat 923057</td>\n",
       "      <td>390</td>\n",
       "      <td>5</td>\n",
       "      <td>Savings</td>\n",
       "      <td>25462.52</td>\n",
       "    </tr>\n",
       "  </tbody>\n",
       "</table>\n",
       "<p>1000 rows × 9 columns</p>\n",
       "</div>"
      ],
      "text/plain": [
       "     customer_id first_name last_name                       email  \\\n",
       "0          583.0     Raghav      Sane       jagdish86@example.com   \n",
       "1          847.0        Avi     Lanka          mmadan@example.net   \n",
       "2          847.0        Avi     Lanka          mmadan@example.net   \n",
       "3          502.0        Max      Bhat  seshadridalbir@example.net   \n",
       "4          502.0        Max      Bhat  seshadridalbir@example.net   \n",
       "..           ...        ...       ...                         ...   \n",
       "995        742.0    Yauvani      Kari        quincy61@example.com   \n",
       "996        371.0     Pranit     Sarna     ishitamorar@example.org   \n",
       "997        752.0      Faqid      Jain    cchakrabarti@example.com   \n",
       "998        647.0     Raghav     Batra       garayatin@example.net   \n",
       "999         39.0      Viraj     Boase           xbava@example.com   \n",
       "\n",
       "                                      address  account_id  branch_id  \\\n",
       "0            570\\nDara Street, Chennai-240844         713         10   \n",
       "1          719, Karpe Ganj\\nGandhidham-140189         970          4   \n",
       "2          719, Karpe Ganj\\nGandhidham-140189         254         10   \n",
       "3    773\\nMaster, Bhalswa Jahangir Pur 811115         934          6   \n",
       "4    773\\nMaster, Bhalswa Jahangir Pur 811115         168          4   \n",
       "..                                        ...         ...        ...   \n",
       "995      90/805, Kothari Street, Ajmer 811449         989          6   \n",
       "996          95, Balay Road, Anantapur 658175         868          5   \n",
       "997             91\\nKannan Zila\\nSikar-638874         287          6   \n",
       "998        99\\nDugal Marg\\nMedininagar-547618         915          9   \n",
       "999       985\\nVohra Zila, Nangloi Jat 923057         390          5   \n",
       "\n",
       "    account_type   balance  \n",
       "0        Savings  48342.49  \n",
       "1        Savings  26393.87  \n",
       "2        Savings  27506.37  \n",
       "3        Savings  14060.56  \n",
       "4        Savings  41205.97  \n",
       "..           ...       ...  \n",
       "995      Savings  21862.17  \n",
       "996      Savings  44289.01  \n",
       "997      Savings  30952.90  \n",
       "998      Savings  14818.51  \n",
       "999      Savings  25462.52  \n",
       "\n",
       "[1000 rows x 9 columns]"
      ]
     },
     "execution_count": 89,
     "metadata": {},
     "output_type": "execute_result"
    }
   ],
   "source": [
    "customer_df.merge(account_df)"
   ]
  },
  {
   "cell_type": "code",
   "execution_count": 90,
   "id": "f4c5c984-087d-40b6-8743-925854d49f73",
   "metadata": {},
   "outputs": [
    {
     "data": {
      "text/plain": [
       "customer_id     0\n",
       "first_name      0\n",
       "last_name       0\n",
       "email           0\n",
       "address         0\n",
       "account_id      0\n",
       "branch_id       0\n",
       "account_type    0\n",
       "balance         0\n",
       "dtype: int64"
      ]
     },
     "execution_count": 90,
     "metadata": {},
     "output_type": "execute_result"
    }
   ],
   "source": [
    "customer_df.merge(account_df).isnull().sum()"
   ]
  },
  {
   "cell_type": "code",
   "execution_count": 91,
   "id": "5b7218c6-d7fd-4022-a7a8-c7d7abfcc7d6",
   "metadata": {},
   "outputs": [
    {
     "name": "stdout",
     "output_type": "stream",
     "text": [
      "0\n"
     ]
    }
   ],
   "source": [
    "print(customer_df.merge(account_df).duplicated().sum())"
   ]
  },
  {
   "cell_type": "code",
   "execution_count": null,
   "id": "af6ff136-a4dd-4624-80c5-6a62e03b6245",
   "metadata": {},
   "outputs": [],
   "source": []
  },
  {
   "cell_type": "markdown",
   "id": "6a2803ee-0733-454b-b629-b60369388b14",
   "metadata": {},
   "source": [
    "### 2. Account - Branch"
   ]
  },
  {
   "cell_type": "code",
   "execution_count": 92,
   "id": "7262e2da-6b3a-45a8-9abc-19244071d6d0",
   "metadata": {},
   "outputs": [
    {
     "data": {
      "text/html": [
       "<div>\n",
       "<style scoped>\n",
       "    .dataframe tbody tr th:only-of-type {\n",
       "        vertical-align: middle;\n",
       "    }\n",
       "\n",
       "    .dataframe tbody tr th {\n",
       "        vertical-align: top;\n",
       "    }\n",
       "\n",
       "    .dataframe thead th {\n",
       "        text-align: right;\n",
       "    }\n",
       "</style>\n",
       "<table border=\"1\" class=\"dataframe\">\n",
       "  <thead>\n",
       "    <tr style=\"text-align: right;\">\n",
       "      <th></th>\n",
       "      <th>account_id</th>\n",
       "      <th>customer_id</th>\n",
       "      <th>branch_id</th>\n",
       "      <th>account_type</th>\n",
       "      <th>balance</th>\n",
       "      <th>branch_name</th>\n",
       "      <th>branch_address</th>\n",
       "    </tr>\n",
       "  </thead>\n",
       "  <tbody>\n",
       "    <tr>\n",
       "      <th>0</th>\n",
       "      <td>261</td>\n",
       "      <td>780</td>\n",
       "      <td>9</td>\n",
       "      <td>Savings</td>\n",
       "      <td>39823.92</td>\n",
       "      <td>S19i</td>\n",
       "      <td>41109X</td>\n",
       "    </tr>\n",
       "    <tr>\n",
       "      <th>1</th>\n",
       "      <td>846</td>\n",
       "      <td>711</td>\n",
       "      <td>5</td>\n",
       "      <td>Savings</td>\n",
       "      <td>48574.25</td>\n",
       "      <td>Y15a</td>\n",
       "      <td>41105T</td>\n",
       "    </tr>\n",
       "    <tr>\n",
       "      <th>2</th>\n",
       "      <td>5</td>\n",
       "      <td>226</td>\n",
       "      <td>9</td>\n",
       "      <td>Savings</td>\n",
       "      <td>3631.82</td>\n",
       "      <td>S19i</td>\n",
       "      <td>41109X</td>\n",
       "    </tr>\n",
       "    <tr>\n",
       "      <th>3</th>\n",
       "      <td>89</td>\n",
       "      <td>923</td>\n",
       "      <td>2</td>\n",
       "      <td>Current</td>\n",
       "      <td>3463.25</td>\n",
       "      <td>N12n</td>\n",
       "      <td>41102Q</td>\n",
       "    </tr>\n",
       "    <tr>\n",
       "      <th>4</th>\n",
       "      <td>458</td>\n",
       "      <td>837</td>\n",
       "      <td>3</td>\n",
       "      <td>Savings</td>\n",
       "      <td>4798.15</td>\n",
       "      <td>R13n</td>\n",
       "      <td>41103R</td>\n",
       "    </tr>\n",
       "    <tr>\n",
       "      <th>...</th>\n",
       "      <td>...</td>\n",
       "      <td>...</td>\n",
       "      <td>...</td>\n",
       "      <td>...</td>\n",
       "      <td>...</td>\n",
       "      <td>...</td>\n",
       "      <td>...</td>\n",
       "    </tr>\n",
       "    <tr>\n",
       "      <th>995</th>\n",
       "      <td>88</td>\n",
       "      <td>179</td>\n",
       "      <td>5</td>\n",
       "      <td>Savings</td>\n",
       "      <td>13657.11</td>\n",
       "      <td>Y15a</td>\n",
       "      <td>41105T</td>\n",
       "    </tr>\n",
       "    <tr>\n",
       "      <th>996</th>\n",
       "      <td>331</td>\n",
       "      <td>856</td>\n",
       "      <td>5</td>\n",
       "      <td>Savings</td>\n",
       "      <td>15573.92</td>\n",
       "      <td>Y15a</td>\n",
       "      <td>41105T</td>\n",
       "    </tr>\n",
       "    <tr>\n",
       "      <th>997</th>\n",
       "      <td>467</td>\n",
       "      <td>246</td>\n",
       "      <td>10</td>\n",
       "      <td>Savings</td>\n",
       "      <td>1784.18</td>\n",
       "      <td>M20i</td>\n",
       "      <td>411010Y</td>\n",
       "    </tr>\n",
       "    <tr>\n",
       "      <th>998</th>\n",
       "      <td>122</td>\n",
       "      <td>111</td>\n",
       "      <td>5</td>\n",
       "      <td>Savings</td>\n",
       "      <td>14402.99</td>\n",
       "      <td>Y15a</td>\n",
       "      <td>41105T</td>\n",
       "    </tr>\n",
       "    <tr>\n",
       "      <th>999</th>\n",
       "      <td>861</td>\n",
       "      <td>126</td>\n",
       "      <td>1</td>\n",
       "      <td>Savings</td>\n",
       "      <td>49541.05</td>\n",
       "      <td>O11r</td>\n",
       "      <td>41101P</td>\n",
       "    </tr>\n",
       "  </tbody>\n",
       "</table>\n",
       "<p>1000 rows × 7 columns</p>\n",
       "</div>"
      ],
      "text/plain": [
       "     account_id  customer_id  branch_id account_type   balance branch_name  \\\n",
       "0           261          780          9      Savings  39823.92        S19i   \n",
       "1           846          711          5      Savings  48574.25        Y15a   \n",
       "2             5          226          9      Savings   3631.82        S19i   \n",
       "3            89          923          2      Current   3463.25        N12n   \n",
       "4           458          837          3      Savings   4798.15        R13n   \n",
       "..          ...          ...        ...          ...       ...         ...   \n",
       "995          88          179          5      Savings  13657.11        Y15a   \n",
       "996         331          856          5      Savings  15573.92        Y15a   \n",
       "997         467          246         10      Savings   1784.18        M20i   \n",
       "998         122          111          5      Savings  14402.99        Y15a   \n",
       "999         861          126          1      Savings  49541.05        O11r   \n",
       "\n",
       "    branch_address  \n",
       "0           41109X  \n",
       "1           41105T  \n",
       "2           41109X  \n",
       "3           41102Q  \n",
       "4           41103R  \n",
       "..             ...  \n",
       "995         41105T  \n",
       "996         41105T  \n",
       "997        411010Y  \n",
       "998         41105T  \n",
       "999         41101P  \n",
       "\n",
       "[1000 rows x 7 columns]"
      ]
     },
     "execution_count": 92,
     "metadata": {},
     "output_type": "execute_result"
    }
   ],
   "source": [
    "account_df.merge(branches_df)"
   ]
  },
  {
   "cell_type": "code",
   "execution_count": 93,
   "id": "b586c038-b0d9-4e5b-828c-c46e212a109a",
   "metadata": {},
   "outputs": [
    {
     "data": {
      "text/plain": [
       "account_id        0\n",
       "customer_id       0\n",
       "branch_id         0\n",
       "account_type      0\n",
       "balance           0\n",
       "branch_name       0\n",
       "branch_address    0\n",
       "dtype: int64"
      ]
     },
     "execution_count": 93,
     "metadata": {},
     "output_type": "execute_result"
    }
   ],
   "source": [
    "account_df.merge(branches_df).isna().sum()"
   ]
  },
  {
   "cell_type": "code",
   "execution_count": 94,
   "id": "2b82571a-6275-40db-8bd8-dff953a6a08f",
   "metadata": {},
   "outputs": [
    {
     "name": "stdout",
     "output_type": "stream",
     "text": [
      "0\n"
     ]
    }
   ],
   "source": [
    "print(account_df.merge(branches_df).duplicated().sum())"
   ]
  },
  {
   "cell_type": "markdown",
   "id": "4af5c8d5-f335-4594-b2c3-4ee136fe9524",
   "metadata": {},
   "source": [
    "### 3. Customer - KYC"
   ]
  },
  {
   "cell_type": "code",
   "execution_count": 95,
   "id": "66489749-e86d-4ebc-8f48-9d768376a9fe",
   "metadata": {},
   "outputs": [
    {
     "data": {
      "text/html": [
       "<div>\n",
       "<style scoped>\n",
       "    .dataframe tbody tr th:only-of-type {\n",
       "        vertical-align: middle;\n",
       "    }\n",
       "\n",
       "    .dataframe tbody tr th {\n",
       "        vertical-align: top;\n",
       "    }\n",
       "\n",
       "    .dataframe thead th {\n",
       "        text-align: right;\n",
       "    }\n",
       "</style>\n",
       "<table border=\"1\" class=\"dataframe\">\n",
       "  <thead>\n",
       "    <tr style=\"text-align: right;\">\n",
       "      <th></th>\n",
       "      <th>customer_id</th>\n",
       "      <th>first_name</th>\n",
       "      <th>last_name</th>\n",
       "      <th>email</th>\n",
       "      <th>address</th>\n",
       "      <th>kyc_id</th>\n",
       "      <th>kyc_status</th>\n",
       "    </tr>\n",
       "  </thead>\n",
       "  <tbody>\n",
       "    <tr>\n",
       "      <th>0</th>\n",
       "      <td>583.0</td>\n",
       "      <td>Raghav</td>\n",
       "      <td>Sane</td>\n",
       "      <td>jagdish86@example.com</td>\n",
       "      <td>570\\nDara Street, Chennai-240844</td>\n",
       "      <td>242</td>\n",
       "      <td>Pending</td>\n",
       "    </tr>\n",
       "    <tr>\n",
       "      <th>1</th>\n",
       "      <td>41.0</td>\n",
       "      <td>Mohini</td>\n",
       "      <td>Khare</td>\n",
       "      <td>aadisane@example.net</td>\n",
       "      <td>H.No. 072\\nMistry Nagar\\nShivpuri-529503</td>\n",
       "      <td>104</td>\n",
       "      <td>Completed</td>\n",
       "    </tr>\n",
       "    <tr>\n",
       "      <th>2</th>\n",
       "      <td>500.0</td>\n",
       "      <td>Azad</td>\n",
       "      <td>Ravi</td>\n",
       "      <td>bishakha09@example.org</td>\n",
       "      <td>728, Zachariah Circle, Chandrapur-478829</td>\n",
       "      <td>35</td>\n",
       "      <td>Under Review</td>\n",
       "    </tr>\n",
       "    <tr>\n",
       "      <th>3</th>\n",
       "      <td>502.0</td>\n",
       "      <td>Max</td>\n",
       "      <td>Bhat</td>\n",
       "      <td>seshadridalbir@example.net</td>\n",
       "      <td>773\\nMaster, Bhalswa Jahangir Pur 811115</td>\n",
       "      <td>160</td>\n",
       "      <td>Pending</td>\n",
       "    </tr>\n",
       "    <tr>\n",
       "      <th>4</th>\n",
       "      <td>668.0</td>\n",
       "      <td>Raagini</td>\n",
       "      <td>Saha</td>\n",
       "      <td>hkapur@example.com</td>\n",
       "      <td>148, Dutta Nagar, Morbi-877032</td>\n",
       "      <td>34</td>\n",
       "      <td>Pending</td>\n",
       "    </tr>\n",
       "    <tr>\n",
       "      <th>...</th>\n",
       "      <td>...</td>\n",
       "      <td>...</td>\n",
       "      <td>...</td>\n",
       "      <td>...</td>\n",
       "      <td>...</td>\n",
       "      <td>...</td>\n",
       "      <td>...</td>\n",
       "    </tr>\n",
       "    <tr>\n",
       "      <th>495</th>\n",
       "      <td>511.0</td>\n",
       "      <td>George</td>\n",
       "      <td>Lala</td>\n",
       "      <td>vedant09@example.net</td>\n",
       "      <td>190, Bawa, Aligarh 077275</td>\n",
       "      <td>82</td>\n",
       "      <td>Pending</td>\n",
       "    </tr>\n",
       "    <tr>\n",
       "      <th>496</th>\n",
       "      <td>75.0</td>\n",
       "      <td>Kamala</td>\n",
       "      <td>Vala</td>\n",
       "      <td>nakshchoudhry@example.com</td>\n",
       "      <td>90, Sengupta Zila\\nShahjahanpur 994267</td>\n",
       "      <td>208</td>\n",
       "      <td>Completed</td>\n",
       "    </tr>\n",
       "    <tr>\n",
       "      <th>497</th>\n",
       "      <td>371.0</td>\n",
       "      <td>Pranit</td>\n",
       "      <td>Sarna</td>\n",
       "      <td>ishitamorar@example.org</td>\n",
       "      <td>95, Balay Road, Anantapur 658175</td>\n",
       "      <td>55</td>\n",
       "      <td>Completed</td>\n",
       "    </tr>\n",
       "    <tr>\n",
       "      <th>498</th>\n",
       "      <td>279.0</td>\n",
       "      <td>Nidhi</td>\n",
       "      <td>Sama</td>\n",
       "      <td>ubikachoudhury@example.com</td>\n",
       "      <td>45/96\\nGola Street\\nAmravati 859499</td>\n",
       "      <td>83</td>\n",
       "      <td>Completed</td>\n",
       "    </tr>\n",
       "    <tr>\n",
       "      <th>499</th>\n",
       "      <td>646.0</td>\n",
       "      <td>Simon</td>\n",
       "      <td>Sidhu</td>\n",
       "      <td>sanaya27@example.org</td>\n",
       "      <td>H.No. 33\\nSastry, Vadodara 655911</td>\n",
       "      <td>119</td>\n",
       "      <td>Completed</td>\n",
       "    </tr>\n",
       "  </tbody>\n",
       "</table>\n",
       "<p>500 rows × 7 columns</p>\n",
       "</div>"
      ],
      "text/plain": [
       "     customer_id first_name last_name                       email  \\\n",
       "0          583.0     Raghav      Sane       jagdish86@example.com   \n",
       "1           41.0     Mohini     Khare        aadisane@example.net   \n",
       "2          500.0       Azad      Ravi      bishakha09@example.org   \n",
       "3          502.0        Max      Bhat  seshadridalbir@example.net   \n",
       "4          668.0    Raagini      Saha          hkapur@example.com   \n",
       "..           ...        ...       ...                         ...   \n",
       "495        511.0     George      Lala        vedant09@example.net   \n",
       "496         75.0     Kamala      Vala   nakshchoudhry@example.com   \n",
       "497        371.0     Pranit     Sarna     ishitamorar@example.org   \n",
       "498        279.0      Nidhi      Sama  ubikachoudhury@example.com   \n",
       "499        646.0      Simon     Sidhu        sanaya27@example.org   \n",
       "\n",
       "                                      address  kyc_id    kyc_status  \n",
       "0            570\\nDara Street, Chennai-240844     242       Pending  \n",
       "1    H.No. 072\\nMistry Nagar\\nShivpuri-529503     104     Completed  \n",
       "2    728, Zachariah Circle, Chandrapur-478829      35  Under Review  \n",
       "3    773\\nMaster, Bhalswa Jahangir Pur 811115     160       Pending  \n",
       "4              148, Dutta Nagar, Morbi-877032      34       Pending  \n",
       "..                                        ...     ...           ...  \n",
       "495                 190, Bawa, Aligarh 077275      82       Pending  \n",
       "496    90, Sengupta Zila\\nShahjahanpur 994267     208     Completed  \n",
       "497          95, Balay Road, Anantapur 658175      55     Completed  \n",
       "498       45/96\\nGola Street\\nAmravati 859499      83     Completed  \n",
       "499         H.No. 33\\nSastry, Vadodara 655911     119     Completed  \n",
       "\n",
       "[500 rows x 7 columns]"
      ]
     },
     "execution_count": 95,
     "metadata": {},
     "output_type": "execute_result"
    }
   ],
   "source": [
    "customer_df.merge(kyc_df)"
   ]
  },
  {
   "cell_type": "code",
   "execution_count": 96,
   "id": "6660d72d-ec36-4d9a-ba96-86c4e011677a",
   "metadata": {},
   "outputs": [
    {
     "data": {
      "text/plain": [
       "customer_id    0\n",
       "first_name     0\n",
       "last_name      0\n",
       "email          0\n",
       "address        0\n",
       "kyc_id         0\n",
       "kyc_status     0\n",
       "dtype: int64"
      ]
     },
     "execution_count": 96,
     "metadata": {},
     "output_type": "execute_result"
    }
   ],
   "source": [
    "customer_df.merge(kyc_df).isna().sum()"
   ]
  },
  {
   "cell_type": "code",
   "execution_count": 97,
   "id": "1c04d8ef-b05c-4d9c-9021-bd00a1ac1111",
   "metadata": {},
   "outputs": [
    {
     "name": "stdout",
     "output_type": "stream",
     "text": [
      "0\n"
     ]
    }
   ],
   "source": [
    "print(customer_df.merge(kyc_df).duplicated().sum())"
   ]
  },
  {
   "cell_type": "markdown",
   "id": "bc204a18-d7b1-470b-801b-a8bbb177ebe8",
   "metadata": {},
   "source": [
    "### 4. Customer - Loan"
   ]
  },
  {
   "cell_type": "code",
   "execution_count": 98,
   "id": "1fd4976a-413e-40eb-9381-573eb2891f67",
   "metadata": {},
   "outputs": [
    {
     "data": {
      "text/html": [
       "<div>\n",
       "<style scoped>\n",
       "    .dataframe tbody tr th:only-of-type {\n",
       "        vertical-align: middle;\n",
       "    }\n",
       "\n",
       "    .dataframe tbody tr th {\n",
       "        vertical-align: top;\n",
       "    }\n",
       "\n",
       "    .dataframe thead th {\n",
       "        text-align: right;\n",
       "    }\n",
       "</style>\n",
       "<table border=\"1\" class=\"dataframe\">\n",
       "  <thead>\n",
       "    <tr style=\"text-align: right;\">\n",
       "      <th></th>\n",
       "      <th>customer_id</th>\n",
       "      <th>first_name</th>\n",
       "      <th>last_name</th>\n",
       "      <th>email</th>\n",
       "      <th>address</th>\n",
       "      <th>loan_id</th>\n",
       "      <th>loan_type</th>\n",
       "      <th>loan_amount</th>\n",
       "      <th>interest_rate</th>\n",
       "      <th>loan_status</th>\n",
       "    </tr>\n",
       "  </thead>\n",
       "  <tbody>\n",
       "    <tr>\n",
       "      <th>0</th>\n",
       "      <td>583.0</td>\n",
       "      <td>Raghav</td>\n",
       "      <td>Sane</td>\n",
       "      <td>jagdish86@example.com</td>\n",
       "      <td>570\\nDara Street, Chennai-240844</td>\n",
       "      <td>311</td>\n",
       "      <td>Personal</td>\n",
       "      <td>82235.81</td>\n",
       "      <td>9.34</td>\n",
       "      <td>Active</td>\n",
       "    </tr>\n",
       "    <tr>\n",
       "      <th>1</th>\n",
       "      <td>583.0</td>\n",
       "      <td>Raghav</td>\n",
       "      <td>Sane</td>\n",
       "      <td>jagdish86@example.com</td>\n",
       "      <td>570\\nDara Street, Chennai-240844</td>\n",
       "      <td>490</td>\n",
       "      <td>Personal</td>\n",
       "      <td>121314.55</td>\n",
       "      <td>7.21</td>\n",
       "      <td>Closed</td>\n",
       "    </tr>\n",
       "    <tr>\n",
       "      <th>2</th>\n",
       "      <td>514.0</td>\n",
       "      <td>Abhiram</td>\n",
       "      <td>Suresh</td>\n",
       "      <td>abhiram46@example.net</td>\n",
       "      <td>110, Dhillon Ganj\\nFirozabad 757923</td>\n",
       "      <td>55</td>\n",
       "      <td>Home</td>\n",
       "      <td>32128.65</td>\n",
       "      <td>8.02</td>\n",
       "      <td>Active</td>\n",
       "    </tr>\n",
       "    <tr>\n",
       "      <th>3</th>\n",
       "      <td>514.0</td>\n",
       "      <td>Abhiram</td>\n",
       "      <td>Suresh</td>\n",
       "      <td>abhiram46@example.net</td>\n",
       "      <td>110, Dhillon Ganj\\nFirozabad 757923</td>\n",
       "      <td>218</td>\n",
       "      <td>Personal</td>\n",
       "      <td>304610.38</td>\n",
       "      <td>8.70</td>\n",
       "      <td>Closed</td>\n",
       "    </tr>\n",
       "    <tr>\n",
       "      <th>4</th>\n",
       "      <td>41.0</td>\n",
       "      <td>Mohini</td>\n",
       "      <td>Khare</td>\n",
       "      <td>aadisane@example.net</td>\n",
       "      <td>H.No. 072\\nMistry Nagar\\nShivpuri-529503</td>\n",
       "      <td>42</td>\n",
       "      <td>Auto</td>\n",
       "      <td>465058.76</td>\n",
       "      <td>5.39</td>\n",
       "      <td>Active</td>\n",
       "    </tr>\n",
       "    <tr>\n",
       "      <th>...</th>\n",
       "      <td>...</td>\n",
       "      <td>...</td>\n",
       "      <td>...</td>\n",
       "      <td>...</td>\n",
       "      <td>...</td>\n",
       "      <td>...</td>\n",
       "      <td>...</td>\n",
       "      <td>...</td>\n",
       "      <td>...</td>\n",
       "      <td>...</td>\n",
       "    </tr>\n",
       "    <tr>\n",
       "      <th>495</th>\n",
       "      <td>279.0</td>\n",
       "      <td>Nidhi</td>\n",
       "      <td>Sama</td>\n",
       "      <td>ubikachoudhury@example.com</td>\n",
       "      <td>45/96\\nGola Street\\nAmravati 859499</td>\n",
       "      <td>192</td>\n",
       "      <td>Home</td>\n",
       "      <td>45017.99</td>\n",
       "      <td>5.00</td>\n",
       "      <td>Active</td>\n",
       "    </tr>\n",
       "    <tr>\n",
       "      <th>496</th>\n",
       "      <td>674.0</td>\n",
       "      <td>Fitan</td>\n",
       "      <td>Bose</td>\n",
       "      <td>riyathakkar@example.org</td>\n",
       "      <td>31/06\\nGoswami Nagar, Gandhidham 534332</td>\n",
       "      <td>80</td>\n",
       "      <td>Home</td>\n",
       "      <td>42039.36</td>\n",
       "      <td>7.47</td>\n",
       "      <td>Active</td>\n",
       "    </tr>\n",
       "    <tr>\n",
       "      <th>497</th>\n",
       "      <td>988.0</td>\n",
       "      <td>Veer</td>\n",
       "      <td>Som</td>\n",
       "      <td>hkar@example.com</td>\n",
       "      <td>H.No. 28\\nSha Chowk\\nCuttack-527559</td>\n",
       "      <td>272</td>\n",
       "      <td>Auto</td>\n",
       "      <td>485583.93</td>\n",
       "      <td>6.65</td>\n",
       "      <td>Closed</td>\n",
       "    </tr>\n",
       "    <tr>\n",
       "      <th>498</th>\n",
       "      <td>39.0</td>\n",
       "      <td>Viraj</td>\n",
       "      <td>Boase</td>\n",
       "      <td>xbava@example.com</td>\n",
       "      <td>985\\nVohra Zila, Nangloi Jat 923057</td>\n",
       "      <td>117</td>\n",
       "      <td>Personal</td>\n",
       "      <td>432759.71</td>\n",
       "      <td>8.05</td>\n",
       "      <td>Closed</td>\n",
       "    </tr>\n",
       "    <tr>\n",
       "      <th>499</th>\n",
       "      <td>646.0</td>\n",
       "      <td>Simon</td>\n",
       "      <td>Sidhu</td>\n",
       "      <td>sanaya27@example.org</td>\n",
       "      <td>H.No. 33\\nSastry, Vadodara 655911</td>\n",
       "      <td>104</td>\n",
       "      <td>Auto</td>\n",
       "      <td>112358.94</td>\n",
       "      <td>6.40</td>\n",
       "      <td>Active</td>\n",
       "    </tr>\n",
       "  </tbody>\n",
       "</table>\n",
       "<p>500 rows × 10 columns</p>\n",
       "</div>"
      ],
      "text/plain": [
       "     customer_id first_name last_name                       email  \\\n",
       "0          583.0     Raghav      Sane       jagdish86@example.com   \n",
       "1          583.0     Raghav      Sane       jagdish86@example.com   \n",
       "2          514.0    Abhiram    Suresh       abhiram46@example.net   \n",
       "3          514.0    Abhiram    Suresh       abhiram46@example.net   \n",
       "4           41.0     Mohini     Khare        aadisane@example.net   \n",
       "..           ...        ...       ...                         ...   \n",
       "495        279.0      Nidhi      Sama  ubikachoudhury@example.com   \n",
       "496        674.0      Fitan      Bose     riyathakkar@example.org   \n",
       "497        988.0       Veer       Som            hkar@example.com   \n",
       "498         39.0      Viraj     Boase           xbava@example.com   \n",
       "499        646.0      Simon     Sidhu        sanaya27@example.org   \n",
       "\n",
       "                                      address  loan_id loan_type  loan_amount  \\\n",
       "0            570\\nDara Street, Chennai-240844      311  Personal     82235.81   \n",
       "1            570\\nDara Street, Chennai-240844      490  Personal    121314.55   \n",
       "2         110, Dhillon Ganj\\nFirozabad 757923       55      Home     32128.65   \n",
       "3         110, Dhillon Ganj\\nFirozabad 757923      218  Personal    304610.38   \n",
       "4    H.No. 072\\nMistry Nagar\\nShivpuri-529503       42      Auto    465058.76   \n",
       "..                                        ...      ...       ...          ...   \n",
       "495       45/96\\nGola Street\\nAmravati 859499      192      Home     45017.99   \n",
       "496   31/06\\nGoswami Nagar, Gandhidham 534332       80      Home     42039.36   \n",
       "497       H.No. 28\\nSha Chowk\\nCuttack-527559      272      Auto    485583.93   \n",
       "498       985\\nVohra Zila, Nangloi Jat 923057      117  Personal    432759.71   \n",
       "499         H.No. 33\\nSastry, Vadodara 655911      104      Auto    112358.94   \n",
       "\n",
       "     interest_rate loan_status  \n",
       "0             9.34      Active  \n",
       "1             7.21      Closed  \n",
       "2             8.02      Active  \n",
       "3             8.70      Closed  \n",
       "4             5.39      Active  \n",
       "..             ...         ...  \n",
       "495           5.00      Active  \n",
       "496           7.47      Active  \n",
       "497           6.65      Closed  \n",
       "498           8.05      Closed  \n",
       "499           6.40      Active  \n",
       "\n",
       "[500 rows x 10 columns]"
      ]
     },
     "execution_count": 98,
     "metadata": {},
     "output_type": "execute_result"
    }
   ],
   "source": [
    "customer_df.merge(loan_df)"
   ]
  },
  {
   "cell_type": "code",
   "execution_count": 99,
   "id": "9f79a0f9-be6e-4284-93bd-41385ba5753e",
   "metadata": {},
   "outputs": [
    {
     "data": {
      "text/plain": [
       "customer_id      0\n",
       "first_name       0\n",
       "last_name        0\n",
       "email            0\n",
       "address          0\n",
       "loan_id          0\n",
       "loan_type        0\n",
       "loan_amount      0\n",
       "interest_rate    0\n",
       "loan_status      0\n",
       "dtype: int64"
      ]
     },
     "execution_count": 99,
     "metadata": {},
     "output_type": "execute_result"
    }
   ],
   "source": [
    "customer_df.merge(loan_df).isna().sum()"
   ]
  },
  {
   "cell_type": "code",
   "execution_count": 100,
   "id": "ecb4a9b6-5a1d-4c75-bdf6-0a110127aa2f",
   "metadata": {},
   "outputs": [
    {
     "name": "stdout",
     "output_type": "stream",
     "text": [
      "0\n"
     ]
    }
   ],
   "source": [
    "print(customer_df.merge(loan_df).duplicated().sum())"
   ]
  },
  {
   "cell_type": "markdown",
   "id": "7743bbae-04b6-434f-8aa8-550d58ae62ba",
   "metadata": {},
   "source": [
    "### 5. Loan - Payments"
   ]
  },
  {
   "cell_type": "code",
   "execution_count": 101,
   "id": "07784ebd-14a5-4929-ab06-f40d7b9de8b7",
   "metadata": {},
   "outputs": [
    {
     "data": {
      "text/html": [
       "<div>\n",
       "<style scoped>\n",
       "    .dataframe tbody tr th:only-of-type {\n",
       "        vertical-align: middle;\n",
       "    }\n",
       "\n",
       "    .dataframe tbody tr th {\n",
       "        vertical-align: top;\n",
       "    }\n",
       "\n",
       "    .dataframe thead th {\n",
       "        text-align: right;\n",
       "    }\n",
       "</style>\n",
       "<table border=\"1\" class=\"dataframe\">\n",
       "  <thead>\n",
       "    <tr style=\"text-align: right;\">\n",
       "      <th></th>\n",
       "      <th>payment_id</th>\n",
       "      <th>loan_id</th>\n",
       "      <th>payment_amount</th>\n",
       "      <th>customer_id</th>\n",
       "      <th>loan_type</th>\n",
       "      <th>loan_amount</th>\n",
       "      <th>interest_rate</th>\n",
       "      <th>loan_status</th>\n",
       "    </tr>\n",
       "  </thead>\n",
       "  <tbody>\n",
       "    <tr>\n",
       "      <th>0</th>\n",
       "      <td>1</td>\n",
       "      <td>146</td>\n",
       "      <td>4173.75</td>\n",
       "      <td>648</td>\n",
       "      <td>Personal</td>\n",
       "      <td>482007.06</td>\n",
       "      <td>7.18</td>\n",
       "      <td>Closed</td>\n",
       "    </tr>\n",
       "    <tr>\n",
       "      <th>1</th>\n",
       "      <td>2</td>\n",
       "      <td>83</td>\n",
       "      <td>4760.15</td>\n",
       "      <td>806</td>\n",
       "      <td>Home</td>\n",
       "      <td>284073.92</td>\n",
       "      <td>6.01</td>\n",
       "      <td>Active</td>\n",
       "    </tr>\n",
       "    <tr>\n",
       "      <th>2</th>\n",
       "      <td>3</td>\n",
       "      <td>148</td>\n",
       "      <td>2155.38</td>\n",
       "      <td>752</td>\n",
       "      <td>Auto</td>\n",
       "      <td>233613.15</td>\n",
       "      <td>7.89</td>\n",
       "      <td>Active</td>\n",
       "    </tr>\n",
       "    <tr>\n",
       "      <th>3</th>\n",
       "      <td>4</td>\n",
       "      <td>36</td>\n",
       "      <td>1231.63</td>\n",
       "      <td>280</td>\n",
       "      <td>Personal</td>\n",
       "      <td>15785.99</td>\n",
       "      <td>9.24</td>\n",
       "      <td>Active</td>\n",
       "    </tr>\n",
       "    <tr>\n",
       "      <th>4</th>\n",
       "      <td>5</td>\n",
       "      <td>367</td>\n",
       "      <td>1019.98</td>\n",
       "      <td>70</td>\n",
       "      <td>Personal</td>\n",
       "      <td>252764.01</td>\n",
       "      <td>7.45</td>\n",
       "      <td>Closed</td>\n",
       "    </tr>\n",
       "    <tr>\n",
       "      <th>...</th>\n",
       "      <td>...</td>\n",
       "      <td>...</td>\n",
       "      <td>...</td>\n",
       "      <td>...</td>\n",
       "      <td>...</td>\n",
       "      <td>...</td>\n",
       "      <td>...</td>\n",
       "      <td>...</td>\n",
       "    </tr>\n",
       "    <tr>\n",
       "      <th>1995</th>\n",
       "      <td>1996</td>\n",
       "      <td>421</td>\n",
       "      <td>2593.86</td>\n",
       "      <td>971</td>\n",
       "      <td>Auto</td>\n",
       "      <td>304431.47</td>\n",
       "      <td>5.06</td>\n",
       "      <td>Closed</td>\n",
       "    </tr>\n",
       "    <tr>\n",
       "      <th>1996</th>\n",
       "      <td>1997</td>\n",
       "      <td>263</td>\n",
       "      <td>4460.65</td>\n",
       "      <td>887</td>\n",
       "      <td>Home</td>\n",
       "      <td>191842.91</td>\n",
       "      <td>9.30</td>\n",
       "      <td>Active</td>\n",
       "    </tr>\n",
       "    <tr>\n",
       "      <th>1997</th>\n",
       "      <td>1998</td>\n",
       "      <td>304</td>\n",
       "      <td>2864.80</td>\n",
       "      <td>97</td>\n",
       "      <td>Home</td>\n",
       "      <td>485241.02</td>\n",
       "      <td>5.96</td>\n",
       "      <td>Closed</td>\n",
       "    </tr>\n",
       "    <tr>\n",
       "      <th>1998</th>\n",
       "      <td>1999</td>\n",
       "      <td>334</td>\n",
       "      <td>3719.09</td>\n",
       "      <td>271</td>\n",
       "      <td>Auto</td>\n",
       "      <td>421818.62</td>\n",
       "      <td>7.52</td>\n",
       "      <td>Closed</td>\n",
       "    </tr>\n",
       "    <tr>\n",
       "      <th>1999</th>\n",
       "      <td>2000</td>\n",
       "      <td>446</td>\n",
       "      <td>4111.36</td>\n",
       "      <td>244</td>\n",
       "      <td>Personal</td>\n",
       "      <td>491318.37</td>\n",
       "      <td>9.15</td>\n",
       "      <td>Active</td>\n",
       "    </tr>\n",
       "  </tbody>\n",
       "</table>\n",
       "<p>2000 rows × 8 columns</p>\n",
       "</div>"
      ],
      "text/plain": [
       "      payment_id  loan_id  payment_amount  customer_id loan_type  loan_amount  \\\n",
       "0              1      146         4173.75          648  Personal    482007.06   \n",
       "1              2       83         4760.15          806      Home    284073.92   \n",
       "2              3      148         2155.38          752      Auto    233613.15   \n",
       "3              4       36         1231.63          280  Personal     15785.99   \n",
       "4              5      367         1019.98           70  Personal    252764.01   \n",
       "...          ...      ...             ...          ...       ...          ...   \n",
       "1995        1996      421         2593.86          971      Auto    304431.47   \n",
       "1996        1997      263         4460.65          887      Home    191842.91   \n",
       "1997        1998      304         2864.80           97      Home    485241.02   \n",
       "1998        1999      334         3719.09          271      Auto    421818.62   \n",
       "1999        2000      446         4111.36          244  Personal    491318.37   \n",
       "\n",
       "      interest_rate loan_status  \n",
       "0              7.18      Closed  \n",
       "1              6.01      Active  \n",
       "2              7.89      Active  \n",
       "3              9.24      Active  \n",
       "4              7.45      Closed  \n",
       "...             ...         ...  \n",
       "1995           5.06      Closed  \n",
       "1996           9.30      Active  \n",
       "1997           5.96      Closed  \n",
       "1998           7.52      Closed  \n",
       "1999           9.15      Active  \n",
       "\n",
       "[2000 rows x 8 columns]"
      ]
     },
     "execution_count": 101,
     "metadata": {},
     "output_type": "execute_result"
    }
   ],
   "source": [
    "payments_df.merge(loan_df)"
   ]
  },
  {
   "cell_type": "code",
   "execution_count": 102,
   "id": "1cb61092-2747-4ba0-b48c-088d5f0633ac",
   "metadata": {},
   "outputs": [
    {
     "data": {
      "text/plain": [
       "payment_id        0\n",
       "loan_id           0\n",
       "payment_amount    0\n",
       "customer_id       0\n",
       "loan_type         0\n",
       "loan_amount       0\n",
       "interest_rate     0\n",
       "loan_status       0\n",
       "dtype: int64"
      ]
     },
     "execution_count": 102,
     "metadata": {},
     "output_type": "execute_result"
    }
   ],
   "source": [
    "payments_df.merge(loan_df).isna().sum()"
   ]
  },
  {
   "cell_type": "code",
   "execution_count": 103,
   "id": "212cbb98-eaac-4204-8f20-52a163b33aaa",
   "metadata": {},
   "outputs": [
    {
     "name": "stdout",
     "output_type": "stream",
     "text": [
      "0\n"
     ]
    }
   ],
   "source": [
    "print(payments_df.merge(loan_df).duplicated().sum())"
   ]
  },
  {
   "cell_type": "markdown",
   "id": "77d9410d-2857-4e6b-87a2-09002e06db12",
   "metadata": {},
   "source": [
    "### 6. Account - Transactions"
   ]
  },
  {
   "cell_type": "code",
   "execution_count": 104,
   "id": "140e8455-8692-45f6-99e9-b5128c13828d",
   "metadata": {},
   "outputs": [
    {
     "data": {
      "text/html": [
       "<div>\n",
       "<style scoped>\n",
       "    .dataframe tbody tr th:only-of-type {\n",
       "        vertical-align: middle;\n",
       "    }\n",
       "\n",
       "    .dataframe tbody tr th {\n",
       "        vertical-align: top;\n",
       "    }\n",
       "\n",
       "    .dataframe thead th {\n",
       "        text-align: right;\n",
       "    }\n",
       "</style>\n",
       "<table border=\"1\" class=\"dataframe\">\n",
       "  <thead>\n",
       "    <tr style=\"text-align: right;\">\n",
       "      <th></th>\n",
       "      <th>account_id</th>\n",
       "      <th>customer_id</th>\n",
       "      <th>branch_id</th>\n",
       "      <th>account_type</th>\n",
       "      <th>balance</th>\n",
       "      <th>transaction_id</th>\n",
       "      <th>transaction_type</th>\n",
       "      <th>amount</th>\n",
       "    </tr>\n",
       "  </thead>\n",
       "  <tbody>\n",
       "    <tr>\n",
       "      <th>0</th>\n",
       "      <td>261</td>\n",
       "      <td>780</td>\n",
       "      <td>9</td>\n",
       "      <td>Savings</td>\n",
       "      <td>39823.92</td>\n",
       "      <td>790</td>\n",
       "      <td>Withdrawal</td>\n",
       "      <td>4958.93</td>\n",
       "    </tr>\n",
       "    <tr>\n",
       "      <th>1</th>\n",
       "      <td>261</td>\n",
       "      <td>780</td>\n",
       "      <td>9</td>\n",
       "      <td>Savings</td>\n",
       "      <td>39823.92</td>\n",
       "      <td>9</td>\n",
       "      <td>Withdrawal</td>\n",
       "      <td>2194.14</td>\n",
       "    </tr>\n",
       "    <tr>\n",
       "      <th>2</th>\n",
       "      <td>846</td>\n",
       "      <td>711</td>\n",
       "      <td>5</td>\n",
       "      <td>Savings</td>\n",
       "      <td>48574.25</td>\n",
       "      <td>1190</td>\n",
       "      <td>Withdrawal</td>\n",
       "      <td>2081.64</td>\n",
       "    </tr>\n",
       "    <tr>\n",
       "      <th>3</th>\n",
       "      <td>846</td>\n",
       "      <td>711</td>\n",
       "      <td>5</td>\n",
       "      <td>Savings</td>\n",
       "      <td>48574.25</td>\n",
       "      <td>1986</td>\n",
       "      <td>Withdrawal</td>\n",
       "      <td>1508.35</td>\n",
       "    </tr>\n",
       "    <tr>\n",
       "      <th>4</th>\n",
       "      <td>5</td>\n",
       "      <td>226</td>\n",
       "      <td>9</td>\n",
       "      <td>Savings</td>\n",
       "      <td>3631.82</td>\n",
       "      <td>583</td>\n",
       "      <td>Deposit</td>\n",
       "      <td>4138.82</td>\n",
       "    </tr>\n",
       "    <tr>\n",
       "      <th>...</th>\n",
       "      <td>...</td>\n",
       "      <td>...</td>\n",
       "      <td>...</td>\n",
       "      <td>...</td>\n",
       "      <td>...</td>\n",
       "      <td>...</td>\n",
       "      <td>...</td>\n",
       "      <td>...</td>\n",
       "    </tr>\n",
       "    <tr>\n",
       "      <th>1995</th>\n",
       "      <td>467</td>\n",
       "      <td>246</td>\n",
       "      <td>10</td>\n",
       "      <td>Savings</td>\n",
       "      <td>1784.18</td>\n",
       "      <td>1251</td>\n",
       "      <td>Withdrawal</td>\n",
       "      <td>1666.65</td>\n",
       "    </tr>\n",
       "    <tr>\n",
       "      <th>1996</th>\n",
       "      <td>122</td>\n",
       "      <td>111</td>\n",
       "      <td>5</td>\n",
       "      <td>Savings</td>\n",
       "      <td>14402.99</td>\n",
       "      <td>199</td>\n",
       "      <td>Deposit</td>\n",
       "      <td>723.90</td>\n",
       "    </tr>\n",
       "    <tr>\n",
       "      <th>1997</th>\n",
       "      <td>122</td>\n",
       "      <td>111</td>\n",
       "      <td>5</td>\n",
       "      <td>Savings</td>\n",
       "      <td>14402.99</td>\n",
       "      <td>725</td>\n",
       "      <td>Withdrawal</td>\n",
       "      <td>2891.45</td>\n",
       "    </tr>\n",
       "    <tr>\n",
       "      <th>1998</th>\n",
       "      <td>861</td>\n",
       "      <td>126</td>\n",
       "      <td>1</td>\n",
       "      <td>Savings</td>\n",
       "      <td>49541.05</td>\n",
       "      <td>928</td>\n",
       "      <td>Withdrawal</td>\n",
       "      <td>1169.78</td>\n",
       "    </tr>\n",
       "    <tr>\n",
       "      <th>1999</th>\n",
       "      <td>861</td>\n",
       "      <td>126</td>\n",
       "      <td>1</td>\n",
       "      <td>Savings</td>\n",
       "      <td>49541.05</td>\n",
       "      <td>497</td>\n",
       "      <td>Withdrawal</td>\n",
       "      <td>1436.84</td>\n",
       "    </tr>\n",
       "  </tbody>\n",
       "</table>\n",
       "<p>2000 rows × 8 columns</p>\n",
       "</div>"
      ],
      "text/plain": [
       "      account_id  customer_id  branch_id account_type   balance  \\\n",
       "0            261          780          9      Savings  39823.92   \n",
       "1            261          780          9      Savings  39823.92   \n",
       "2            846          711          5      Savings  48574.25   \n",
       "3            846          711          5      Savings  48574.25   \n",
       "4              5          226          9      Savings   3631.82   \n",
       "...          ...          ...        ...          ...       ...   \n",
       "1995         467          246         10      Savings   1784.18   \n",
       "1996         122          111          5      Savings  14402.99   \n",
       "1997         122          111          5      Savings  14402.99   \n",
       "1998         861          126          1      Savings  49541.05   \n",
       "1999         861          126          1      Savings  49541.05   \n",
       "\n",
       "      transaction_id transaction_type   amount  \n",
       "0                790       Withdrawal  4958.93  \n",
       "1                  9       Withdrawal  2194.14  \n",
       "2               1190       Withdrawal  2081.64  \n",
       "3               1986       Withdrawal  1508.35  \n",
       "4                583          Deposit  4138.82  \n",
       "...              ...              ...      ...  \n",
       "1995            1251       Withdrawal  1666.65  \n",
       "1996             199          Deposit   723.90  \n",
       "1997             725       Withdrawal  2891.45  \n",
       "1998             928       Withdrawal  1169.78  \n",
       "1999             497       Withdrawal  1436.84  \n",
       "\n",
       "[2000 rows x 8 columns]"
      ]
     },
     "execution_count": 104,
     "metadata": {},
     "output_type": "execute_result"
    }
   ],
   "source": [
    "account_df.merge(transaction_df)"
   ]
  },
  {
   "cell_type": "code",
   "execution_count": 105,
   "id": "2b70bd9f-c36d-499e-a78b-ce92d2317207",
   "metadata": {},
   "outputs": [
    {
     "data": {
      "text/plain": [
       "account_id          0\n",
       "customer_id         0\n",
       "branch_id           0\n",
       "account_type        0\n",
       "balance             0\n",
       "transaction_id      0\n",
       "transaction_type    0\n",
       "amount              0\n",
       "dtype: int64"
      ]
     },
     "execution_count": 105,
     "metadata": {},
     "output_type": "execute_result"
    }
   ],
   "source": [
    "account_df.merge(transaction_df).isna().sum()"
   ]
  },
  {
   "cell_type": "code",
   "execution_count": 106,
   "id": "25d67eb3-2b0c-4c09-91b8-9f76dd5fe9e6",
   "metadata": {},
   "outputs": [
    {
     "data": {
      "text/plain": [
       "np.int64(0)"
      ]
     },
     "execution_count": 106,
     "metadata": {},
     "output_type": "execute_result"
    }
   ],
   "source": [
    "account_df.merge(transaction_df).duplicated().sum()"
   ]
  },
  {
   "cell_type": "markdown",
   "id": "1bc1f992-f783-41ae-b276-5b507d0760e7",
   "metadata": {},
   "source": [
    "# Insights Visualization"
   ]
  },
  {
   "cell_type": "markdown",
   "id": "ae255667-0d68-4f56-a5e5-89598f867823",
   "metadata": {},
   "source": [
    "### Branch Performance Analysis"
   ]
  },
  {
   "cell_type": "code",
   "execution_count": 107,
   "id": "b5d5d857-4ca6-471c-b408-0ea4a6bc4584",
   "metadata": {},
   "outputs": [
    {
     "data": {
      "image/png": "[encoded data removed]",
      "text/plain": [
       "<Figure size 640x480 with 1 Axes>"
      ]
     },
     "metadata": {},
     "output_type": "display_data"
    }
   ],
   "source": [
    "# Total number of Savings and Current Accounts per Branch\n",
    "acc_br = account_df.merge(branches_df)\n",
    "acc_br_df = pd.DataFrame(acc_br)\n",
    "account_counts = acc_br_df.groupby('branch_name')['account_type'].value_counts().unstack()\n",
    "\n",
    "account_counts.plot(kind='bar', color=['skyblue', 'lightgreen'])\n",
    "plt.xlabel('Branches')\n",
    "plt.ylabel('Number of Accounts')\n",
    "plt.title('Number of Savings and Current Accounts per Branch')\n",
    "plt.legend(title='Account Type')\n",
    "plt.tight_layout()\n",
    "plt.xticks(rotation=0) \n",
    "plt.show()"
   ]
  },
  {
   "cell_type": "code",
   "execution_count": 108,
   "id": "6c12fe1f-6b4a-439c-9852-2753a326377b",
   "metadata": {},
   "outputs": [
    {
     "data": {
      "image/png": "[encoded data removed]",
      "text/plain": [
       "<Figure size 1500x500 with 1 Axes>"
      ]
     },
     "metadata": {},
     "output_type": "display_data"
    }
   ],
   "source": [
    "# Customer count per Branch\n",
    "customer_per_branch = acc_br_df.groupby(\"branch_name\")[\"customer_id\"].count().reset_index()\n",
    "\n",
    "plt.figure(figsize=(15,5))\n",
    "sns.barplot(data= customer_per_branch, x=\"branch_name\", y= \"customer_id\")\n",
    "plt.title(\"Customer count per Branch\", fontsize= 15)\n",
    "plt.xlabel(\"Branches\", fontsize= 12)\n",
    "plt.ylabel(\"Customers Count\", fontsize=12)\n",
    "plt.show()"
   ]
  },
  {
   "cell_type": "code",
   "execution_count": 109,
   "id": "f9bc6cca-e597-4b26-a45b-066d151a541d",
   "metadata": {},
   "outputs": [
    {
     "data": {
      "image/png": "[encoded data removed]",
      "text/plain": [
       "<Figure size 1000x500 with 1 Axes>"
      ]
     },
     "metadata": {},
     "output_type": "display_data"
    }
   ],
   "source": [
    "# Highest and lowest balance per branch\n",
    "top_customers = acc_br_df.groupby('branch_name')['balance'].max()\n",
    "bottom_customers = acc_br_df.groupby('branch_name')['balance'].min()\n",
    "\n",
    "result_df = pd.DataFrame({'Branch': top_customers.index,\n",
    "                           'Highest Balance': top_customers.values,\n",
    "                           'Lowest Balance': bottom_customers.values})\n",
    "\n",
    "result_df.plot(x='Branch', kind='bar', figsize=(10, 5))\n",
    "plt.title('Highest and Lowest Balance per Branch')\n",
    "plt.ylabel('Balance')\n",
    "plt.xlabel('Branch')\n",
    "plt.xticks(rotation=0)\n",
    "plt.show()"
   ]
  },
  {
   "cell_type": "code",
   "execution_count": 110,
   "id": "aa1b4c7f-bf22-41dc-aa4a-b0331c59de0b",
   "metadata": {},
   "outputs": [
    {
     "data": {
      "image/png": "[encoded data removed]",
      "text/plain": [
       "<Figure size 1000x500 with 1 Axes>"
      ]
     },
     "metadata": {},
     "output_type": "display_data"
    }
   ],
   "source": [
    "# Total number of acconts per branch\n",
    "total_no_acc = acc_br_df.groupby('branch_name')['account_id'].value_counts().reset_index()\n",
    "\n",
    "plt.figure(figsize=(10,5))\n",
    "sns.barplot(data=total_no_acc, x='branch_name', y='account_id', color='orange')\n",
    "plt.title('Total no. of accounts per branch')\n",
    "plt.xlabel('Branch')\n",
    "plt.ylabel('Toatl number of accounts')\n",
    "plt.xticks(rotation=0)\n",
    "plt.show()"
   ]
  },
  {
   "cell_type": "code",
   "execution_count": 111,
   "id": "ffd9b731-8132-4468-984e-a76bb5e20119",
   "metadata": {},
   "outputs": [
    {
     "data": {
      "image/png": "[encoded data removed]",
      "text/plain": [
       "<Figure size 1000x500 with 1 Axes>"
      ]
     },
     "metadata": {},
     "output_type": "display_data"
    }
   ],
   "source": [
    "# Total Balance of all accounts per branch\n",
    "total_bal_per_branch = acc_br_df.groupby('branch_name')['balance'].sum()\n",
    "\n",
    "plt.figure(figsize=(10,5))\n",
    "total_bal_per_branch.plot(kind='bar', figsize=(10,5), color='lightgreen')\n",
    "plt.title('Total Balance per branch')\n",
    "plt.xlabel('Branch')\n",
    "plt.ylabel('Toatl balance')\n",
    "plt.xticks(rotation=0)\n",
    "plt.gca().yaxis.set_major_formatter('{:.0f}'.format)\n",
    "plt.show()"
   ]
  },
  {
   "cell_type": "code",
   "execution_count": 112,
   "id": "432712a2-35ef-44db-9bb6-da37a4e9c890",
   "metadata": {},
   "outputs": [
    {
     "data": {
      "text/plain": [
       "<Figure size 1500x2000 with 0 Axes>"
      ]
     },
     "metadata": {},
     "output_type": "display_data"
    },
    {
     "data": {
      "image/png": "[encoded data removed]",
      "text/plain": [
       "<Figure size 640x480 with 1 Axes>"
      ]
     },
     "metadata": {},
     "output_type": "display_data"
    }
   ],
   "source": [
    "# Balances across different account types per branch\n",
    "types_bal_per_branch = acc_br_df.groupby(['branch_name', 'account_type'])['balance'].sum().unstack()\n",
    "\n",
    "plt.figure(figsize=(15,20))\n",
    "types_bal_per_branch.plot(kind='bar', color=['skyblue', 'blue'])\n",
    "plt.xlabel('Branches')\n",
    "plt.ylabel('Balance')\n",
    "plt.title('Distribution of Balances by Account Type per Branch')\n",
    "plt.legend(title='Account Type')\n",
    "plt.xticks(rotation=0)\n",
    "plt.gca().yaxis.set_major_formatter('{:.0f}'.format)\n",
    "plt.show()"
   ]
  },
  {
   "cell_type": "code",
   "execution_count": 113,
   "id": "81eb58a2-0069-4462-8186-fe895c6ff381",
   "metadata": {},
   "outputs": [
    {
     "data": {
      "image/png": "[encoded data removed]",
      "text/plain": [
       "<Figure size 1000x600 with 1 Axes>"
      ]
     },
     "metadata": {},
     "output_type": "display_data"
    }
   ],
   "source": [
    "# Total no. of transactions processed per branch\n",
    "acc_tran = account_df.merge(transaction_df)\n",
    "acc_tran_df = pd.DataFrame(acc_tran)\n",
    "transaction_count_per_branch = acc_tran_df.groupby('branch_id')['transaction_id'].count()\n",
    "\n",
    "transaction_count_per_branch.plot(kind='bar', figsize=(10, 6), color='darkblue')\n",
    "plt.title('Total Number of Transactions per Branch')\n",
    "plt.xlabel('Branch')\n",
    "plt.ylabel('Number of Transactions')\n",
    "plt.xticks(rotation=0)\n",
    "plt.show()"
   ]
  },
  {
   "cell_type": "code",
   "execution_count": 114,
   "id": "ea3641aa-3beb-4403-a548-9756209e6729",
   "metadata": {},
   "outputs": [
    {
     "data": {
      "image/png": "[encoded data removed]",
      "text/plain": [
       "<Figure size 1000x600 with 1 Axes>"
      ]
     },
     "metadata": {},
     "output_type": "display_data"
    }
   ],
   "source": [
    "# Distribution of transaction types per branch (count)\n",
    "transaction_types_per_branch = acc_tran_df.groupby(['branch_id', 'transaction_type'])['balance'].size().unstack()\n",
    "\n",
    "transaction_types_per_branch.plot(kind='bar', figsize=(10, 6))\n",
    "plt.title('Transactions Types Per Branch')\n",
    "plt.xlabel('Branch')\n",
    "plt.ylabel('Counts')\n",
    "plt.xticks(rotation=0)\n",
    "plt.show()"
   ]
  },
  {
   "cell_type": "markdown",
   "id": "b102230d-2acd-40a6-a8bc-e2a765f0e563",
   "metadata": {},
   "source": [
    "### ----------------------------------Branch Performance Analysis Done-----------------------------------"
   ]
  },
  {
   "cell_type": "code",
   "execution_count": null,
   "id": "1e46c71b-3ad4-4be1-8fd9-b169fb38a3ff",
   "metadata": {},
   "outputs": [],
   "source": []
  },
  {
   "cell_type": "markdown",
   "id": "a386717b-b7ae-41d5-862d-cbff772db6c8",
   "metadata": {},
   "source": [
    "### Customer Behavior Analysis"
   ]
  },
  {
   "cell_type": "code",
   "execution_count": 127,
   "id": "f9c9d7f4-d3c6-4dfa-a478-0e4f926e933c",
   "metadata": {},
   "outputs": [
    {
     "data": {
      "image/png": "[encoded data removed]",
      "text/plain": [
       "<Figure size 800x600 with 1 Axes>"
      ]
     },
     "metadata": {},
     "output_type": "display_data"
    }
   ],
   "source": [
    "# Distribution of Customers by Account Type \n",
    "acc_cus = account_df.merge(customer_df)\n",
    "acc_cus_df = pd.DataFrame(acc_cus)\n",
    "account_type_count = acc_cus_df['account_type'].value_counts()\n",
    "account_type_count.plot(kind='bar', figsize=(8,6))\n",
    "plt.title('Distribution of Customers by Account Type')\n",
    "plt.xlabel('Account Type')\n",
    "plt.ylabel('Number of Customers')\n",
    "plt.xticks(rotation=0)\n",
    "plt.show()"
   ]
  },
  {
   "cell_type": "code",
   "execution_count": 117,
   "id": "73569e3c-117b-49d8-9c4c-29d96f70364e",
   "metadata": {},
   "outputs": [
    {
     "name": "stdout",
     "output_type": "stream",
     "text": [
      "The number of customer having more than 1 active loan is: 87\n"
     ]
    }
   ],
   "source": [
    "# Customers having more than 1 Active loan currently\n",
    "cus_loan = customer_df.merge(loan_df)\n",
    "customer_counts = cus_loan.groupby('customer_id').size()\n",
    "multiple_loans_customers = customer_counts[customer_counts > 1]\n",
    "\n",
    "result_df = customer_df[customer_df['customer_id'].isin(multiple_loans_customers.index)]\n",
    "final_df = result_df[['customer_id']].nunique().sum()\n",
    "print(f\"The number of customer having more than 1 active loan is:\",final_df)"
   ]
  },
  {
   "cell_type": "code",
   "execution_count": 118,
   "id": "fb207993-b43e-4ee7-a2cc-f8ca948f02f9",
   "metadata": {},
   "outputs": [
    {
     "name": "stdout",
     "output_type": "stream",
     "text": [
      "Number of customers with multiple active loans: 23\n"
     ]
    }
   ],
   "source": [
    "cus_loan = customer_df.merge(loan_df)\n",
    "customer_counts = cus_loan.groupby('customer_id').size()\n",
    "multiple_active_loans = loan_df[loan_df['loan_status'] == 'Active'].groupby('customer_id')['loan_status'].count() > 1\n",
    "\n",
    "# Count the number of customers with multiple active loans\n",
    "count = multiple_active_loans.sum()\n",
    "\n",
    "print(\"Number of customers with multiple active loans:\", count)"
   ]
  },
  {
   "cell_type": "code",
   "execution_count": 119,
   "id": "5603d50f-2cb7-4210-bd08-69525176788a",
   "metadata": {},
   "outputs": [
    {
     "data": {
      "image/png": "[encoded data removed]",
      "text/plain": [
       "<Figure size 500x400 with 1 Axes>"
      ]
     },
     "metadata": {},
     "output_type": "display_data"
    }
   ],
   "source": [
    "# Number of Customers having Active loan status\n",
    "count_active_loan_customers = cus_loan[cus_loan['loan_status'] =='Active']\n",
    "customer_counts_by_loan_type = count_active_loan_customers.groupby('loan_type')['customer_id'].nunique()\n",
    "\n",
    "plt.figure(figsize=(5,4))\n",
    "data_labels = sns.barplot(x=customer_counts_by_loan_type.index, y=customer_counts_by_loan_type.values) \n",
    "for container in data_labels.containers:\n",
    "    data_labels.bar_label(container, label_type='edge', fontsize = 8, color='black')\n",
    "plt.xlabel('Loan Type')\n",
    "plt.xlabel('Loan type')\n",
    "plt.ylabel('Active Customers')\n",
    "plt.title('Customers having Active loan status')\n",
    "plt.show()"
   ]
  },
  {
   "cell_type": "code",
   "execution_count": 120,
   "id": "154924cd-e6c1-4982-ad47-0b0c4ed453a3",
   "metadata": {},
   "outputs": [
    {
     "name": "stdout",
     "output_type": "stream",
     "text": [
      "Maximum Loan Amount:  499987.64\n",
      "Minimum Loan Amount:  12196.68\n"
     ]
    }
   ],
   "source": [
    "# Maximum & Minimum Loan Amount\n",
    "loan_pay = loan_df.merge(payments_df)\n",
    "loan_pay\n",
    "\n",
    "maximum_loan_amount = loan_pay['loan_amount'].max()\n",
    "minimum_loan_amount = loan_pay['loan_amount'].min()\n",
    "print(\"Maximum Loan Amount: \", maximum_loan_amount)\n",
    "print(\"Minimum Loan Amount: \", minimum_loan_amount)"
   ]
  },
  {
   "cell_type": "code",
   "execution_count": 121,
   "id": "ee278564-4bea-441f-9b14-5fe020d0c4f0",
   "metadata": {},
   "outputs": [
    {
     "name": "stdout",
     "output_type": "stream",
     "text": [
      "  loan_status  maximum_interest  minimum_interest\n",
      "0      Active              9.98              5.00\n",
      "1      Closed              9.92              5.02\n"
     ]
    }
   ],
   "source": [
    "# Highest and Lowest interest rate for active and closed loan.\n",
    "grouped_df = cus_loan.groupby(['loan_status']).agg(\n",
    "    maximum_interest=('interest_rate', 'max'),\n",
    "    minimum_interest=('interest_rate', 'min')\n",
    ").reset_index()\n",
    "print(grouped_df)"
   ]
  },
  {
   "cell_type": "code",
   "execution_count": 122,
   "id": "a6ab4f0b-4d80-4303-9ac8-3b9434c3b86d",
   "metadata": {},
   "outputs": [
    {
     "data": {
      "image/png": "[encoded data removed]",
      "text/plain": [
       "<Figure size 640x480 with 1 Axes>"
      ]
     },
     "metadata": {},
     "output_type": "display_data"
    }
   ],
   "source": [
    "# Loan status of customers\n",
    "grouped_df = cus_loan.groupby(['loan_status']).size().to_frame(name = 'count').reset_index()\n",
    "custom_colours = ['Gold', 'Orange']\n",
    "plt.pie(grouped_df['count'], labels=grouped_df['loan_status'], autopct='%1.1f%%', startangle=60, colors = custom_colours)\n",
    "plt.title('% of Loan Status of Customers')\n",
    "plt.axis('equal')\n",
    "plt.show()"
   ]
  },
  {
   "cell_type": "code",
   "execution_count": 123,
   "id": "6294e1fe-8ff1-4ff0-8492-8d971213465d",
   "metadata": {},
   "outputs": [
    {
     "name": "stdout",
     "output_type": "stream",
     "text": [
      "  loan_type  maximum_interest  minimum_interest  average_interest\n",
      "0      Auto              9.96              5.05           7.38920\n",
      "1      Home              9.91              5.00           7.55266\n",
      "2  Personal              9.98              5.02           7.47821\n"
     ]
    }
   ],
   "source": [
    "# Highest & Lowest Interest Rate as per loan type\n",
    "grouped_df = cus_loan.groupby(['loan_type']).agg(\n",
    "    maximum_interest=('interest_rate', 'max'),\n",
    "    minimum_interest=('interest_rate', 'min'),\n",
    "    average_interest= ('interest_rate','mean')\n",
    ").reset_index()\n",
    "\n",
    "print(grouped_df)"
   ]
  },
  {
   "cell_type": "code",
   "execution_count": 124,
   "id": "cb1d8aea-833d-4531-abef-251d35709aab",
   "metadata": {},
   "outputs": [
    {
     "data": {
      "image/png": "[encoded data removed]",
      "text/plain": [
       "<Figure size 640x480 with 1 Axes>"
      ]
     },
     "metadata": {},
     "output_type": "display_data"
    }
   ],
   "source": [
    "# Type of Loans customers are perferring most\n",
    "grouped_df = cus_loan.groupby(['loan_type']).size().to_frame(name = 'count').reset_index()\n",
    "plt.pie(grouped_df['count'], labels=grouped_df['loan_type'], autopct='%1.1f%%', startangle=90, colors = ['skyblue', 'blue', 'darkblue'])\n",
    "plt.title('Customer Distribution as per Loan Type')\n",
    "plt.axis('equal')\n",
    "plt.show()"
   ]
  },
  {
   "cell_type": "code",
   "execution_count": 125,
   "id": "8a500398-d9ab-467e-a330-fdd0acca0cb0",
   "metadata": {},
   "outputs": [
    {
     "data": {
      "image/png": "[encoded data removed]",
      "text/plain": [
       "<Figure size 640x480 with 1 Axes>"
      ]
     },
     "metadata": {},
     "output_type": "display_data"
    }
   ],
   "source": [
    "# KYC Status of Customers\n",
    "cus_kyc = customer_df.merge(kyc_df)\n",
    "cus_kyc_df= cus_kyc.groupby(['kyc_status']).size().to_frame(name = 'count').reset_index()\n",
    "plt.pie(cus_kyc_df['count'], labels=cus_kyc_df['kyc_status'], autopct='%1.1f%%', startangle=180)\n",
    "plt.title('Distribution of Customers by KYC Status')\n",
    "plt.axis('equal')\n",
    "plt.show()"
   ]
  },
  {
   "cell_type": "code",
   "execution_count": null,
   "id": "2753c540-f3fb-4140-a019-496bd3538b06",
   "metadata": {},
   "outputs": [],
   "source": []
  }
 ],
 "metadata": {
  "kernelspec": {
   "display_name": "Python 3 (ipykernel)",
   "language": "python",
   "name": "python3"
  },
  "language_info": {
   "codemirror_mode": {
    "name": "ipython",
    "version": 3
   },
   "file_extension": ".py",
   "mimetype": "text/x-python",
   "name": "python",
   "nbconvert_exporter": "python",
   "pygments_lexer": "ipython3",
   "version": "3.12.3"
  }
 },
 "nbformat": 4,
 "nbformat_minor": 5
}
